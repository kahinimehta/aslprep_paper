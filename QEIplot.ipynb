{
 "cells": [
  {
   "cell_type": "code",
   "execution_count": 131,
   "id": "72e78599",
   "metadata": {},
   "outputs": [],
   "source": [
    "library(ggplot2)\n",
    "library(mgcv)\n",
    "library(visreg)\n",
    "library(reshape2)\n",
    "library(ggpubr)\n",
    "library(ggpattern)\n",
    "library(plyr)\n",
    "library(ggsignif)\n",
    "library(lmerTest)\n",
    "library(dplyr)\n",
    "library(broom.mixed)\n",
    "library(sjPlot)\n",
    "library(sjmisc)\n",
    "library(sjlabelled)\n",
    "library(lme4)"
   ]
  },
  {
   "cell_type": "code",
   "execution_count": 132,
   "id": "39cbe153",
   "metadata": {},
   "outputs": [],
   "source": [
    "datax = read.csv('gmdata2.csv')\n",
    "datax = datax[!duplicated(datax),]\n",
    "#head(datax)\n",
    "#dd= subset(pnc, CBFTYPE=='BASIL')\n",
    "#head(dd)"
   ]
  },
  {
   "cell_type": "code",
   "execution_count": 141,
   "id": "b8b21a29",
   "metadata": {},
   "outputs": [
    {
     "data": {
      "text/plain": [
       "Linear mixed model fit by REML. t-tests use Satterthwaite's method [\n",
       "lmerModLmerTest]\n",
       "Formula: QEI ~ CBFTYPE + FD + CBFTYPE * FD + (1 | sub)\n",
       "   Data: pnc\n",
       "\n",
       "REML criterion at convergence: -998.1\n",
       "\n",
       "Scaled residuals: \n",
       "    Min      1Q  Median      3Q     Max \n",
       "-4.4940 -0.2300 -0.0339  0.5424  2.4140 \n",
       "\n",
       "Random effects:\n",
       " Groups   Name        Variance Std.Dev.\n",
       " sub      (Intercept) 0.01074  0.1036  \n",
       " Residual             0.01197  0.1094  \n",
       "Number of obs: 856, groups:  sub, 214\n",
       "\n",
       "Fixed effects:\n",
       "                  Estimate Std. Error         df t value Pr(>|t|)    \n",
       "(Intercept)       0.857566   0.022373 507.518780  38.330  < 2e-16 ***\n",
       "CBFTYPEPVC       -0.079899   0.022972 636.000002  -3.478 0.000539 ***\n",
       "CBFTYPESCBF      -0.104787   0.022972 636.000002  -4.562 6.09e-06 ***\n",
       "CBFTYPESCRUB      0.008212   0.022972 636.000002   0.357 0.720858    \n",
       "FD               -0.241709   0.098620 507.518781  -2.451 0.014586 *  \n",
       "CBFTYPEPVC:FD     0.034202   0.101258 636.000002   0.338 0.735648    \n",
       "CBFTYPESCBF:FD   -0.220280   0.101258 636.000002  -2.175 0.029965 *  \n",
       "CBFTYPESCRUB:FD   0.099630   0.101258 636.000002   0.984 0.325530    \n",
       "---\n",
       "Signif. codes:  0 ‘***’ 0.001 ‘**’ 0.01 ‘*’ 0.05 ‘.’ 0.1 ‘ ’ 1\n",
       "\n",
       "Correlation of Fixed Effects:\n",
       "              (Intr) CBFTYPEPVC CBFTYPESCBF CBFTYPESCRUB FD     CBFTYPEPVC:\n",
       "CBFTYPEPVC    -0.513                                                       \n",
       "CBFTYPESCBF   -0.513  0.500                                                \n",
       "CBFTYPESCRUB  -0.513  0.500      0.500                                     \n",
       "FD            -0.888  0.456      0.456       0.456                         \n",
       "CBFTYPEPVC:    0.456 -0.888     -0.444      -0.444       -0.513            \n",
       "CBFTYPESCBF:   0.456 -0.444     -0.888      -0.444       -0.513  0.500     \n",
       "CBFTYPESCRUB:  0.456 -0.444     -0.444      -0.888       -0.513  0.500     \n",
       "              CBFTYPESCBF:\n",
       "CBFTYPEPVC                \n",
       "CBFTYPESCBF               \n",
       "CBFTYPESCRUB              \n",
       "FD                        \n",
       "CBFTYPEPVC:               \n",
       "CBFTYPESCBF:              \n",
       "CBFTYPESCRUB:  0.500      "
      ]
     },
     "metadata": {},
     "output_type": "display_data"
    }
   ],
   "source": [
    "\n",
    "pnc <- subset(datax, Datasets=='IRR')\n",
    "#pnc = na.omit(pnc)\n",
    "#pnc.cen <- pnc$QEI - mean(pnc$QEI)\n",
    "\n",
    "pnc.model <- lmer(QEI ~ CBFTYPE + FD + CBFTYPE*FD  + (1 | sub ), data=pnc)\n",
    "\n",
    "summary(pnc.model)\n",
    "\n",
    "#ggplot(pnc, aes(x=QEI, fill=CBFTYPE)) + geom_histogram()\n"
   ]
  },
  {
   "cell_type": "code",
   "execution_count": 39,
   "id": "6ddddfcc",
   "metadata": {},
   "outputs": [
    {
     "data": {
      "text/html": [
       "<style>\n",
       ".list-inline {list-style: none; margin:0; padding: 0}\n",
       ".list-inline>li {display: inline-block}\n",
       ".list-inline>li:not(:last-child)::after {content: \"\\00b7\"; padding: 0 .5ex}\n",
       "</style>\n",
       "<ol class=list-inline><li>'SCBF'</li><li>'SCRUB'</li><li>'FSL'</li><li>'PVC'</li></ol>\n"
      ],
      "text/latex": [
       "\\begin{enumerate*}\n",
       "\\item 'SCBF'\n",
       "\\item 'SCRUB'\n",
       "\\item 'FSL'\n",
       "\\item 'PVC'\n",
       "\\end{enumerate*}\n"
      ],
      "text/markdown": [
       "1. 'SCBF'\n",
       "2. 'SCRUB'\n",
       "3. 'FSL'\n",
       "4. 'PVC'\n",
       "\n",
       "\n"
      ],
      "text/plain": [
       "[1] \"SCBF\"  \"SCRUB\" \"FSL\"   \"PVC\"  "
      ]
     },
     "metadata": {},
     "output_type": "display_data"
    }
   ],
   "source": [
    "basil = subset(pnc, CBFTYPE == 'FSL')\n",
    "#head(basil)\n",
    "scbf = subset(pnc, CBFTYPE == 'SCBF')\n",
    "unique(pnc$CBFTYPE)"
   ]
  },
  {
   "cell_type": "code",
   "execution_count": 137,
   "id": "1cee4277",
   "metadata": {},
   "outputs": [
    {
     "data": {
      "text/html": [
       "<table class=\"dataframe\">\n",
       "<caption>A matrix: 8 × 5 of type dbl</caption>\n",
       "<thead>\n",
       "\t<tr><th></th><th scope=col>Estimate</th><th scope=col>Std. Error</th><th scope=col>df</th><th scope=col>t value</th><th scope=col>Pr(&gt;|t|)</th></tr>\n",
       "</thead>\n",
       "<tbody>\n",
       "\t<tr><th scope=row>(Intercept)</th><td> 0.819137925</td><td>0.004811963</td><td>6637.168</td><td>170.2294597</td><td> 0.000000e+00</td></tr>\n",
       "\t<tr><th scope=row>CBFTYPEPVC</th><td>-0.002163319</td><td>0.006720474</td><td>5816.399</td><td> -0.3218998</td><td> 7.475402e-01</td></tr>\n",
       "\t<tr><th scope=row>CBFTYPESCBF</th><td>-0.162264325</td><td>0.006720474</td><td>5816.399</td><td>-24.1447729</td><td>7.913283e-123</td></tr>\n",
       "\t<tr><th scope=row>CBFTYPESCRUB</th><td>-0.017152642</td><td>0.006720474</td><td>5816.399</td><td> -2.5522964</td><td> 1.072688e-02</td></tr>\n",
       "\t<tr><th scope=row>FD</th><td>-0.050562259</td><td>0.024376181</td><td>6646.560</td><td> -2.0742486</td><td> 3.809464e-02</td></tr>\n",
       "\t<tr><th scope=row>CBFTYPEPVC:FD</th><td> 0.037767136</td><td>0.034052334</td><td>5816.399</td><td>  1.1090910</td><td> 2.674368e-01</td></tr>\n",
       "\t<tr><th scope=row>CBFTYPESCBF:FD</th><td>-0.326830973</td><td>0.034052334</td><td>5816.399</td><td> -9.5979022</td><td> 1.179711e-21</td></tr>\n",
       "\t<tr><th scope=row>CBFTYPESCRUB:FD</th><td>-0.065343676</td><td>0.034052334</td><td>5816.399</td><td> -1.9189191</td><td> 5.504345e-02</td></tr>\n",
       "</tbody>\n",
       "</table>\n"
      ],
      "text/latex": [
       "A matrix: 8 × 5 of type dbl\n",
       "\\begin{tabular}{r|lllll}\n",
       "  & Estimate & Std. Error & df & t value & Pr(>\\textbar{}t\\textbar{})\\\\\n",
       "\\hline\n",
       "\t(Intercept) &  0.819137925 & 0.004811963 & 6637.168 & 170.2294597 &  0.000000e+00\\\\\n",
       "\tCBFTYPEPVC & -0.002163319 & 0.006720474 & 5816.399 &  -0.3218998 &  7.475402e-01\\\\\n",
       "\tCBFTYPESCBF & -0.162264325 & 0.006720474 & 5816.399 & -24.1447729 & 7.913283e-123\\\\\n",
       "\tCBFTYPESCRUB & -0.017152642 & 0.006720474 & 5816.399 &  -2.5522964 &  1.072688e-02\\\\\n",
       "\tFD & -0.050562259 & 0.024376181 & 6646.560 &  -2.0742486 &  3.809464e-02\\\\\n",
       "\tCBFTYPEPVC:FD &  0.037767136 & 0.034052334 & 5816.399 &   1.1090910 &  2.674368e-01\\\\\n",
       "\tCBFTYPESCBF:FD & -0.326830973 & 0.034052334 & 5816.399 &  -9.5979022 &  1.179711e-21\\\\\n",
       "\tCBFTYPESCRUB:FD & -0.065343676 & 0.034052334 & 5816.399 &  -1.9189191 &  5.504345e-02\\\\\n",
       "\\end{tabular}\n"
      ],
      "text/markdown": [
       "\n",
       "A matrix: 8 × 5 of type dbl\n",
       "\n",
       "| <!--/--> | Estimate | Std. Error | df | t value | Pr(&gt;|t|) |\n",
       "|---|---|---|---|---|---|\n",
       "| (Intercept) |  0.819137925 | 0.004811963 | 6637.168 | 170.2294597 |  0.000000e+00 |\n",
       "| CBFTYPEPVC | -0.002163319 | 0.006720474 | 5816.399 |  -0.3218998 |  7.475402e-01 |\n",
       "| CBFTYPESCBF | -0.162264325 | 0.006720474 | 5816.399 | -24.1447729 | 7.913283e-123 |\n",
       "| CBFTYPESCRUB | -0.017152642 | 0.006720474 | 5816.399 |  -2.5522964 |  1.072688e-02 |\n",
       "| FD | -0.050562259 | 0.024376181 | 6646.560 |  -2.0742486 |  3.809464e-02 |\n",
       "| CBFTYPEPVC:FD |  0.037767136 | 0.034052334 | 5816.399 |   1.1090910 |  2.674368e-01 |\n",
       "| CBFTYPESCBF:FD | -0.326830973 | 0.034052334 | 5816.399 |  -9.5979022 |  1.179711e-21 |\n",
       "| CBFTYPESCRUB:FD | -0.065343676 | 0.034052334 | 5816.399 |  -1.9189191 |  5.504345e-02 |\n",
       "\n"
      ],
      "text/plain": [
       "                Estimate     Std. Error  df       t value     Pr(>|t|)     \n",
       "(Intercept)      0.819137925 0.004811963 6637.168 170.2294597  0.000000e+00\n",
       "CBFTYPEPVC      -0.002163319 0.006720474 5816.399  -0.3218998  7.475402e-01\n",
       "CBFTYPESCBF     -0.162264325 0.006720474 5816.399 -24.1447729 7.913283e-123\n",
       "CBFTYPESCRUB    -0.017152642 0.006720474 5816.399  -2.5522964  1.072688e-02\n",
       "FD              -0.050562259 0.024376181 6646.560  -2.0742486  3.809464e-02\n",
       "CBFTYPEPVC:FD    0.037767136 0.034052334 5816.399   1.1090910  2.674368e-01\n",
       "CBFTYPESCBF:FD  -0.326830973 0.034052334 5816.399  -9.5979022  1.179711e-21\n",
       "CBFTYPESCRUB:FD -0.065343676 0.034052334 5816.399  -1.9189191  5.504345e-02"
      ]
     },
     "metadata": {},
     "output_type": "display_data"
    }
   ],
   "source": [
    "summary(pnc.model)$coefficients"
   ]
  },
  {
   "cell_type": "code",
   "execution_count": null,
   "id": "90872109",
   "metadata": {},
   "outputs": [],
   "source": [
    "write.table('file.txt',spnc.model$coefficients)"
   ]
  },
  {
   "cell_type": "code",
   "execution_count": 8,
   "id": "016be66f",
   "metadata": {},
   "outputs": [
    {
     "ename": "ERROR",
     "evalue": "Error in pnc.model$coefficients: $ operator not defined for this S4 class\n",
     "output_type": "error",
     "traceback": [
      "Error in pnc.model$coefficients: $ operator not defined for this S4 class\nTraceback:\n",
      "1. p.adjust(pnc.model$coefficients)"
     ]
    }
   ],
   "source": [
    "p.adjust(pnc.model$coefficients)"
   ]
  },
  {
   "cell_type": "code",
   "execution_count": null,
   "id": "205873fe",
   "metadata": {},
   "outputs": [],
   "source": [
    "dd = tidy(pnc.model)\n",
    "dd$p.bonf  = p.adjust(dd$p.value)\n",
    "#dd\n",
    "\n",
    "tablex = cbind(dd$term,dd$estimate,dd$std.error,dd$statistic,dd$df,dd$p.value,dd$p.bonf)\n",
    "tablex"
   ]
  },
  {
   "cell_type": "code",
   "execution_count": 139,
   "id": "20bbc7f6",
   "metadata": {},
   "outputs": [
    {
     "data": {
      "text/html": [
       "<table class=\"dataframe\">\n",
       "<caption>A data.frame: 8 × 7</caption>\n",
       "<thead>\n",
       "\t<tr><th scope=col>Term</th><th scope=col>Estimate</th><th scope=col>Std.Error</th><th scope=col>tStatistic</th><th scope=col>df</th><th scope=col>pvalue</th><th scope=col>pvaluebonf</th></tr>\n",
       "\t<tr><th scope=col>&lt;chr&gt;</th><th scope=col>&lt;dbl&gt;</th><th scope=col>&lt;dbl&gt;</th><th scope=col>&lt;dbl&gt;</th><th scope=col>&lt;dbl&gt;</th><th scope=col>&lt;dbl&gt;</th><th scope=col>&lt;dbl&gt;</th></tr>\n",
       "</thead>\n",
       "<tbody>\n",
       "\t<tr><td>(Intercept)    </td><td> 0.8191</td><td>0.0048</td><td>170.2295</td><td>6637</td><td> 0.000e+00</td><td> 0.000e+00</td></tr>\n",
       "\t<tr><td>CBFTYPEPVC     </td><td>-0.0022</td><td>0.0067</td><td> -0.3219</td><td>5816</td><td> 7.475e-01</td><td> 7.475e-01</td></tr>\n",
       "\t<tr><td>CBFTYPESCBF    </td><td>-0.1623</td><td>0.0067</td><td>-24.1448</td><td>5816</td><td>7.913e-123</td><td>5.539e-122</td></tr>\n",
       "\t<tr><td>CBFTYPESCRUB   </td><td>-0.0172</td><td>0.0067</td><td> -2.5523</td><td>5816</td><td> 1.073e-02</td><td> 5.363e-02</td></tr>\n",
       "\t<tr><td>FD             </td><td>-0.0506</td><td>0.0244</td><td> -2.0742</td><td>6647</td><td> 3.809e-02</td><td> 1.524e-01</td></tr>\n",
       "\t<tr><td>CBFTYPEPVC:FD  </td><td> 0.0378</td><td>0.0341</td><td>  1.1091</td><td>5816</td><td> 2.674e-01</td><td> 5.349e-01</td></tr>\n",
       "\t<tr><td>CBFTYPESCBF:FD </td><td>-0.3268</td><td>0.0341</td><td> -9.5979</td><td>5816</td><td> 1.180e-21</td><td> 7.078e-21</td></tr>\n",
       "\t<tr><td>CBFTYPESCRUB:FD</td><td>-0.0653</td><td>0.0341</td><td> -1.9189</td><td>5816</td><td> 5.504e-02</td><td> 1.651e-01</td></tr>\n",
       "</tbody>\n",
       "</table>\n"
      ],
      "text/latex": [
       "A data.frame: 8 × 7\n",
       "\\begin{tabular}{lllllll}\n",
       " Term & Estimate & Std.Error & tStatistic & df & pvalue & pvaluebonf\\\\\n",
       " <chr> & <dbl> & <dbl> & <dbl> & <dbl> & <dbl> & <dbl>\\\\\n",
       "\\hline\n",
       "\t (Intercept)     &  0.8191 & 0.0048 & 170.2295 & 6637 &  0.000e+00 &  0.000e+00\\\\\n",
       "\t CBFTYPEPVC      & -0.0022 & 0.0067 &  -0.3219 & 5816 &  7.475e-01 &  7.475e-01\\\\\n",
       "\t CBFTYPESCBF     & -0.1623 & 0.0067 & -24.1448 & 5816 & 7.913e-123 & 5.539e-122\\\\\n",
       "\t CBFTYPESCRUB    & -0.0172 & 0.0067 &  -2.5523 & 5816 &  1.073e-02 &  5.363e-02\\\\\n",
       "\t FD              & -0.0506 & 0.0244 &  -2.0742 & 6647 &  3.809e-02 &  1.524e-01\\\\\n",
       "\t CBFTYPEPVC:FD   &  0.0378 & 0.0341 &   1.1091 & 5816 &  2.674e-01 &  5.349e-01\\\\\n",
       "\t CBFTYPESCBF:FD  & -0.3268 & 0.0341 &  -9.5979 & 5816 &  1.180e-21 &  7.078e-21\\\\\n",
       "\t CBFTYPESCRUB:FD & -0.0653 & 0.0341 &  -1.9189 & 5816 &  5.504e-02 &  1.651e-01\\\\\n",
       "\\end{tabular}\n"
      ],
      "text/markdown": [
       "\n",
       "A data.frame: 8 × 7\n",
       "\n",
       "| Term &lt;chr&gt; | Estimate &lt;dbl&gt; | Std.Error &lt;dbl&gt; | tStatistic &lt;dbl&gt; | df &lt;dbl&gt; | pvalue &lt;dbl&gt; | pvaluebonf &lt;dbl&gt; |\n",
       "|---|---|---|---|---|---|---|\n",
       "| (Intercept)     |  0.8191 | 0.0048 | 170.2295 | 6637 |  0.000e+00 |  0.000e+00 |\n",
       "| CBFTYPEPVC      | -0.0022 | 0.0067 |  -0.3219 | 5816 |  7.475e-01 |  7.475e-01 |\n",
       "| CBFTYPESCBF     | -0.1623 | 0.0067 | -24.1448 | 5816 | 7.913e-123 | 5.539e-122 |\n",
       "| CBFTYPESCRUB    | -0.0172 | 0.0067 |  -2.5523 | 5816 |  1.073e-02 |  5.363e-02 |\n",
       "| FD              | -0.0506 | 0.0244 |  -2.0742 | 6647 |  3.809e-02 |  1.524e-01 |\n",
       "| CBFTYPEPVC:FD   |  0.0378 | 0.0341 |   1.1091 | 5816 |  2.674e-01 |  5.349e-01 |\n",
       "| CBFTYPESCBF:FD  | -0.3268 | 0.0341 |  -9.5979 | 5816 |  1.180e-21 |  7.078e-21 |\n",
       "| CBFTYPESCRUB:FD | -0.0653 | 0.0341 |  -1.9189 | 5816 |  5.504e-02 |  1.651e-01 |\n",
       "\n"
      ],
      "text/plain": [
       "  Term            Estimate Std.Error tStatistic df   pvalue     pvaluebonf\n",
       "1 (Intercept)      0.8191  0.0048    170.2295   6637  0.000e+00  0.000e+00\n",
       "2 CBFTYPEPVC      -0.0022  0.0067     -0.3219   5816  7.475e-01  7.475e-01\n",
       "3 CBFTYPESCBF     -0.1623  0.0067    -24.1448   5816 7.913e-123 5.539e-122\n",
       "4 CBFTYPESCRUB    -0.0172  0.0067     -2.5523   5816  1.073e-02  5.363e-02\n",
       "5 FD              -0.0506  0.0244     -2.0742   6647  3.809e-02  1.524e-01\n",
       "6 CBFTYPEPVC:FD    0.0378  0.0341      1.1091   5816  2.674e-01  5.349e-01\n",
       "7 CBFTYPESCBF:FD  -0.3268  0.0341     -9.5979   5816  1.180e-21  7.078e-21\n",
       "8 CBFTYPESCRUB:FD -0.0653  0.0341     -1.9189   5816  5.504e-02  1.651e-01"
      ]
     },
     "metadata": {},
     "output_type": "display_data"
    }
   ],
   "source": [
    "\n",
    "dd = tidy(pnc.model)\n",
    "dd$p.bonf  = p.adjust(dd$p.value)\n",
    "#dd\n",
    "\n",
    "tablex = cbind(dd$term,dd$estimate,dd$std.error,dd$statistic,dd$df,dd$p.value,dd$p.bonf)\n",
    "#tablex\n",
    "colnames(tablex)=c('Term','Estimate','Std.Error','tStatistic','df','pvalue','pvaluebonf')\n",
    "tablex = tablex [complete.cases(tablex ), ]\n",
    "tablex =data.frame(tablex)\n",
    "tablex$Estimate=round(as.numeric(tablex$Estimate),4)\n",
    "tablex$Std.Error=round(as.numeric(tablex$Std.Error),4)\n",
    "tablex$tStatistic=round(as.numeric(tablex$tStatistic),4)\n",
    "tablex$df=round(as.numeric(tablex$df),0)\n",
    "tablex$pvalue = signif(as.numeric(tablex$pvalue),4)\n",
    "tablex$pvaluebonf = signif(as.numeric(tablex$pvaluebonf),4)\n",
    "tablex"
   ]
  },
  {
   "cell_type": "code",
   "execution_count": 135,
   "id": "2cffe2ff",
   "metadata": {},
   "outputs": [],
   "source": [
    "write.table(tablex,file = \"pncmodeltest.txt\",quote=F, row.names=F,sep = \"   \")"
   ]
  },
  {
   "cell_type": "code",
   "execution_count": 43,
   "id": "25873db7",
   "metadata": {},
   "outputs": [
    {
     "data": {
      "text/plain": [
       "Linear mixed model fit by REML. t-tests use Satterthwaite's method [\n",
       "lmerModLmerTest]\n",
       "Formula: QEI ~ FD + CBFTYPE * FD + (1 | sub)\n",
       "   Data: pnc\n",
       "\n",
       "REML criterion at convergence: -998.1\n",
       "\n",
       "Scaled residuals: \n",
       "    Min      1Q  Median      3Q     Max \n",
       "-4.4940 -0.2300 -0.0339  0.5424  2.4140 \n",
       "\n",
       "Random effects:\n",
       " Groups   Name        Variance Std.Dev.\n",
       " sub      (Intercept) 0.01074  0.1036  \n",
       " Residual             0.01197  0.1094  \n",
       "Number of obs: 856, groups:  sub, 214\n",
       "\n",
       "Fixed effects:\n",
       "                  Estimate Std. Error         df t value Pr(>|t|)    \n",
       "(Intercept)       0.857566   0.022373 507.518777  38.330  < 2e-16 ***\n",
       "FD               -0.241709   0.098620 507.518778  -2.451 0.014586 *  \n",
       "CBFTYPEPVC       -0.079899   0.022972 636.000002  -3.478 0.000539 ***\n",
       "CBFTYPESCBF      -0.104787   0.022972 636.000002  -4.562 6.09e-06 ***\n",
       "CBFTYPESCRUB      0.008212   0.022972 636.000002   0.357 0.720858    \n",
       "FD:CBFTYPEPVC     0.034202   0.101258 636.000002   0.338 0.735648    \n",
       "FD:CBFTYPESCBF   -0.220280   0.101258 636.000002  -2.175 0.029965 *  \n",
       "FD:CBFTYPESCRUB   0.099630   0.101258 636.000002   0.984 0.325530    \n",
       "---\n",
       "Signif. codes:  0 ‘***’ 0.001 ‘**’ 0.01 ‘*’ 0.05 ‘.’ 0.1 ‘ ’ 1\n",
       "\n",
       "Correlation of Fixed Effects:\n",
       "              (Intr) FD     CBFTYPEP CBFTYPESCB CBFTYPESCR FD:CBFTYPEP\n",
       "FD            -0.888                                                  \n",
       "CBFTYPEPVC    -0.513  0.456                                           \n",
       "CBFTYPESCBF   -0.513  0.456  0.500                                    \n",
       "CBFTYPESCRU   -0.513  0.456  0.500    0.500                           \n",
       "FD:CBFTYPEP    0.456 -0.513 -0.888   -0.444     -0.444                \n",
       "FD:CBFTYPESCB  0.456 -0.513 -0.444   -0.888     -0.444      0.500     \n",
       "FD:CBFTYPESCR  0.456 -0.513 -0.444   -0.444     -0.888      0.500     \n",
       "              FD:CBFTYPESCB\n",
       "FD                         \n",
       "CBFTYPEPVC                 \n",
       "CBFTYPESCBF                \n",
       "CBFTYPESCRU                \n",
       "FD:CBFTYPEP                \n",
       "FD:CBFTYPESCB              \n",
       "FD:CBFTYPESCR  0.500       "
      ]
     },
     "metadata": {},
     "output_type": "display_data"
    }
   ],
   "source": [
    "summary(pnc.model)"
   ]
  },
  {
   "cell_type": "code",
   "execution_count": 130,
   "id": "434d09f4",
   "metadata": {},
   "outputs": [
    {
     "data": {
      "text/html": [
       "<strong>quartz_off_screen:</strong> 3"
      ],
      "text/latex": [
       "\\textbf{quartz\\textbackslash{}\\_off\\textbackslash{}\\_screen:} 3"
      ],
      "text/markdown": [
       "**quartz_off_screen:** 3"
      ],
      "text/plain": [
       "quartz_off_screen \n",
       "                3 "
      ]
     },
     "metadata": {},
     "output_type": "display_data"
    },
    {
     "name": "stderr",
     "output_type": "stream",
     "text": [
      "`geom_smooth()` using formula 'y ~ x'\n",
      "\n",
      "`geom_smooth()` using formula 'y ~ x'\n",
      "\n",
      "`geom_smooth()` using formula 'y ~ x'\n",
      "\n",
      "`geom_smooth()` using formula 'y ~ x'\n",
      "\n",
      "Warning message:\n",
      "“Removed 15 rows containing missing values (geom_smooth).”\n",
      "Warning message:\n",
      "“Removed 2 rows containing missing values (geom_smooth).”\n"
     ]
    },
    {
     "data": {
      "text/html": [
       "<strong>quartz_off_screen:</strong> 3"
      ],
      "text/latex": [
       "\\textbf{quartz\\textbackslash{}\\_off\\textbackslash{}\\_screen:} 3"
      ],
      "text/markdown": [
       "**quartz_off_screen:** 3"
      ],
      "text/plain": [
       "quartz_off_screen \n",
       "                3 "
      ]
     },
     "metadata": {},
     "output_type": "display_data"
    }
   ],
   "source": [
    "\n",
    "datay = datax[datax$Datasets =='IRR',]\n",
    "scbf = datay[datay$CBFTYPE=='SCBF',]\n",
    "scrub = datay[datay$CBFTYPE=='SCRUB',]\n",
    "basil = datay[datay$CBFTYPE=='BASIL',]\n",
    "pvc = datay[datay$CBFTYPE=='PVC',]\n",
    "\n",
    "cols = c(\"LINE1\"=\"#e34a33\",\"LINE2\"=\"#3182bd\",\"LINE3\"=\"#d95f02\",'LINE4'=\"#c51b8a\")\n",
    "\n",
    "CBF_Age_plot <- ggplot() + xlim(0, 100)+ ylim(0,1) +\n",
    "  #theme(legend.position = \"none\")  +\n",
    "  \n",
    "  theme(axis.title.x = element_text(size = rel(1.6))) +\n",
    "  theme(axis.title.y = element_text(size = rel(1.6))) + \n",
    "  theme(axis.text = element_text(size = rel(1.4))) + theme(axis.line = element_line(colour = 'black', size = 1.5), axis.ticks.length = unit(.25, \"cm\")) +\n",
    "  theme(panel.grid.major = element_blank(), panel.grid.minor = element_blank(), panel.background = element_blank()) +\n",
    "  #geom_point(data = predicts, aes(x, y), colour = \"darksalmon\", alpha=0.7 ) +  \n",
    "  #geom_point(data=datay,aes(x=AGE, y=CBF.GM),size=1)+ \n",
    "  \n",
    "  geom_smooth(method='lm',data=scbf, aes(x=NEG_CBF, y=QEI), color=\"red\")+\n",
    "  geom_smooth(method='lm',data=scrub,aes(x=NEG_CBF, y=QEI), color=\"blue\")+\n",
    "  geom_smooth(method='lm',data=basil,aes(x=NEG_CBF, y=QEI), color='darkgreen')+\n",
    "  geom_smooth(method='lm',data=pvc,aes(x=NEG_CBF, y=QEI), color=\"#c51b8a\") +\n",
    "  labs(x = \"NEG CBF\", y = \"QEI\",color=cols,title ='IRR')+ \n",
    "  scale_colour_manual(values=cols) + \n",
    "  scale_linetype_manual(values=cols) \n",
    "\n",
    "  #theme(legend.position=\"bottom\")\n",
    "  \n",
    "  \n",
    " \n",
    "\n",
    "dev.off()\n",
    "\n",
    "## Export image\n",
    "png(filename=\"IRR_QEI_NEGCBF.png\",res = 600, width = 4, height = 4, units = 'in',)\n",
    "CBF_Age_plot\n",
    "dev.off()"
   ]
  },
  {
   "cell_type": "code",
   "execution_count": 117,
   "id": "73745cf7",
   "metadata": {},
   "outputs": [
    {
     "data": {
      "text/html": [
       "85.9210203581064"
      ],
      "text/latex": [
       "85.9210203581064"
      ],
      "text/markdown": [
       "85.9210203581064"
      ],
      "text/plain": [
       "[1] 85.92102"
      ]
     },
     "metadata": {},
     "output_type": "display_data"
    }
   ],
   "source": [
    "max(datax$NEG_CBF)"
   ]
  },
  {
   "cell_type": "code",
   "execution_count": null,
   "id": "7ddc9509",
   "metadata": {},
   "outputs": [],
   "source": []
  }
 ],
 "metadata": {
  "kernelspec": {
   "display_name": "R",
   "language": "R",
   "name": "ir"
  },
  "language_info": {
   "codemirror_mode": "r",
   "file_extension": ".r",
   "mimetype": "text/x-r-source",
   "name": "R",
   "pygments_lexer": "r",
   "version": "4.1.1"
  }
 },
 "nbformat": 4,
 "nbformat_minor": 5
}
