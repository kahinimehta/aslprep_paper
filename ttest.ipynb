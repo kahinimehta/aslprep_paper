{
 "cells": [
  {
   "cell_type": "code",
   "execution_count": 1,
   "id": "93edbb4c",
   "metadata": {},
   "outputs": [],
   "source": [
    "dd =read.csv('pnctempate_fwhm.csv')"
   ]
  },
  {
   "cell_type": "code",
   "execution_count": 3,
   "id": "7b3afde4",
   "metadata": {},
   "outputs": [
    {
     "data": {
      "text/plain": [
       "\n",
       "\tWelch Two Sample t-test\n",
       "\n",
       "data:  dd$oldfwhm and dd$newfwhm\n",
       "t = 190.24, df = 2078.9, p-value < 2.2e-16\n",
       "alternative hypothesis: true difference in means is not equal to 0\n",
       "95 percent confidence interval:\n",
       " 3.216680 3.283688\n",
       "sample estimates:\n",
       "mean of x mean of y \n",
       " 7.589646  4.339463 \n"
      ]
     },
     "metadata": {},
     "output_type": "display_data"
    }
   ],
   "source": [
    "dd = na.omit (dd)\n",
    "t.test(dd$oldfwhm,dd$newfwhm)"
   ]
  },
  {
   "cell_type": "code",
   "execution_count": null,
   "id": "96ce6063",
   "metadata": {},
   "outputs": [],
   "source": []
  }
 ],
 "metadata": {
  "kernelspec": {
   "display_name": "R",
   "language": "R",
   "name": "ir"
  },
  "language_info": {
   "codemirror_mode": "r",
   "file_extension": ".r",
   "mimetype": "text/x-r-source",
   "name": "R",
   "pygments_lexer": "r",
   "version": "4.1.1"
  }
 },
 "nbformat": 4,
 "nbformat_minor": 5
}
