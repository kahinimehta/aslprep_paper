{
 "cells": [
  {
   "cell_type": "code",
   "execution_count": 4,
   "id": "a08974d9",
   "metadata": {},
   "outputs": [
    {
     "data": {
      "text/plain": [
       "['10']"
      ]
     },
     "execution_count": 4,
     "metadata": {},
     "output_type": "execute_result"
    }
   ],
   "source": [
    "b = str(10)\n",
    "b.split()"
   ]
  },
  {
   "cell_type": "code",
   "execution_count": 6,
   "id": "9bde0933",
   "metadata": {},
   "outputs": [
    {
     "data": {
      "text/plain": [
       "4"
      ]
     },
     "execution_count": 6,
     "metadata": {},
     "output_type": "execute_result"
    }
   ],
   "source": [
    "min(4,4)"
   ]
  },
  {
   "cell_type": "code",
   "execution_count": 7,
   "id": "73d9f57c",
   "metadata": {},
   "outputs": [
    {
     "name": "stdout",
     "output_type": "stream",
     "text": [
      "3\n"
     ]
    }
   ],
   "source": [
    "adder = lambda x, y: x + y\n",
    "print (adder (1, 2))"
   ]
  },
  {
   "cell_type": "code",
   "execution_count": 10,
   "id": "56f6d42e",
   "metadata": {},
   "outputs": [
    {
     "data": {
      "text/plain": [
       "42"
      ]
     },
     "execution_count": 10,
     "metadata": {},
     "output_type": "execute_result"
    }
   ],
   "source": [
    "(lambda x: x + x^2)(20) "
   ]
  },
  {
   "cell_type": "code",
   "execution_count": 15,
   "id": "ad09e85e",
   "metadata": {},
   "outputs": [
    {
     "name": "stderr",
     "output_type": "stream",
     "text": [
      "<ipython-input-15-b236d1d65608>:4: RuntimeWarning: divide by zero encountered in true_divide\n",
      "  a/b\n"
     ]
    },
    {
     "data": {
      "text/plain": [
       "array([ 0., inf,  0., inf,  0.])"
      ]
     },
     "execution_count": 15,
     "metadata": {},
     "output_type": "execute_result"
    }
   ],
   "source": [
    "import numpy as np \n",
    "a=np.array([0,1,0,1,0]) \n",
    "b=np.array([1,0,1,0,1])\n",
    "a/b"
   ]
  },
  {
   "cell_type": "code",
   "execution_count": 13,
   "id": "122337f6",
   "metadata": {},
   "outputs": [
    {
     "data": {
      "text/plain": [
       "['1', '2', '3', '4']"
      ]
     },
     "execution_count": 13,
     "metadata": {},
     "output_type": "execute_result"
    }
   ],
   "source": [
    "1//"
   ]
  },
  {
   "cell_type": "code",
   "execution_count": 14,
   "id": "1049986f",
   "metadata": {},
   "outputs": [
    {
     "data": {
      "text/plain": [
       "{1, 3, 4, 5}"
      ]
     },
     "execution_count": 14,
     "metadata": {},
     "output_type": "execute_result"
    }
   ],
   "source": [
    "a=[1,3,4,5]\n",
    "set(a)"
   ]
  },
  {
   "cell_type": "code",
   "execution_count": 16,
   "id": "d53f9e98",
   "metadata": {},
   "outputs": [
    {
     "data": {
      "text/plain": [
       "225"
      ]
     },
     "execution_count": 16,
     "metadata": {},
     "output_type": "execute_result"
    }
   ],
   "source": [
    "25+35+40+50+75"
   ]
  },
  {
   "cell_type": "code",
   "execution_count": 17,
   "id": "525e872a",
   "metadata": {},
   "outputs": [
    {
     "data": {
      "text/plain": [
       "45.0"
      ]
     },
     "execution_count": 17,
     "metadata": {},
     "output_type": "execute_result"
    }
   ],
   "source": [
    "225/5"
   ]
  },
  {
   "cell_type": "code",
   "execution_count": 18,
   "id": "994729e5",
   "metadata": {},
   "outputs": [
    {
     "data": {
      "text/plain": [
       "0.7777777777777778"
      ]
     },
     "execution_count": 18,
     "metadata": {},
     "output_type": "execute_result"
    }
   ],
   "source": [
    "28/36"
   ]
  },
  {
   "cell_type": "code",
   "execution_count": 19,
   "id": "9e88fa39",
   "metadata": {},
   "outputs": [
    {
     "data": {
      "text/plain": [
       "78.0"
      ]
     },
     "execution_count": 19,
     "metadata": {},
     "output_type": "execute_result"
    }
   ],
   "source": [
    "round(28/36*100,0)"
   ]
  },
  {
   "cell_type": "code",
   "execution_count": 22,
   "id": "d0e1f769",
   "metadata": {},
   "outputs": [
    {
     "data": {
      "text/plain": [
       "1720"
      ]
     },
     "execution_count": 22,
     "metadata": {},
     "output_type": "execute_result"
    }
   ],
   "source": [
    "10000-92*90"
   ]
  },
  {
   "cell_type": "code",
   "execution_count": 25,
   "id": "d568a844",
   "metadata": {},
   "outputs": [
    {
     "data": {
      "text/plain": [
       "0.17199999999999993"
      ]
     },
     "execution_count": 25,
     "metadata": {},
     "output_type": "execute_result"
    }
   ],
   "source": [
    "1-.9*.92"
   ]
  },
  {
   "cell_type": "code",
   "execution_count": 26,
   "id": "f7b03d80",
   "metadata": {},
   "outputs": [
    {
     "data": {
      "text/plain": [
       "0.0897"
      ]
     },
     "execution_count": 26,
     "metadata": {},
     "output_type": "execute_result"
    }
   ],
   "source": [
    ".23*.39\n"
   ]
  },
  {
   "cell_type": "code",
   "execution_count": 29,
   "id": "ed423a5a",
   "metadata": {},
   "outputs": [
    {
     "data": {
      "text/plain": [
       "0.1925"
      ]
     },
     "execution_count": 29,
     "metadata": {},
     "output_type": "execute_result"
    }
   ],
   "source": [
    "0.28*(1-50/160)"
   ]
  },
  {
   "cell_type": "code",
   "execution_count": 1,
   "id": "a5eb8166",
   "metadata": {},
   "outputs": [
    {
     "data": {
      "text/plain": [
       "array([46, 32, 45, 44, 13, 49, 28, 30, 24, 17,  5, 42, 12,  7, 14,  6,  0,\n",
       "        1, 27, 29, 43, 34, 39, 38, 35, 41, 15,  3, 18, 10,  2,  8, 21, 47,\n",
       "       31, 48, 22, 25,  9, 33, 26, 16, 36, 23, 37,  4, 20, 19, 11, 40])"
      ]
     },
     "execution_count": 1,
     "metadata": {},
     "output_type": "execute_result"
    }
   ],
   "source": [
    "import numpy as np\n",
    "t = np.random.permutation(50)\n",
    "t"
   ]
  },
  {
   "cell_type": "code",
   "execution_count": 2,
   "id": "ddcf8021",
   "metadata": {},
   "outputs": [
    {
     "name": "stderr",
     "output_type": "stream",
     "text": [
      "/Users/adebimpe/anaconda3/lib/python3.8/site-packages/sklearn/datasets/_openml.py:65: RuntimeWarning: Invalid cache, redownloading file\n",
      "  warn(\"Invalid cache, redownloading file\", RuntimeWarning)\n"
     ]
    },
    {
     "data": {
      "text/plain": [
       "dict_keys(['data', 'target', 'frame', 'categories', 'feature_names', 'target_names', 'DESCR', 'details', 'url'])"
      ]
     },
     "execution_count": 2,
     "metadata": {},
     "output_type": "execute_result"
    }
   ],
   "source": [
    "from sklearn.datasets import fetch_openml\n",
    "mnist = fetch_openml('mnist_784',version=1)\n",
    "mnist.keys()"
   ]
  },
  {
   "cell_type": "code",
   "execution_count": 12,
   "id": "18772569",
   "metadata": {},
   "outputs": [
    {
     "data": {
      "image/png": "[encoded data removed]",
      "text/plain": [
       "<Figure size 640x480 with 1 Axes>"
      ]
     },
     "metadata": {},
     "output_type": "display_data"
    }
   ],
   "source": [
    "X,y = mnist['data'],mnist['target']\n",
    "import matplotlib as mpl \n",
    "import matplotlib.pyplot as plt \n",
    "dd = np.array(X.iloc[678])\n",
    "dd_image = dd.reshape(28,28)\n",
    "plt.imshow(dd_image,cmap=\"binary\")\n",
    "plt.axis(\"off\")\n",
    "plt.show()"
   ]
  },
  {
   "cell_type": "code",
   "execution_count": 14,
   "id": "2369a558",
   "metadata": {},
   "outputs": [
    {
     "data": {
      "text/plain": [
       "'1'"
      ]
     },
     "execution_count": 14,
     "metadata": {},
     "output_type": "execute_result"
    }
   ],
   "source": [
    "y[678]"
   ]
  },
  {
   "cell_type": "code",
   "execution_count": null,
   "id": "58e7bb28",
   "metadata": {},
   "outputs": [],
   "source": []
  }
 ],
 "metadata": {
  "kernelspec": {
   "display_name": "Python 3",
   "language": "python",
   "name": "python3"
  },
  "language_info": {
   "codemirror_mode": {
    "name": "ipython",
    "version": 3
   },
   "file_extension": ".py",
   "mimetype": "text/x-python",
   "name": "python",
   "nbconvert_exporter": "python",
   "pygments_lexer": "ipython3",
   "version": "3.8.10"
  }
 },
 "nbformat": 4,
 "nbformat_minor": 5
}
