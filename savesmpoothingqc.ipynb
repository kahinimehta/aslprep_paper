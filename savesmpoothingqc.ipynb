{
 "cells": [
  {
   "cell_type": "code",
   "execution_count": 1,
   "id": "beedd095",
   "metadata": {},
   "outputs": [],
   "source": [
    "import pandas as pd \n",
    "import numpy as np "
   ]
  },
  {
   "cell_type": "code",
   "execution_count": 2,
   "id": "82bc9d46",
   "metadata": {},
   "outputs": [],
   "source": [
    "demo  = pd.read_csv('scripts/pncdata/n1601_demographics_go1_20161212.csv')\n",
    "oldpncs = pd.read_csv('scripts/pncdata/smoothingfhwmoldpn.csv')\n",
    "qc = pd.read_csv('scripts/pncdata/pnc_allsubjects_qc.csv')\n",
    "den = demo.merge(oldpncs, on = 'scanid')\n",
    "dd = pd.read_csv('scripts/pncdata/bblid_renamed.csv')\n",
    "den= den.merge(dd, on ='bblid')\n",
    "\n",
    "d2 = pd.read_csv('scripts/pncdata/smoothingfhwm3.csv')\n",
    "den= den.merge(d2, on ='sub')\n",
    "den = den.drop_duplicates()\n",
    "den = den.dropna()\n",
    "den = den.merge(qc,on='sub')\n",
    "\n"
   ]
  },
  {
   "cell_type": "code",
   "execution_count": 3,
   "id": "50982168",
   "metadata": {},
   "outputs": [],
   "source": [
    "oldp = pd.DataFrame({'sub': den['sub'],'Method': np.repeat('PreviousPipeline',len(den)),'fwhm':den['oldCBF']})\n",
    "aslcbf = pd.DataFrame({'sub': den['sub'],'Method': np.repeat('ASLPrepCBF',len(den)),'fwhm':den['CBF']})\n",
    "aslbasil = pd.DataFrame({'sub': den['sub'],'Method': np.repeat('ASLPrepBASIL',len(den)),'fwhm':den['BASIL']})\n",
    "aslscrub = pd.DataFrame({'sub': den['sub'],'Method': np.repeat('ASLPrepSCRUB',len(den)),'fwhm':den['SCRUB']})\n",
    "aslpvc = pd.DataFrame({'sub': den['sub'],'Method': np.repeat('ASLPrepPVC',len(den)),'fwhm':den['PVGM']})\n",
    "\n",
    "\n",
    "fwhmdata = den[['sub','oldCBF','CBF','SCRUB','BASIL','PVGM']]\n",
    "fwhmdata.to_csv('scripts/pncdata/fwhmdata2.csv',index=False,sep=',')"
   ]
  },
  {
   "cell_type": "code",
   "execution_count": 4,
   "id": "6f9e1e0e",
   "metadata": {},
   "outputs": [],
   "source": [
    "fwhmdata.columns=['sub','PreviousPipeline','ASLPrepCBF','ASLPrepSCRUB','ASLPrepBASIL','ASLPrepPVGM']\n",
    "fwhmdata.to_csv('scripts/pncdata/fwhmdata2.csv',index=False,sep=',')\n"
   ]
  },
  {
   "cell_type": "code",
   "execution_count": 5,
   "id": "e848772a",
   "metadata": {},
   "outputs": [
    {
     "data": {
      "text/plain": [
       "(1246, 6)"
      ]
     },
     "execution_count": 5,
     "metadata": {},
     "output_type": "execute_result"
    }
   ],
   "source": [
    "fwhmdata.shape"
   ]
  },
  {
   "cell_type": "code",
   "execution_count": 6,
   "id": "5e07ee92",
   "metadata": {},
   "outputs": [
    {
     "data": {
      "text/plain": [
       "(1246, 6)"
      ]
     },
     "execution_count": 6,
     "metadata": {},
     "output_type": "execute_result"
    }
   ],
   "source": [
    "fwhmdata = fwhmdata.dropna()\n",
    "fwhmdata.shape"
   ]
  },
  {
   "cell_type": "code",
   "execution_count": 7,
   "id": "1dfab146",
   "metadata": {},
   "outputs": [
    {
     "data": {
      "text/html": [
       "<div>\n",
       "<style scoped>\n",
       "    .dataframe tbody tr th:only-of-type {\n",
       "        vertical-align: middle;\n",
       "    }\n",
       "\n",
       "    .dataframe tbody tr th {\n",
       "        vertical-align: top;\n",
       "    }\n",
       "\n",
       "    .dataframe thead th {\n",
       "        text-align: right;\n",
       "    }\n",
       "</style>\n",
       "<table border=\"1\" class=\"dataframe\">\n",
       "  <thead>\n",
       "    <tr style=\"text-align: right;\">\n",
       "      <th></th>\n",
       "      <th>sub</th>\n",
       "      <th>PreviousPipeline</th>\n",
       "      <th>ASLPrepCBF</th>\n",
       "      <th>ASLPrepSCRUB</th>\n",
       "      <th>ASLPrepBASIL</th>\n",
       "      <th>ASLPrepPVGM</th>\n",
       "    </tr>\n",
       "  </thead>\n",
       "  <tbody>\n",
       "    <tr>\n",
       "      <th>0</th>\n",
       "      <td>1832999514</td>\n",
       "      <td>4.898947</td>\n",
       "      <td>4.390647</td>\n",
       "      <td>4.129930</td>\n",
       "      <td>5.759419</td>\n",
       "      <td>6.266686</td>\n",
       "    </tr>\n",
       "    <tr>\n",
       "      <th>1</th>\n",
       "      <td>3103368139</td>\n",
       "      <td>5.077679</td>\n",
       "      <td>3.982382</td>\n",
       "      <td>3.792772</td>\n",
       "      <td>5.357282</td>\n",
       "      <td>5.635230</td>\n",
       "    </tr>\n",
       "    <tr>\n",
       "      <th>2</th>\n",
       "      <td>1818459775</td>\n",
       "      <td>6.935492</td>\n",
       "      <td>4.548486</td>\n",
       "      <td>4.587238</td>\n",
       "      <td>5.470947</td>\n",
       "      <td>5.384929</td>\n",
       "    </tr>\n",
       "    <tr>\n",
       "      <th>3</th>\n",
       "      <td>1344101127</td>\n",
       "      <td>3.407503</td>\n",
       "      <td>4.077750</td>\n",
       "      <td>4.046123</td>\n",
       "      <td>4.910572</td>\n",
       "      <td>5.176502</td>\n",
       "    </tr>\n",
       "    <tr>\n",
       "      <th>4</th>\n",
       "      <td>3925705705</td>\n",
       "      <td>4.409254</td>\n",
       "      <td>4.487194</td>\n",
       "      <td>4.403268</td>\n",
       "      <td>5.405666</td>\n",
       "      <td>5.472712</td>\n",
       "    </tr>\n",
       "    <tr>\n",
       "      <th>...</th>\n",
       "      <td>...</td>\n",
       "      <td>...</td>\n",
       "      <td>...</td>\n",
       "      <td>...</td>\n",
       "      <td>...</td>\n",
       "      <td>...</td>\n",
       "    </tr>\n",
       "    <tr>\n",
       "      <th>1241</th>\n",
       "      <td>2133389205</td>\n",
       "      <td>5.362501</td>\n",
       "      <td>3.993966</td>\n",
       "      <td>4.100884</td>\n",
       "      <td>5.117234</td>\n",
       "      <td>5.307338</td>\n",
       "    </tr>\n",
       "    <tr>\n",
       "      <th>1242</th>\n",
       "      <td>3531047767</td>\n",
       "      <td>6.480385</td>\n",
       "      <td>4.085942</td>\n",
       "      <td>4.191093</td>\n",
       "      <td>5.562529</td>\n",
       "      <td>6.004368</td>\n",
       "    </tr>\n",
       "    <tr>\n",
       "      <th>1243</th>\n",
       "      <td>482239832</td>\n",
       "      <td>7.664898</td>\n",
       "      <td>4.875016</td>\n",
       "      <td>4.802158</td>\n",
       "      <td>6.192768</td>\n",
       "      <td>6.163597</td>\n",
       "    </tr>\n",
       "    <tr>\n",
       "      <th>1244</th>\n",
       "      <td>1939119029</td>\n",
       "      <td>7.026221</td>\n",
       "      <td>4.495429</td>\n",
       "      <td>4.483714</td>\n",
       "      <td>5.836429</td>\n",
       "      <td>6.252064</td>\n",
       "    </tr>\n",
       "    <tr>\n",
       "      <th>1245</th>\n",
       "      <td>1919055552</td>\n",
       "      <td>8.234836</td>\n",
       "      <td>4.407330</td>\n",
       "      <td>4.617600</td>\n",
       "      <td>6.307792</td>\n",
       "      <td>5.493670</td>\n",
       "    </tr>\n",
       "  </tbody>\n",
       "</table>\n",
       "<p>1246 rows × 6 columns</p>\n",
       "</div>"
      ],
      "text/plain": [
       "             sub  PreviousPipeline  ASLPrepCBF  ASLPrepSCRUB  ASLPrepBASIL  \\\n",
       "0     1832999514          4.898947    4.390647      4.129930      5.759419   \n",
       "1     3103368139          5.077679    3.982382      3.792772      5.357282   \n",
       "2     1818459775          6.935492    4.548486      4.587238      5.470947   \n",
       "3     1344101127          3.407503    4.077750      4.046123      4.910572   \n",
       "4     3925705705          4.409254    4.487194      4.403268      5.405666   \n",
       "...          ...               ...         ...           ...           ...   \n",
       "1241  2133389205          5.362501    3.993966      4.100884      5.117234   \n",
       "1242  3531047767          6.480385    4.085942      4.191093      5.562529   \n",
       "1243   482239832          7.664898    4.875016      4.802158      6.192768   \n",
       "1244  1939119029          7.026221    4.495429      4.483714      5.836429   \n",
       "1245  1919055552          8.234836    4.407330      4.617600      6.307792   \n",
       "\n",
       "      ASLPrepPVGM  \n",
       "0        6.266686  \n",
       "1        5.635230  \n",
       "2        5.384929  \n",
       "3        5.176502  \n",
       "4        5.472712  \n",
       "...           ...  \n",
       "1241     5.307338  \n",
       "1242     6.004368  \n",
       "1243     6.163597  \n",
       "1244     6.252064  \n",
       "1245     5.493670  \n",
       "\n",
       "[1246 rows x 6 columns]"
      ]
     },
     "execution_count": 7,
     "metadata": {},
     "output_type": "execute_result"
    }
   ],
   "source": [
    "fwhmdata.dropna()"
   ]
  },
  {
   "cell_type": "code",
   "execution_count": null,
   "id": "76b25299",
   "metadata": {},
   "outputs": [],
   "source": []
  }
 ],
 "metadata": {
  "kernelspec": {
   "display_name": "Python 3",
   "language": "python",
   "name": "python3"
  },
  "language_info": {
   "codemirror_mode": {
    "name": "ipython",
    "version": 3
   },
   "file_extension": ".py",
   "mimetype": "text/x-python",
   "name": "python",
   "nbconvert_exporter": "python",
   "pygments_lexer": "ipython3",
   "version": "3.8.10"
  }
 },
 "nbformat": 4,
 "nbformat_minor": 5
}
