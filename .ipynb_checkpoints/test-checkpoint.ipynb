{
 "cells": [
  {
   "cell_type": "code",
   "execution_count": null,
   "id": "b4add197",
   "metadata": {},
   "outputs": [],
   "source": [
    "wb_command -metric-resample /Users/adebimpe/Documents/aslprep_paper/surflh.func.gii  /Users/adebimpe/Documents/xcpEngine/thirdparty/standard_mesh_atlases/resample_fsaverage/fsaverage5_std_sphere.lh.10k_fsavg_lh.surf.gii  \\\n",
    "/Users/adebimpe/Documents/xcpEngine/thirdparty/standard_mesh_atlases/resample_fsaverage/fs_LR-deformed_to-fsaverage.lh.sphere.32k_fs_LR.surf.gii \\ \n",
    "ADAP_BARY_AREA metricout32k.surf.gii  -area-metrics /Users/adebimpe/Documents/xcpEngine/thirdparty/standard_mesh_atlases/resample_fsaverage/fsaverage5.lh.midthickness_va_avg.10k_fsavg_lh.shape.gii  \\\n",
    "/Users/adebimpe/Documents/xcpEngine/thirdparty/standard_mesh_atlases/resample_fsaverage/fs_LR.lh.midthickness_va_avg.32k_fs_LR.shape.gii "
   ]
  },
  {
   "cell_type": "code",
   "execution_count": 83,
   "id": "79047e6c",
   "metadata": {},
   "outputs": [],
   "source": [
    "import nibabel as nb \n",
    "import numpy as np \n",
    "bb = nb.load('scripts/PET/PET_CMRGlu.lh.HCP_32k.func.gii')\n",
    "b2 = nb.load('scripts/ageingdata/cbfmean/metricout32k.func.gii')"
   ]
  },
  {
   "cell_type": "code",
   "execution_count": 84,
   "id": "768a1446",
   "metadata": {},
   "outputs": [
    {
     "data": {
      "text/plain": [
       "0.3708810494471543"
      ]
     },
     "execution_count": 84,
     "metadata": {},
     "output_type": "execute_result"
    }
   ],
   "source": [
    "d1 = bb.agg_data()\n",
    "d2 = b2.agg_data()\n",
    "np.corrcoef(d1,d2)[0][1]"
   ]
  },
  {
   "cell_type": "code",
   "execution_count": 86,
   "id": "255b901a",
   "metadata": {},
   "outputs": [
    {
     "data": {
      "text/plain": [
       "181"
      ]
     },
     "execution_count": 86,
     "metadata": {},
     "output_type": "execute_result"
    }
   ],
   "source": [
    "dx =nb.load('/Users/adebimpe/Downloads/Atlas/Q1-Q6_RelatedParcellation210.L.CorticalAreas_dil_Colors.32k_fs_LR.label.gii')\n",
    "\n",
    "dxx = dx.agg_data()\n",
    "dc = np.unique(dxx)\n",
    "len(dc)"
   ]
  },
  {
   "cell_type": "code",
   "execution_count": 87,
   "id": "bd2f5d6f",
   "metadata": {},
   "outputs": [],
   "source": [
    "def extractroi(atlasL,atlasR,giftiL,giftiR):\n",
    "    atlasL = nb.load(atlasL).agg_data()\n",
    "    atlasR = nb.load(atlasR).agg_data()\n",
    "    \n",
    "    giftiR = nb.load(giftiR).agg_data()\n",
    "    giftiL = nb.load(giftiL).agg_data()\n",
    "    \n",
    "    datay =[]\n",
    "    \n",
    "    for i in np.unique(atlasL):\n",
    "        if i !=0:\n",
    "            datay.append(np.mean(giftiL[atlasL==i]))\n",
    "    \n",
    "    for i in np.unique(atlasR):\n",
    "        if i !=0:\n",
    "            datay.append(np.mean(giftiR[atlasR==i]))\n",
    "            \n",
    "    \n",
    "    return datay, np.append(giftiL,giftiR)\n",
    "            \n",
    "    \n",
    "\n",
    "    \n",
    "    "
   ]
  },
  {
   "cell_type": "code",
   "execution_count": 88,
   "id": "20e88e75",
   "metadata": {},
   "outputs": [
    {
     "data": {
      "text/plain": [
       "array([[1.        , 0.44584253],\n",
       "       [0.44584253, 1.        ]])"
      ]
     },
     "execution_count": 88,
     "metadata": {},
     "output_type": "execute_result"
    }
   ],
   "source": [
    "np.corrcoef(ax1,ax2)"
   ]
  },
  {
   "cell_type": "code",
   "execution_count": 89,
   "id": "662c7115",
   "metadata": {},
   "outputs": [
    {
     "data": {
      "text/plain": [
       "array([[1.        , 0.44584253],\n",
       "       [0.44584253, 1.        ]])"
      ]
     },
     "execution_count": 89,
     "metadata": {},
     "output_type": "execute_result"
    }
   ],
   "source": [
    "ax11 =ax1 - np.mean(ax1)\n",
    "ax22 = ax2 - np.mean(ax2)\n",
    "np.corrcoef(ax11,ax22)"
   ]
  },
  {
   "cell_type": "code",
   "execution_count": 93,
   "id": "710401cf",
   "metadata": {},
   "outputs": [
    {
     "data": {
      "text/plain": [
       "(64984,)"
      ]
     },
     "execution_count": 93,
     "metadata": {},
     "output_type": "execute_result"
    }
   ],
   "source": [
    "cc=np.append(d1,d2)\n",
    "cc.shape"
   ]
  },
  {
   "cell_type": "code",
   "execution_count": null,
   "id": "25636d10",
   "metadata": {},
   "outputs": [],
   "source": []
  }
 ],
 "metadata": {
  "kernelspec": {
   "display_name": "Python 3",
   "language": "python",
   "name": "python3"
  },
  "language_info": {
   "codemirror_mode": {
    "name": "ipython",
    "version": 3
   },
   "file_extension": ".py",
   "mimetype": "text/x-python",
   "name": "python",
   "nbconvert_exporter": "python",
   "pygments_lexer": "ipython3",
   "version": "3.8.10"
  }
 },
 "nbformat": 4,
 "nbformat_minor": 5
}
