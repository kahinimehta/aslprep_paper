{
 "cells": [
  {
   "cell_type": "code",
   "execution_count": null,
   "id": "93cf506a",
   "metadata": {},
   "outputs": [],
   "source": [
    "wb_command -metric-resample /Users/adebimpe/Documents/aslprep_paper/surflh.func.gii  /Users/adebimpe/Documents/xcpEngine/thirdparty/standard_mesh_atlases/resample_fsaverage/fsaverage5_std_sphere.lh.10k_fsavg_lh.surf.gii  \\\n",
    "/Users/adebimpe/Documents/xcpEngine/thirdparty/standard_mesh_atlases/resample_fsaverage/fs_LR-deformed_to-fsaverage.lh.sphere.32k_fs_LR.surf.gii \\ \n",
    "ADAP_BARY_AREA metricout32k.surf.gii  -area-metrics /Users/adebimpe/Documents/xcpEngine/thirdparty/standard_mesh_atlases/resample_fsaverage/fsaverage5.lh.midthickness_va_avg.10k_fsavg_lh.shape.gii  \\\n",
    "/Users/adebimpe/Documents/xcpEngine/thirdparty/standard_mesh_atlases/resample_fsaverage/fs_LR.lh.midthickness_va_avg.32k_fs_LR.shape.gii "
   ]
  },
  {
   "cell_type": "code",
   "execution_count": 83,
   "id": "326ce629",
   "metadata": {},
   "outputs": [],
   "source": [
    "import nibabel as nb \n",
    "import numpy as np \n",
    "bb = nb.load('scripts/PET/PET_CMRGlu.lh.HCP_32k.func.gii')\n",
    "b2 = nb.load('scripts/ageingdata/cbfmean/metricout32k.func.gii')"
   ]
  },
  {
   "cell_type": "code",
   "execution_count": 84,
   "id": "2bc5d41e",
   "metadata": {},
   "outputs": [
    {
     "data": {
      "text/plain": [
       "0.3708810494471543"
      ]
     },
     "execution_count": 84,
     "metadata": {},
     "output_type": "execute_result"
    }
   ],
   "source": [
    "d1 = bb.agg_data()\n",
    "d2 = b2.agg_data()\n",
    "np.corrcoef(d1,d2)[0][1]"
   ]
  },
  {
   "cell_type": "code",
   "execution_count": 86,
   "id": "d7d20907",
   "metadata": {},
   "outputs": [
    {
     "data": {
      "text/plain": [
       "181"
      ]
     },
     "execution_count": 86,
     "metadata": {},
     "output_type": "execute_result"
    }
   ],
   "source": [
    "dx =nb.load('/Users/adebimpe/Downloads/Atlas/Q1-Q6_RelatedParcellation210.L.CorticalAreas_dil_Colors.32k_fs_LR.label.gii')\n",
    "\n",
    "dxx = dx.agg_data()\n",
    "dc = np.unique(dxx)\n",
    "len(dc)"
   ]
  },
  {
   "cell_type": "code",
   "execution_count": 87,
   "id": "7b3a61d2",
   "metadata": {},
   "outputs": [],
   "source": [
    "def extractroi(atlasL,atlasR,giftiL,giftiR):\n",
    "    atlasL = nb.load(atlasL).agg_data()\n",
    "    atlasR = nb.load(atlasR).agg_data()\n",
    "    \n",
    "    giftiR = nb.load(giftiR).agg_data()\n",
    "    giftiL = nb.load(giftiL).agg_data()\n",
    "    \n",
    "    datay =[]\n",
    "    \n",
    "    for i in np.unique(atlasL):\n",
    "        if i !=0:\n",
    "            datay.append(np.mean(giftiL[atlasL==i]))\n",
    "    \n",
    "    for i in np.unique(atlasR):\n",
    "        if i !=0:\n",
    "            datay.append(np.mean(giftiR[atlasR==i]))\n",
    "            \n",
    "    \n",
    "    return datay, np.append(giftiL,giftiR)\n",
    "            \n",
    "    \n",
    "\n",
    "    \n",
    "    "
   ]
  },
  {
   "cell_type": "code",
   "execution_count": 102,
   "id": "04196818",
   "metadata": {},
   "outputs": [
    {
     "name": "stdout",
     "output_type": "stream",
     "text": [
      "0.4458425317932056, 0.4458425317932056\n"
     ]
    }
   ],
   "source": [
    "dd = [np.corrcoef(ax1,ax2)[0,1],np.corrcoef(ax1,ax2)[0,1]]\n",
    "print(str(dd)[1:-1])"
   ]
  },
  {
   "cell_type": "code",
   "execution_count": 89,
   "id": "cbcf3de5",
   "metadata": {},
   "outputs": [
    {
     "data": {
      "text/plain": [
       "array([[1.        , 0.44584253],\n",
       "       [0.44584253, 1.        ]])"
      ]
     },
     "execution_count": 89,
     "metadata": {},
     "output_type": "execute_result"
    }
   ],
   "source": [
    "ax11 =ax1 - np.mean(ax1)\n",
    "ax22 = ax2 - np.mean(ax2)\n",
    "np.corrcoef(ax11,ax22)"
   ]
  },
  {
   "cell_type": "code",
   "execution_count": 93,
   "id": "9ec00581",
   "metadata": {},
   "outputs": [
    {
     "data": {
      "text/plain": [
       "(64984,)"
      ]
     },
     "execution_count": 93,
     "metadata": {},
     "output_type": "execute_result"
    }
   ],
   "source": [
    "cc=np.append(d1,d2)\n",
    "cc.shape"
   ]
  },
  {
   "cell_type": "code",
   "execution_count": 96,
   "id": "65912d28",
   "metadata": {},
   "outputs": [
    {
     "data": {
      "text/plain": [
       "'/Users/adebimpe/anaconda3/lib/python3.8/site-packages/ipykernel_launcher.py'"
      ]
     },
     "execution_count": 96,
     "metadata": {},
     "output_type": "execute_result"
    }
   ],
   "source": [
    "import sys \n",
    "sys.argv[0]"
   ]
  },
  {
   "cell_type": "code",
   "execution_count": null,
   "id": "3f45ee86",
   "metadata": {},
   "outputs": [],
   "source": []
  }
 ],
 "metadata": {
  "kernelspec": {
   "display_name": "Python 3",
   "language": "python",
   "name": "python3"
  },
  "language_info": {
   "codemirror_mode": {
    "name": "ipython",
    "version": 3
   },
   "file_extension": ".py",
   "mimetype": "text/x-python",
   "name": "python",
   "nbconvert_exporter": "python",
   "pygments_lexer": "ipython3",
   "version": "3.8.10"
  }
 },
 "nbformat": 4,
 "nbformat_minor": 5
}
