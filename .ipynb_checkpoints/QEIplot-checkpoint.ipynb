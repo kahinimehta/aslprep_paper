{
 "cells": [
  {
   "cell_type": "code",
   "execution_count": 2,
   "id": "72e78599",
   "metadata": {},
   "outputs": [],
   "source": [
    "library(ggplot2)\n",
    "library(mgcv)\n",
    "library(visreg)\n",
    "library(reshape2)\n",
    "library(ggpubr)\n",
    "library(ggpattern)\n",
    "library(plyr)\n",
    "library(ggsignif)\n",
    "library(lmerTest)\n",
    "library(dplyr)\n",
    "library(broom.mixed)\n",
    "library(sjPlot)\n",
    "library(sjmisc)\n",
    "library(sjlabelled)\n",
    "library(lme4)"
   ]
  },
  {
   "cell_type": "code",
   "execution_count": 4,
   "id": "39cbe153",
   "metadata": {},
   "outputs": [],
   "source": [
    "datax = read.csv('gmdata2.csv')\n",
    "datax = datax[!duplicated(datax),]\n",
    "#head(datax)\n",
    "#dd= subset(pnc, CBFTYPE=='BASIL')\n",
    "#head(dd)"
   ]
  },
  {
   "cell_type": "code",
   "execution_count": 5,
   "id": "b8b21a29",
   "metadata": {},
   "outputs": [
    {
     "data": {
      "text/plain": [
       "Linear mixed model fit by REML. t-tests use Satterthwaite's method [\n",
       "lmerModLmerTest]\n",
       "Formula: QEI ~ CBFTYPE + FD + CBFTYPE * FD + (1 | sub)\n",
       "   Data: pnc\n",
       "\n",
       "REML criterion at convergence: -998.1\n",
       "\n",
       "Scaled residuals: \n",
       "    Min      1Q  Median      3Q     Max \n",
       "-4.4940 -0.2300 -0.0339  0.5424  2.4140 \n",
       "\n",
       "Random effects:\n",
       " Groups   Name        Variance Std.Dev.\n",
       " sub      (Intercept) 0.01074  0.1036  \n",
       " Residual             0.01197  0.1094  \n",
       "Number of obs: 856, groups:  sub, 214\n",
       "\n",
       "Fixed effects:\n",
       "                  Estimate Std. Error         df t value Pr(>|t|)    \n",
       "(Intercept)       0.857566   0.022373 507.518780  38.330  < 2e-16 ***\n",
       "CBFTYPEPVC       -0.079899   0.022972 636.000002  -3.478 0.000539 ***\n",
       "CBFTYPESCBF      -0.104787   0.022972 636.000002  -4.562 6.09e-06 ***\n",
       "CBFTYPESCRUB      0.008212   0.022972 636.000002   0.357 0.720858    \n",
       "FD               -0.241709   0.098620 507.518781  -2.451 0.014586 *  \n",
       "CBFTYPEPVC:FD     0.034202   0.101258 636.000002   0.338 0.735648    \n",
       "CBFTYPESCBF:FD   -0.220280   0.101258 636.000002  -2.175 0.029965 *  \n",
       "CBFTYPESCRUB:FD   0.099630   0.101258 636.000002   0.984 0.325530    \n",
       "---\n",
       "Signif. codes:  0 ‘***’ 0.001 ‘**’ 0.01 ‘*’ 0.05 ‘.’ 0.1 ‘ ’ 1\n",
       "\n",
       "Correlation of Fixed Effects:\n",
       "              (Intr) CBFTYPEPVC CBFTYPESCBF CBFTYPESCRUB FD     CBFTYPEPVC:\n",
       "CBFTYPEPVC    -0.513                                                       \n",
       "CBFTYPESCBF   -0.513  0.500                                                \n",
       "CBFTYPESCRUB  -0.513  0.500      0.500                                     \n",
       "FD            -0.888  0.456      0.456       0.456                         \n",
       "CBFTYPEPVC:    0.456 -0.888     -0.444      -0.444       -0.513            \n",
       "CBFTYPESCBF:   0.456 -0.444     -0.888      -0.444       -0.513  0.500     \n",
       "CBFTYPESCRUB:  0.456 -0.444     -0.444      -0.888       -0.513  0.500     \n",
       "              CBFTYPESCBF:\n",
       "CBFTYPEPVC                \n",
       "CBFTYPESCBF               \n",
       "CBFTYPESCRUB              \n",
       "FD                        \n",
       "CBFTYPEPVC:               \n",
       "CBFTYPESCBF:              \n",
       "CBFTYPESCRUB:  0.500      "
      ]
     },
     "metadata": {},
     "output_type": "display_data"
    }
   ],
   "source": [
    "\n",
    "pnc <- subset(datax, Datasets=='IRR')\n",
    "#pnc = na.omit(pnc)\n",
    "#pnc.cen <- pnc$QEI - mean(pnc$QEI)\n",
    "\n",
    "pnc.model <- lmer(QEI ~ CBFTYPE + FD + CBFTYPE*FD  + (1 | sub ), data=pnc)\n",
    "\n",
    "summary(pnc.model)\n",
    "\n",
    "#ggplot(pnc, aes(x=QEI, fill=CBFTYPE)) + geom_histogram()\n"
   ]
  },
  {
   "cell_type": "code",
   "execution_count": 4,
   "id": "6ddddfcc",
   "metadata": {},
   "outputs": [
    {
     "data": {
      "text/html": [
       "<style>\n",
       ".list-inline {list-style: none; margin:0; padding: 0}\n",
       ".list-inline>li {display: inline-block}\n",
       ".list-inline>li:not(:last-child)::after {content: \"\\00b7\"; padding: 0 .5ex}\n",
       "</style>\n",
       "<ol class=list-inline><li>'SCBF'</li><li>'SCRUB'</li><li>'BASIL'</li><li>'PVC'</li></ol>\n"
      ],
      "text/latex": [
       "\\begin{enumerate*}\n",
       "\\item 'SCBF'\n",
       "\\item 'SCRUB'\n",
       "\\item 'BASIL'\n",
       "\\item 'PVC'\n",
       "\\end{enumerate*}\n"
      ],
      "text/markdown": [
       "1. 'SCBF'\n",
       "2. 'SCRUB'\n",
       "3. 'BASIL'\n",
       "4. 'PVC'\n",
       "\n",
       "\n"
      ],
      "text/plain": [
       "[1] \"SCBF\"  \"SCRUB\" \"BASIL\" \"PVC\"  "
      ]
     },
     "metadata": {},
     "output_type": "display_data"
    }
   ],
   "source": [
    "basil = subset(pnc, CBFTYPE == 'FSL')\n",
    "#head(basil)\n",
    "scbf = subset(pnc, CBFTYPE == 'SCBF')\n",
    "unique(pnc$CBFTYPE)"
   ]
  },
  {
   "cell_type": "code",
   "execution_count": 5,
   "id": "1cee4277",
   "metadata": {},
   "outputs": [
    {
     "data": {
      "text/html": [
       "<table class=\"dataframe\">\n",
       "<caption>A matrix: 8 × 5 of type dbl</caption>\n",
       "<thead>\n",
       "\t<tr><th></th><th scope=col>Estimate</th><th scope=col>Std. Error</th><th scope=col>df</th><th scope=col>t value</th><th scope=col>Pr(&gt;|t|)</th></tr>\n",
       "</thead>\n",
       "<tbody>\n",
       "\t<tr><th scope=row>(Intercept)</th><td> 0.857566285</td><td>0.02237323</td><td>507.5188</td><td>38.3300140</td><td>5.896741e-152</td></tr>\n",
       "\t<tr><th scope=row>CBFTYPEPVC</th><td>-0.079898935</td><td>0.02297177</td><td>636.0000</td><td>-3.4781358</td><td> 5.393611e-04</td></tr>\n",
       "\t<tr><th scope=row>CBFTYPESCBF</th><td>-0.104786558</td><td>0.02297177</td><td>636.0000</td><td>-4.5615361</td><td> 6.094033e-06</td></tr>\n",
       "\t<tr><th scope=row>CBFTYPESCRUB</th><td> 0.008211731</td><td>0.02297177</td><td>636.0000</td><td> 0.3574706</td><td> 7.208582e-01</td></tr>\n",
       "\t<tr><th scope=row>FD</th><td>-0.241708780</td><td>0.09861976</td><td>507.5188</td><td>-2.4509164</td><td> 1.458561e-02</td></tr>\n",
       "\t<tr><th scope=row>CBFTYPEPVC:FD</th><td> 0.034201987</td><td>0.10125807</td><td>636.0000</td><td> 0.3377705</td><td> 7.356476e-01</td></tr>\n",
       "\t<tr><th scope=row>CBFTYPESCBF:FD</th><td>-0.220280357</td><td>0.10125807</td><td>636.0000</td><td>-2.1754350</td><td> 2.996509e-02</td></tr>\n",
       "\t<tr><th scope=row>CBFTYPESCRUB:FD</th><td> 0.099629621</td><td>0.10125807</td><td>636.0000</td><td> 0.9839178</td><td> 3.255301e-01</td></tr>\n",
       "</tbody>\n",
       "</table>\n"
      ],
      "text/latex": [
       "A matrix: 8 × 5 of type dbl\n",
       "\\begin{tabular}{r|lllll}\n",
       "  & Estimate & Std. Error & df & t value & Pr(>\\textbar{}t\\textbar{})\\\\\n",
       "\\hline\n",
       "\t(Intercept) &  0.857566285 & 0.02237323 & 507.5188 & 38.3300140 & 5.896741e-152\\\\\n",
       "\tCBFTYPEPVC & -0.079898935 & 0.02297177 & 636.0000 & -3.4781358 &  5.393611e-04\\\\\n",
       "\tCBFTYPESCBF & -0.104786558 & 0.02297177 & 636.0000 & -4.5615361 &  6.094033e-06\\\\\n",
       "\tCBFTYPESCRUB &  0.008211731 & 0.02297177 & 636.0000 &  0.3574706 &  7.208582e-01\\\\\n",
       "\tFD & -0.241708780 & 0.09861976 & 507.5188 & -2.4509164 &  1.458561e-02\\\\\n",
       "\tCBFTYPEPVC:FD &  0.034201987 & 0.10125807 & 636.0000 &  0.3377705 &  7.356476e-01\\\\\n",
       "\tCBFTYPESCBF:FD & -0.220280357 & 0.10125807 & 636.0000 & -2.1754350 &  2.996509e-02\\\\\n",
       "\tCBFTYPESCRUB:FD &  0.099629621 & 0.10125807 & 636.0000 &  0.9839178 &  3.255301e-01\\\\\n",
       "\\end{tabular}\n"
      ],
      "text/markdown": [
       "\n",
       "A matrix: 8 × 5 of type dbl\n",
       "\n",
       "| <!--/--> | Estimate | Std. Error | df | t value | Pr(&gt;|t|) |\n",
       "|---|---|---|---|---|---|\n",
       "| (Intercept) |  0.857566285 | 0.02237323 | 507.5188 | 38.3300140 | 5.896741e-152 |\n",
       "| CBFTYPEPVC | -0.079898935 | 0.02297177 | 636.0000 | -3.4781358 |  5.393611e-04 |\n",
       "| CBFTYPESCBF | -0.104786558 | 0.02297177 | 636.0000 | -4.5615361 |  6.094033e-06 |\n",
       "| CBFTYPESCRUB |  0.008211731 | 0.02297177 | 636.0000 |  0.3574706 |  7.208582e-01 |\n",
       "| FD | -0.241708780 | 0.09861976 | 507.5188 | -2.4509164 |  1.458561e-02 |\n",
       "| CBFTYPEPVC:FD |  0.034201987 | 0.10125807 | 636.0000 |  0.3377705 |  7.356476e-01 |\n",
       "| CBFTYPESCBF:FD | -0.220280357 | 0.10125807 | 636.0000 | -2.1754350 |  2.996509e-02 |\n",
       "| CBFTYPESCRUB:FD |  0.099629621 | 0.10125807 | 636.0000 |  0.9839178 |  3.255301e-01 |\n",
       "\n"
      ],
      "text/plain": [
       "                Estimate     Std. Error df       t value    Pr(>|t|)     \n",
       "(Intercept)      0.857566285 0.02237323 507.5188 38.3300140 5.896741e-152\n",
       "CBFTYPEPVC      -0.079898935 0.02297177 636.0000 -3.4781358  5.393611e-04\n",
       "CBFTYPESCBF     -0.104786558 0.02297177 636.0000 -4.5615361  6.094033e-06\n",
       "CBFTYPESCRUB     0.008211731 0.02297177 636.0000  0.3574706  7.208582e-01\n",
       "FD              -0.241708780 0.09861976 507.5188 -2.4509164  1.458561e-02\n",
       "CBFTYPEPVC:FD    0.034201987 0.10125807 636.0000  0.3377705  7.356476e-01\n",
       "CBFTYPESCBF:FD  -0.220280357 0.10125807 636.0000 -2.1754350  2.996509e-02\n",
       "CBFTYPESCRUB:FD  0.099629621 0.10125807 636.0000  0.9839178  3.255301e-01"
      ]
     },
     "metadata": {},
     "output_type": "display_data"
    }
   ],
   "source": [
    "summary(pnc.model)$coefficients"
   ]
  },
  {
   "cell_type": "code",
   "execution_count": 6,
   "id": "90872109",
   "metadata": {},
   "outputs": [],
   "source": [
    "#write.table('file.txt',spnc.model$coefficients)"
   ]
  },
  {
   "cell_type": "code",
   "execution_count": 7,
   "id": "016be66f",
   "metadata": {},
   "outputs": [
    {
     "ename": "ERROR",
     "evalue": "Error in pnc.model$coefficients: $ operator not defined for this S4 class\n",
     "output_type": "error",
     "traceback": [
      "Error in pnc.model$coefficients: $ operator not defined for this S4 class\nTraceback:\n",
      "1. p.adjust(pnc.model$coefficients)"
     ]
    }
   ],
   "source": [
    "p.adjust(pnc.model$coefficients)"
   ]
  },
  {
   "cell_type": "code",
   "execution_count": null,
   "id": "205873fe",
   "metadata": {},
   "outputs": [],
   "source": [
    "dd = tidy(pnc.model)\n",
    "dd$p.bonf  = p.adjust(dd$p.value)\n",
    "#dd\n",
    "\n",
    "tablex = cbind(dd$term,dd$estimate,dd$std.error,dd$statistic,dd$df,dd$p.value,dd$p.bonf)\n",
    "tablex"
   ]
  },
  {
   "cell_type": "code",
   "execution_count": null,
   "id": "20bbc7f6",
   "metadata": {},
   "outputs": [],
   "source": [
    "\n",
    "dd = tidy(pnc.model)\n",
    "dd$p.bonf  = p.adjust(dd$p.value)\n",
    "#dd\n",
    "\n",
    "tablex = cbind(dd$term,dd$estimate,dd$std.error,dd$statistic,dd$df,dd$p.value,dd$p.bonf)\n",
    "#tablex\n",
    "colnames(tablex)=c('Term','Estimate','Std.Error','tStatistic','df','pvalue','pvaluebonf')\n",
    "tablex = tablex [complete.cases(tablex ), ]\n",
    "tablex =data.frame(tablex)\n",
    "tablex$Estimate=round(as.numeric(tablex$Estimate),4)\n",
    "tablex$Std.Error=round(as.numeric(tablex$Std.Error),4)\n",
    "tablex$tStatistic=round(as.numeric(tablex$tStatistic),4)\n",
    "tablex$df=round(as.numeric(tablex$df),0)\n",
    "tablex$pvalue = signif(as.numeric(tablex$pvalue),4)\n",
    "tablex$pvaluebonf = signif(as.numeric(tablex$pvaluebonf),4)\n",
    "tablex"
   ]
  },
  {
   "cell_type": "code",
   "execution_count": null,
   "id": "2cffe2ff",
   "metadata": {},
   "outputs": [],
   "source": [
    "write.table(tablex,file = \"pncmodeltest.txt\",quote=F, row.names=F,sep = \"   \")"
   ]
  },
  {
   "cell_type": "code",
   "execution_count": null,
   "id": "25873db7",
   "metadata": {},
   "outputs": [],
   "source": [
    "summary(pnc.model)"
   ]
  },
  {
   "cell_type": "code",
   "execution_count": 14,
   "id": "434d09f4",
   "metadata": {},
   "outputs": [
    {
     "data": {
      "text/html": [
       "<strong>null device:</strong> 1"
      ],
      "text/latex": [
       "\\textbf{null device:} 1"
      ],
      "text/markdown": [
       "**null device:** 1"
      ],
      "text/plain": [
       "null device \n",
       "          1 "
      ]
     },
     "metadata": {},
     "output_type": "display_data"
    },
    {
     "name": "stderr",
     "output_type": "stream",
     "text": [
      "`geom_smooth()` using formula 'y ~ x'\n",
      "\n",
      "`geom_smooth()` using formula 'y ~ x'\n",
      "\n",
      "`geom_smooth()` using formula 'y ~ x'\n",
      "\n"
     ]
    },
    {
     "data": {
      "text/html": [
       "<strong>null device:</strong> 1"
      ],
      "text/latex": [
       "\\textbf{null device:} 1"
      ],
      "text/markdown": [
       "**null device:** 1"
      ],
      "text/plain": [
       "null device \n",
       "          1 "
      ]
     },
     "metadata": {},
     "output_type": "display_data"
    }
   ],
   "source": [
    "datax = read.csv('gmdata2.csv')\n",
    "datax <- subset(datax, datax$QEI> 0.1)\n",
    "namex='FTD'\n",
    "datay = datax[datax$Datasets ==namex,]\n",
    "scbf = datay[datay$CBFTYPE=='SCBF',]\n",
    "scrub = datay[datay$CBFTYPE=='SCRUB',]\n",
    "basil = datay[datay$CBFTYPE=='BASIL',]\n",
    "pvc = datay[datay$CBFTYPE=='PVC',]\n",
    "\n",
    "cols = c(\"LINE1\"=\"#e34a33\",\"LINE2\"=\"#3182bd\",\"LINE3\"=\"#d95f02\",'LINE4'=\"#c51b8a\")\n",
    "\n",
    "CBF_Age_plot <- ggplot() + xlim(0, 1)+ ylim(0,1) +\n",
    "  #theme(legend.position = \"none\")  +\n",
    "  \n",
    "  theme(axis.title.x = element_text(size = rel(1.6))) +\n",
    "  theme(axis.title.y = element_text(size = rel(1.6))) + \n",
    "  theme(axis.text = element_text(size = rel(1.4))) + theme(axis.line = element_line(colour = 'black', size = 1.5), axis.ticks.length = unit(.25, \"cm\")) +\n",
    "  theme(panel.grid.major = element_blank(), panel.grid.minor = element_blank(), panel.background = element_blank()) +\n",
    "  #geom_point(data = predicts, aes(x, y), colour = \"darksalmon\", alpha=0.7 ) +  \n",
    "  geom_point(data=scbf,aes(x=FD, y=QEI),size=1,color=\"red\")+ \n",
    "  geom_point(data=scrub,aes(x=FD, y=QEI),size=1,color=\"blue\")+ \n",
    "  geom_point(data=basil,aes(x=FD, y=QEI),size=1,color='darkgreen')+ \n",
    "  geom_point(data=pvc,aes(x=FD, y=QEI),size=1,color=\"#c51b8a\")+ \n",
    "\n",
    "  geom_smooth(method='lm',data=scbf, aes(x=FD, y=QEI), color=\"red\")+\n",
    "  geom_smooth(method='lm',data=scrub,aes(x=FD, y=QEI), color=\"blue\")+\n",
    "  geom_smooth(method='lm',data=basil,aes(x=FD, y=QEI), color='darkgreen')+\n",
    "  geom_smooth(method='lm',data=pvc,aes(x=FD, y=QEI), color=\"#c51b8a\") +\n",
    "  labs(x = \"FD\", y = \"QEI\",color=cols,title =namex)+ \n",
    "  scale_colour_manual(values=cols) + \n",
    "  scale_linetype_manual(values=cols) \n",
    "\n",
    "  #theme(legend.position=\"bottom\")\n",
    "\n",
    "dev.off()\n",
    "\n",
    "## Export image\n",
    "png(filename=\"FTD_QEI_FD.png\",res = 600, width = 4, height = 4, units = 'in',)\n",
    "CBF_Age_plot\n",
    "dev.off()"
   ]
  },
  {
   "cell_type": "code",
   "execution_count": null,
   "id": "73745cf7",
   "metadata": {},
   "outputs": [],
   "source": [
    "max(datax$NEG_CBF)"
   ]
  },
  {
   "cell_type": "code",
   "execution_count": 8,
   "id": "7ddc9509",
   "metadata": {},
   "outputs": [
    {
     "name": "stdout",
     "output_type": "stream",
     "text": [
      " num 10\n"
     ]
    }
   ],
   "source": [
    "b = str(10)\n"
   ]
  },
  {
   "cell_type": "code",
   "execution_count": 9,
   "id": "012ab53f",
   "metadata": {},
   "outputs": [
    {
     "data": {
      "text/plain": [
       "NULL"
      ]
     },
     "metadata": {},
     "output_type": "display_data"
    }
   ],
   "source": [
    "b"
   ]
  },
  {
   "cell_type": "code",
   "execution_count": 12,
   "id": "85859fb3",
   "metadata": {},
   "outputs": [
    {
     "data": {
      "text/html": [
       "1"
      ],
      "text/latex": [
       "1"
      ],
      "text/markdown": [
       "1"
      ],
      "text/plain": [
       "[1] 1"
      ]
     },
     "metadata": {},
     "output_type": "display_data"
    }
   ],
   "source": [
    "length('ddd')"
   ]
  },
  {
   "cell_type": "code",
   "execution_count": null,
   "id": "c6eb1867",
   "metadata": {},
   "outputs": [],
   "source": []
  }
 ],
 "metadata": {
  "kernelspec": {
   "display_name": "R",
   "language": "R",
   "name": "ir"
  },
  "language_info": {
   "codemirror_mode": "r",
   "file_extension": ".r",
   "mimetype": "text/x-r-source",
   "name": "R",
   "pygments_lexer": "r",
   "version": "4.1.1"
  }
 },
 "nbformat": 4,
 "nbformat_minor": 5
}
