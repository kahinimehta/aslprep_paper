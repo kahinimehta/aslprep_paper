{
 "cells": [
  {
   "cell_type": "code",
   "execution_count": 1,
   "metadata": {},
   "outputs": [
    {
     "name": "stderr",
     "output_type": "stream",
     "text": [
      "Loading required package: nlme\n",
      "\n",
      "This is mgcv 1.8-36. For overview type 'help(\"mgcv-package\")'.\n",
      "\n",
      "Loading required namespace: memoise\n",
      "\n",
      "\n",
      "Attaching package: ‘plyr’\n",
      "\n",
      "\n",
      "The following object is masked from ‘package:ggpubr’:\n",
      "\n",
      "    mutate\n",
      "\n",
      "\n",
      "Loading required package: lme4\n",
      "\n",
      "Loading required package: Matrix\n",
      "\n",
      "\n",
      "Attaching package: ‘lme4’\n",
      "\n",
      "\n",
      "The following object is masked from ‘package:nlme’:\n",
      "\n",
      "    lmList\n",
      "\n",
      "\n",
      "\n",
      "Attaching package: ‘lmerTest’\n",
      "\n",
      "\n",
      "The following object is masked from ‘package:lme4’:\n",
      "\n",
      "    lmer\n",
      "\n",
      "\n",
      "The following object is masked from ‘package:stats’:\n",
      "\n",
      "    step\n",
      "\n",
      "\n"
     ]
    }
   ],
   "source": [
    "library(ggplot2)\n",
    "library(mgcv)\n",
    "library(visreg)\n",
    "library(reshape2)\n",
    "library(ggpubr)\n",
    "library(ggpattern)\n",
    "library(plyr)\n",
    "library(ggsignif)\n",
    "library(lmerTest)"
   ]
  },
  {
   "cell_type": "code",
   "execution_count": 2,
   "metadata": {},
   "outputs": [],
   "source": [
    "datax=read.csv('gmdata.csv')\n",
    "datax = na.omit(datax)\n",
    "datax = datax[datax$CBF.GM < 120 ,]\n",
    "datax = datax[datax$CBF.GM > 5 ,]\n"
   ]
  },
  {
   "cell_type": "code",
   "execution_count": 3,
   "metadata": {},
   "outputs": [
    {
     "data": {
      "text/plain": [
       "\n",
       "Family: gaussian \n",
       "Link function: identity \n",
       "\n",
       "Formula:\n",
       "CBF.GM ~ s(AGE, k = 4)\n",
       "\n",
       "Parametric coefficients:\n",
       "            Estimate Std. Error t value Pr(>|t|)    \n",
       "(Intercept)   65.041      0.242   268.8   <2e-16 ***\n",
       "---\n",
       "Signif. codes:  0 ‘***’ 0.001 ‘**’ 0.01 ‘*’ 0.05 ‘.’ 0.1 ‘ ’ 1\n",
       "\n",
       "Approximate significance of smooth terms:\n",
       "         edf Ref.df    F p-value    \n",
       "s(AGE) 2.991      3 1083  <2e-16 ***\n",
       "---\n",
       "Signif. codes:  0 ‘***’ 0.001 ‘**’ 0.01 ‘*’ 0.05 ‘.’ 0.1 ‘ ’ 1\n",
       "\n",
       "R-sq.(adj) =  0.516   Deviance explained = 51.6%\n",
       "-REML =  12232  Scale est. = 178.51    n = 3048"
      ]
     },
     "metadata": {},
     "output_type": "display_data"
    },
    {
     "data": {
      "text/html": [
       "0"
      ],
      "text/latex": [
       "0"
      ],
      "text/markdown": [
       "0"
      ],
      "text/plain": [
       "[1] 0"
      ]
     },
     "metadata": {},
     "output_type": "display_data"
    },
    {
     "data": {
      "text/html": [
       "<strong>null device:</strong> 1"
      ],
      "text/latex": [
       "\\textbf{null device:} 1"
      ],
      "text/markdown": [
       "**null device:** 1"
      ],
      "text/plain": [
       "null device \n",
       "          1 "
      ]
     },
     "metadata": {},
     "output_type": "display_data"
    },
    {
     "name": "stderr",
     "output_type": "stream",
     "text": [
      "Warning message:\n",
      "“Removed 9 rows containing missing values (geom_point).”\n",
      "Warning message:\n",
      "“Removed 8 rows containing missing values (geom_point).”\n",
      "Warning message:\n",
      "“Removed 1 rows containing missing values (geom_point).”\n",
      "Warning message:\n",
      "“Removed 10 row(s) containing missing values (geom_path).”\n",
      "Warning message:\n",
      "“Removed 10 row(s) containing missing values (geom_path).”\n",
      "Warning message:\n",
      "“Removed 10 row(s) containing missing values (geom_path).”\n"
     ]
    },
    {
     "data": {
      "text/html": [
       "<strong>null device:</strong> 1"
      ],
      "text/latex": [
       "\\textbf{null device:} 1"
      ],
      "text/markdown": [
       "**null device:** 1"
      ],
      "text/plain": [
       "null device \n",
       "          1 "
      ]
     },
     "metadata": {},
     "output_type": "display_data"
    }
   ],
   "source": [
    "datay = datax[datax$CBF.TYPE =='CBF',]\n",
    "pnc = datay[datay$Datasets=='PNC',]\n",
    "nki = datay[datay$Datasets=='NKI',]\n",
    "age = datay[datay$Datasets=='AGE',]\n",
    "irr = datay[datay$Datasets=='IRR',]\n",
    "ftd = datay[datay$Datasets=='FTD',]\n",
    "\n",
    "#############################################################\n",
    "cbf_Age_gam <- gam(CBF.GM ~ s(AGE, k=4), method=\"REML\", data = datay)\n",
    "\n",
    "#####################\n",
    "## Look at results ##\n",
    "#####################\n",
    "summary(cbf_Age_gam)\n",
    "\n",
    "## Nonlinear age effect\n",
    "Age_pval <- summary(cbf_Age_gam)$s.table[1,4]\n",
    "Age_pval\n",
    "\n",
    "####################################\n",
    "## Visualize Nonlinear Age Effect ##\n",
    "####################################\n",
    "plotdata <- visreg(cbf_Age_gam,'AGE',type = \"conditional\",scale = \"linear\", plot = FALSE)\n",
    "smooths <- data.frame(Variable = plotdata$meta$x, \n",
    "                      x=plotdata$fit[[plotdata$meta$x]], \n",
    "                      smooth=plotdata$fit$visregFit, \n",
    "                      lower=plotdata$fit$visregLwr, \n",
    "                      upper=plotdata$fit$visregUpr)\n",
    "predicts <- data.frame(Variable = \"dim1\", \n",
    "                       x=plotdata$res$AGE,\n",
    "                       y=plotdata$res$visregRes)\n",
    "\n",
    "CBF_Age_plot <- ggplot() + xlim(8, 85)+ ylim(0,140) +\n",
    "  #theme(legend.position = \"none\")  +\n",
    "  labs(x = \"Age (years)\", y = \"CBF(mL/100 g/min)\") +\n",
    "  theme(axis.title.x = element_text(size = rel(1.6))) +\n",
    "  theme(axis.title.y = element_text(size = rel(1.6))) + \n",
    "  theme(axis.text = element_text(size = rel(1.4))) + theme(axis.line = element_line(colour = 'black', size = 1.5), axis.ticks.length = unit(.25, \"cm\")) +\n",
    "  theme(panel.grid.major = element_blank(), panel.grid.minor = element_blank(), panel.background = element_blank()) +\n",
    "  geom_point(data = predicts, aes(x, y), colour = \"darksalmon\", alpha=0.7 ) +  \n",
    "  #geom_point(data=datay,aes(x=AGE, y=CBF.GM),size=1)+ \n",
    "  geom_point(data=pnc,aes(x=AGE, y=CBF.GM),shape=21,size=2,fill='#e34a33', color=\"white\")+ \n",
    "  geom_point(data=nki,aes(x=AGE, y=CBF.GM),shape=21,size=2,fill=\"#3182bd\", color=\"white\")+ \n",
    "  geom_point(data=irr,aes(x=AGE, y=CBF.GM),shape=21,size=2,fill=\"#31a354\", color=\"white\")+ \n",
    "  geom_point(data=ftd,aes(x=AGE, y=CBF.GM),shape=21,size=2,fill=\"#d95f02\", color=\"white\")+ \n",
    "  geom_point(data=age,aes(x=AGE, y=CBF.GM),shape=21,size=2,fill=\"#c51b8a\", color=\"white\")+ \n",
    "  geom_line(data = smooths, aes(x = x, y = smooth), colour = \"midnightblue\",size=1) +\n",
    "  geom_line(data = smooths, aes(x = x, y=lower), linetype=\"dashed\", colour = \"midnightblue\", alpha = 0.9, size = 0.9) + \n",
    "  geom_line(data = smooths, aes(x = x, y=upper), linetype=\"dashed\",colour = \"midnightblue\", alpha = 0.9, size = 0.9) +\n",
    "  coord_cartesian(xlim = c(10.5,85), ylim = c(0,140))\n",
    "  \n",
    "  \n",
    " \n",
    "\n",
    "dev.off()\n",
    "\n",
    "## Export image\n",
    "png(filename=\"CBF_AGE_fit.png\",res = 600, width = 4, height = 4, units = 'in',)\n",
    "CBF_Age_plot\n",
    "dev.off()\n"
   ]
  },
  {
   "cell_type": "code",
   "execution_count": 4,
   "metadata": {},
   "outputs": [
    {
     "data": {
      "text/plain": [
       "\n",
       "Family: gaussian \n",
       "Link function: identity \n",
       "\n",
       "Formula:\n",
       "CBF.GM ~ s(AGE, k = 4)\n",
       "\n",
       "Parametric coefficients:\n",
       "            Estimate Std. Error t value Pr(>|t|)    \n",
       "(Intercept)   63.948      0.223   286.7   <2e-16 ***\n",
       "---\n",
       "Signif. codes:  0 ‘***’ 0.001 ‘**’ 0.01 ‘*’ 0.05 ‘.’ 0.1 ‘ ’ 1\n",
       "\n",
       "Approximate significance of smooth terms:\n",
       "         edf Ref.df     F p-value    \n",
       "s(AGE) 2.995      3 762.6  <2e-16 ***\n",
       "---\n",
       "Signif. codes:  0 ‘***’ 0.001 ‘**’ 0.01 ‘*’ 0.05 ‘.’ 0.1 ‘ ’ 1\n",
       "\n",
       "R-sq.(adj) =  0.437   Deviance explained = 43.7%\n",
       "-REML =  11533  Scale est. = 146.56    n = 2946"
      ]
     },
     "metadata": {},
     "output_type": "display_data"
    },
    {
     "data": {
      "text/html": [
       "0"
      ],
      "text/latex": [
       "0"
      ],
      "text/markdown": [
       "0"
      ],
      "text/plain": [
       "[1] 0"
      ]
     },
     "metadata": {},
     "output_type": "display_data"
    },
    {
     "data": {
      "text/html": [
       "<strong>null device:</strong> 1"
      ],
      "text/latex": [
       "\\textbf{null device:} 1"
      ],
      "text/markdown": [
       "**null device:** 1"
      ],
      "text/plain": [
       "null device \n",
       "          1 "
      ]
     },
     "metadata": {},
     "output_type": "display_data"
    },
    {
     "name": "stderr",
     "output_type": "stream",
     "text": [
      "Warning message:\n",
      "“Removed 8 rows containing missing values (geom_point).”\n",
      "Warning message:\n",
      "“Removed 8 rows containing missing values (geom_point).”\n",
      "Warning message:\n",
      "“Removed 3 row(s) containing missing values (geom_path).”\n",
      "Warning message:\n",
      "“Removed 3 row(s) containing missing values (geom_path).”\n",
      "Warning message:\n",
      "“Removed 3 row(s) containing missing values (geom_path).”\n"
     ]
    },
    {
     "data": {
      "text/html": [
       "<strong>null device:</strong> 1"
      ],
      "text/latex": [
       "\\textbf{null device:} 1"
      ],
      "text/markdown": [
       "**null device:** 1"
      ],
      "text/plain": [
       "null device \n",
       "          1 "
      ]
     },
     "metadata": {},
     "output_type": "display_data"
    }
   ],
   "source": [
    "datay = datax[datax$CBF.TYPE =='BASIL',]\n",
    "pnc = datay[datay$Datasets=='PNC',]\n",
    "nki = datay[datay$Datasets=='NKI',]\n",
    "age = datay[datay$Datasets=='AGE',]\n",
    "irr = datay[datay$Datasets=='IRR',]\n",
    "ftd = datay[datay$Datasets=='FTD',]\n",
    "\n",
    "#############################################################\n",
    "cbf_Age_gam <- gam(CBF.GM ~ s(AGE, k=4), method=\"REML\", data = datay)\n",
    "\n",
    "#####################\n",
    "## Look at results ##\n",
    "#####################\n",
    "summary(cbf_Age_gam)\n",
    "\n",
    "## Nonlinear age effect\n",
    "Age_pval <- summary(cbf_Age_gam)$s.table[1,4]\n",
    "Age_pval\n",
    "\n",
    "####################################\n",
    "## Visualize Nonlinear Age Effect ##\n",
    "####################################\n",
    "plotdata <- visreg(cbf_Age_gam,'AGE',type = \"conditional\",scale = \"linear\", plot = FALSE)\n",
    "smooths <- data.frame(Variable = plotdata$meta$x, \n",
    "                      x=plotdata$fit[[plotdata$meta$x]], \n",
    "                      smooth=plotdata$fit$visregFit, \n",
    "                      lower=plotdata$fit$visregLwr, \n",
    "                      upper=plotdata$fit$visregUpr)\n",
    "predicts <- data.frame(Variable = \"dim1\", \n",
    "                       x=plotdata$res$AGE,\n",
    "                       y=plotdata$res$visregRes)\n",
    "\n",
    "CBF_Age_plot <- ggplot() + xlim(8, 85)+ ylim(0,140) +\n",
    "  #theme(legend.position = \"none\")  +\n",
    "  labs(x = \"Age (years)\", y = \"CBF(mL/100 g/min)\") +\n",
    "  theme(axis.title.x = element_text(size = rel(1.6))) +\n",
    "  theme(axis.title.y = element_text(size = rel(1.6))) + \n",
    "  theme(axis.text = element_text(size = rel(1.4))) + theme(axis.line = element_line(colour = 'black', size = 1.5), axis.ticks.length = unit(.25, \"cm\")) +\n",
    "  theme(panel.grid.major = element_blank(), panel.grid.minor = element_blank(), panel.background = element_blank()) +\n",
    "  geom_point(data = predicts, aes(x, y), colour = \"darksalmon\", alpha=0.7 ) +  \n",
    "  #geom_point(data=datay,aes(x=AGE, y=CBF.GM),size=1)+ \n",
    "  geom_point(data=pnc,aes(x=AGE, y=CBF.GM),shape=21,size=2,fill='#e34a33', color=\"white\")+ \n",
    "  geom_point(data=nki,aes(x=AGE, y=CBF.GM),shape=21,size=2,fill=\"#3182bd\", color=\"white\")+ \n",
    "  geom_point(data=irr,aes(x=AGE, y=CBF.GM),shape=21,size=2,fill=\"#31a354\", color=\"white\")+ \n",
    "  geom_point(data=ftd,aes(x=AGE, y=CBF.GM),shape=21,size=2,fill=\"#d95f02\", color=\"white\")+ \n",
    "  geom_point(data=age,aes(x=AGE, y=CBF.GM),shape=21,size=2,fill=\"#c51b8a\", color=\"white\")+ \n",
    "  geom_line(data = smooths, aes(x = x, y = smooth), colour = \"midnightblue\",size=1) +\n",
    "  geom_line(data = smooths, aes(x = x, y=lower), linetype=\"dashed\", colour = \"midnightblue\", alpha = 0.9, size = 0.9) + \n",
    "  geom_line(data = smooths, aes(x = x, y=upper), linetype=\"dashed\",colour = \"midnightblue\", alpha = 0.9, size = 0.9) +\n",
    "  coord_cartesian(xlim = c(10.5,85), ylim = c(0,140))\n",
    "  \n",
    "  \n",
    " \n",
    "\n",
    "dev.off()\n",
    "\n",
    "## Export image\n",
    "png(filename=\"BASIL_AGE_fit.png\",res = 600, width = 4, height = 4, units = 'in',)\n",
    "CBF_Age_plot\n",
    "dev.off()"
   ]
  },
  {
   "cell_type": "code",
   "execution_count": 9,
   "metadata": {},
   "outputs": [
    {
     "data": {
      "text/plain": [
       "\n",
       "Family: gaussian \n",
       "Link function: identity \n",
       "\n",
       "Formula:\n",
       "CBF.GM ~ s(AGE, k = 4)\n",
       "\n",
       "Parametric coefficients:\n",
       "            Estimate Std. Error t value Pr(>|t|)    \n",
       "(Intercept)  69.1480     0.2518   274.6   <2e-16 ***\n",
       "---\n",
       "Signif. codes:  0 ‘***’ 0.001 ‘**’ 0.01 ‘*’ 0.05 ‘.’ 0.1 ‘ ’ 1\n",
       "\n",
       "Approximate significance of smooth terms:\n",
       "         edf Ref.df     F p-value    \n",
       "s(AGE) 2.989      3 962.1  <2e-16 ***\n",
       "---\n",
       "Signif. codes:  0 ‘***’ 0.001 ‘**’ 0.01 ‘*’ 0.05 ‘.’ 0.1 ‘ ’ 1\n",
       "\n",
       "R-sq.(adj) =  0.498   Deviance explained = 49.8%\n",
       "-REML =  11717  Scale est. = 184.37    n = 2908"
      ]
     },
     "metadata": {},
     "output_type": "display_data"
    },
    {
     "data": {
      "text/html": [
       "0"
      ],
      "text/latex": [
       "0"
      ],
      "text/markdown": [
       "0"
      ],
      "text/plain": [
       "[1] 0"
      ]
     },
     "metadata": {},
     "output_type": "display_data"
    },
    {
     "data": {
      "text/html": [
       "<strong>null device:</strong> 1"
      ],
      "text/latex": [
       "\\textbf{null device:} 1"
      ],
      "text/markdown": [
       "**null device:** 1"
      ],
      "text/plain": [
       "null device \n",
       "          1 "
      ]
     },
     "metadata": {},
     "output_type": "display_data"
    },
    {
     "name": "stderr",
     "output_type": "stream",
     "text": [
      "Warning message:\n",
      "“Removed 9 rows containing missing values (geom_point).”\n",
      "Warning message:\n",
      "“Removed 9 rows containing missing values (geom_point).”\n",
      "Warning message:\n",
      "“Removed 3 row(s) containing missing values (geom_path).”\n",
      "Warning message:\n",
      "“Removed 3 row(s) containing missing values (geom_path).”\n",
      "Warning message:\n",
      "“Removed 3 row(s) containing missing values (geom_path).”\n"
     ]
    },
    {
     "data": {
      "text/html": [
       "<strong>null device:</strong> 1"
      ],
      "text/latex": [
       "\\textbf{null device:} 1"
      ],
      "text/markdown": [
       "**null device:** 1"
      ],
      "text/plain": [
       "null device \n",
       "          1 "
      ]
     },
     "metadata": {},
     "output_type": "display_data"
    }
   ],
   "source": [
    "datay = datax[datax$CBF.TYPE =='PVC',]\n",
    "pnc = datay[datay$Datasets=='PNC',]\n",
    "nki = datay[datay$Datasets=='NKI',]\n",
    "age = datay[datay$Datasets=='AGE',]\n",
    "irr = datay[datay$Datasets=='IRR',]\n",
    "ftd = datay[datay$Datasets=='FTD',]\n",
    "\n",
    "#############################################################\n",
    "cbf_Age_gam <- gam(CBF.GM ~ s(AGE, k=4), method=\"REML\", data = datay)\n",
    "\n",
    "#####################\n",
    "## Look at results ##\n",
    "#####################\n",
    "summary(cbf_Age_gam)\n",
    "\n",
    "## Nonlinear age effect\n",
    "Age_pval <- summary(cbf_Age_gam)$s.table[1,4]\n",
    "Age_pval\n",
    "\n",
    "####################################\n",
    "## Visualize Nonlinear Age Effect ##\n",
    "####################################\n",
    "plotdata <- visreg(cbf_Age_gam,'AGE',type = \"conditional\",scale = \"linear\", plot = FALSE)\n",
    "smooths <- data.frame(Variable = plotdata$meta$x, \n",
    "                      x=plotdata$fit[[plotdata$meta$x]], \n",
    "                      smooth=plotdata$fit$visregFit, \n",
    "                      lower=plotdata$fit$visregLwr, \n",
    "                      upper=plotdata$fit$visregUpr)\n",
    "predicts <- data.frame(Variable = \"dim1\", \n",
    "                       x=plotdata$res$AGE,\n",
    "                       y=plotdata$res$visregRes)\n",
    "\n",
    "CBF_Age_plot <- ggplot() + xlim(8, 85)+ ylim(0,140) +\n",
    "  #theme(legend.position = \"none\")  +\n",
    "  labs(x = \"Age (years)\", y = \"CBF(mL/100 g/min)\") +\n",
    "  theme(axis.title.x = element_text(size = rel(1.6))) +\n",
    "  theme(axis.title.y = element_text(size = rel(1.6))) + \n",
    "  theme(axis.text = element_text(size = rel(1.4))) + theme(axis.line = element_line(colour = 'black', size = 1.5), axis.ticks.length = unit(.25, \"cm\")) +\n",
    "  theme(panel.grid.major = element_blank(), panel.grid.minor = element_blank(), panel.background = element_blank()) +\n",
    "  geom_point(data = predicts, aes(x, y), colour = \"darksalmon\", alpha=0.7 ) +  \n",
    "  #geom_point(data=datay,aes(x=AGE, y=CBF.GM),size=1)+ \n",
    "  geom_point(data=pnc,aes(x=AGE, y=CBF.GM),shape=21,size=2,fill='#e34a33', color=\"white\")+ \n",
    "  geom_point(data=nki,aes(x=AGE, y=CBF.GM),shape=21,size=2,fill=\"#3182bd\", color=\"white\")+ \n",
    "  geom_point(data=irr,aes(x=AGE, y=CBF.GM),shape=21,size=2,fill=\"#31a354\", color=\"white\")+ \n",
    "  geom_point(data=ftd,aes(x=AGE, y=CBF.GM),shape=21,size=2,fill=\"#d95f02\", color=\"white\")+ \n",
    "  geom_point(data=age,aes(x=AGE, y=CBF.GM),shape=21,size=2,fill=\"#c51b8a\", color=\"white\")+ \n",
    "  geom_line(data = smooths, aes(x = x, y = smooth), colour = \"midnightblue\",size=1) +\n",
    "  geom_line(data = smooths, aes(x = x, y=lower), linetype=\"dashed\", colour = \"midnightblue\", alpha = 0.9, size = 0.9) + \n",
    "  geom_line(data = smooths, aes(x = x, y=upper), linetype=\"dashed\",colour = \"midnightblue\", alpha = 0.9, size = 0.9) +\n",
    " coord_cartesian(xlim = c(10.5,85), ylim = c(0,140))\n",
    "  \n",
    "  \n",
    " \n",
    "\n",
    "dev.off()\n",
    "\n",
    "## Export image\n",
    "png(filename=\"PVC_AGE_fit.png\",res = 600, width = 6, height = 4, units = 'in',)\n",
    "CBF_Age_plot\n",
    "dev.off()"
   ]
  },
  {
   "cell_type": "code",
   "execution_count": 8,
   "metadata": {},
   "outputs": [
    {
     "data": {
      "text/plain": [
       "\n",
       "Family: gaussian \n",
       "Link function: identity \n",
       "\n",
       "Formula:\n",
       "CBF.GM ~ s(AGE, k = 4)\n",
       "\n",
       "Parametric coefficients:\n",
       "            Estimate Std. Error t value Pr(>|t|)    \n",
       "(Intercept)  64.0274     0.2355   271.8   <2e-16 ***\n",
       "---\n",
       "Signif. codes:  0 ‘***’ 0.001 ‘**’ 0.01 ‘*’ 0.05 ‘.’ 0.1 ‘ ’ 1\n",
       "\n",
       "Approximate significance of smooth terms:\n",
       "         edf Ref.df    F p-value    \n",
       "s(AGE) 2.992      3 1073  <2e-16 ***\n",
       "---\n",
       "Signif. codes:  0 ‘***’ 0.001 ‘**’ 0.01 ‘*’ 0.05 ‘.’ 0.1 ‘ ’ 1\n",
       "\n",
       "R-sq.(adj) =  0.522   Deviance explained = 52.3%\n",
       "-REML =  11680  Scale est. = 163.28    n = 2943"
      ]
     },
     "metadata": {},
     "output_type": "display_data"
    },
    {
     "data": {
      "text/html": [
       "0"
      ],
      "text/latex": [
       "0"
      ],
      "text/markdown": [
       "0"
      ],
      "text/plain": [
       "[1] 0"
      ]
     },
     "metadata": {},
     "output_type": "display_data"
    },
    {
     "data": {
      "text/html": [
       "<strong>null device:</strong> 1"
      ],
      "text/latex": [
       "\\textbf{null device:} 1"
      ],
      "text/markdown": [
       "**null device:** 1"
      ],
      "text/plain": [
       "null device \n",
       "          1 "
      ]
     },
     "metadata": {},
     "output_type": "display_data"
    },
    {
     "name": "stderr",
     "output_type": "stream",
     "text": [
      "Warning message:\n",
      "“Removed 9 rows containing missing values (geom_point).”\n",
      "Warning message:\n",
      "“Removed 9 rows containing missing values (geom_point).”\n",
      "Warning message:\n",
      "“Removed 3 row(s) containing missing values (geom_path).”\n",
      "Warning message:\n",
      "“Removed 3 row(s) containing missing values (geom_path).”\n",
      "Warning message:\n",
      "“Removed 3 row(s) containing missing values (geom_path).”\n"
     ]
    },
    {
     "data": {
      "text/html": [
       "<strong>null device:</strong> 1"
      ],
      "text/latex": [
       "\\textbf{null device:} 1"
      ],
      "text/markdown": [
       "**null device:** 1"
      ],
      "text/plain": [
       "null device \n",
       "          1 "
      ]
     },
     "metadata": {},
     "output_type": "display_data"
    }
   ],
   "source": [
    "datay = datax[datax$CBF.TYPE =='SCRUB',]\n",
    "pnc = datay[datay$Datasets=='PNC',]\n",
    "nki = datay[datay$Datasets=='NKI',]\n",
    "age = datay[datay$Datasets=='AGE',]\n",
    "irr = datay[datay$Datasets=='IRR',]\n",
    "#ftd = datay[datay$Datasets=='FTD',]\n",
    "\n",
    "#############################################################\n",
    "cbf_Age_gam <- gam(CBF.GM ~ s(AGE, k=4), method=\"REML\", data = datay)\n",
    "\n",
    "#####################\n",
    "## Look at results ##\n",
    "#####################\n",
    "summary(cbf_Age_gam)\n",
    "\n",
    "## Nonlinear age effect\n",
    "Age_pval <- summary(cbf_Age_gam)$s.table[1,4]\n",
    "Age_pval\n",
    "\n",
    "####################################\n",
    "## Visualize Nonlinear Age Effect ##\n",
    "####################################\n",
    "plotdata <- visreg(cbf_Age_gam,'AGE',type = \"conditional\",scale = \"linear\", plot = FALSE)\n",
    "smooths <- data.frame(Variable = plotdata$meta$x, \n",
    "                      x=plotdata$fit[[plotdata$meta$x]], \n",
    "                      smooth=plotdata$fit$visregFit, \n",
    "                      lower=plotdata$fit$visregLwr, \n",
    "                      upper=plotdata$fit$visregUpr)\n",
    "predicts <- data.frame(Variable = \"dim1\", \n",
    "                       x=plotdata$res$AGE,\n",
    "                       y=plotdata$res$visregRes)\n",
    "\n",
    "CBF_Age_plot <- ggplot() + xlim(8, 85)+ ylim(0,140) +\n",
    "  #theme(legend.position = \"none\")  +\n",
    "  labs(x = \"Age (years)\", y = \"CBF(mL/100 g/min)\") +\n",
    "  theme(axis.title.x = element_text(size = rel(1.6))) +\n",
    "  theme(axis.title.y = element_text(size = rel(1.6))) + \n",
    "  theme(axis.text = element_text(size = rel(1.4))) + theme(axis.line = element_line(colour = 'black', size = 1.5), axis.ticks.length = unit(.25, \"cm\")) +\n",
    "  theme(panel.grid.major = element_blank(), panel.grid.minor = element_blank(), panel.background = element_blank()) +\n",
    "  geom_point(data = predicts, aes(x, y), colour = \"darksalmon\", alpha=0.7 ) +  \n",
    "  #geom_point(data=datay,aes(x=AGE, y=CBF.GM),size=1)+ \n",
    "  geom_point(data=pnc,aes(x=AGE, y=CBF.GM),shape=21,size=2,fill='#e34a33', color=\"white\")+ \n",
    "  geom_point(data=nki,aes(x=AGE, y=CBF.GM),shape=21,size=2,fill=\"#3182bd\", color=\"white\")+ \n",
    "  geom_point(data=irr,aes(x=AGE, y=CBF.GM),shape=21,size=2,fill=\"#31a354\", color=\"white\")+ \n",
    "  geom_point(data=ftd,aes(x=AGE, y=CBF.GM),shape=21,size=2,fill=\"#d95f02\", color=\"white\")+ \n",
    "  geom_point(data=age,aes(x=AGE, y=CBF.GM),shape=21,size=2,fill=\"#c51b8a\", color=\"white\")+ \n",
    "  geom_line(data = smooths, aes(x = x, y = smooth), colour = \"midnightblue\",size=1) +\n",
    "  geom_line(data = smooths, aes(x = x, y=lower), linetype=\"dashed\", colour = \"midnightblue\", alpha = 0.9, size = 0.9) + \n",
    "  geom_line(data = smooths, aes(x = x, y=upper), linetype=\"dashed\",colour = \"midnightblue\", alpha = 0.9, size = 0.9) +\n",
    "  coord_cartesian(xlim = c(10.5,85), ylim = c(0,140))\n",
    "  \n",
    "  \n",
    " \n",
    "\n",
    "dev.off()\n",
    "\n",
    "## Export image\n",
    "png(filename=\"SCRUB_AGE_fit.png\",res = 600, width = 6, height = 4, units = 'in',)\n",
    "CBF_Age_plot\n",
    "dev.off()"
   ]
  },
  {
   "cell_type": "code",
   "execution_count": 7,
   "metadata": {},
   "outputs": [
    {
     "ename": "ERROR",
     "evalue": "Error in factor(sphere.corrected.qc$scheme, levels = study.levels): object 'sphere.corrected.qc' not found\n",
     "output_type": "error",
     "traceback": [
      "Error in factor(sphere.corrected.qc$scheme, levels = study.levels): object 'sphere.corrected.qc' not found\nTraceback:\n",
      "1. factor(sphere.corrected.qc$scheme, levels = study.levels)"
     ]
    }
   ],
   "source": [
    "qc.fwhm <- read.csv(\"scripts//pncdata/fwhmdata.csv\", header=TRUE)\n",
    "qc.fwhm$scheme <- factor(sphere.corrected.qc$scheme, levels=study.levels)\n",
    "scatter.theme <- theme(plot.title = element_text(hjust = 0.5, size=12))\n",
    "spallete <- \"Set1\"\n",
    "\n",
    "qcscatter <- ggplot( qc.fwhm, aes(x=PreviousPipeline, y=ASLPrepCBF, color=scheme)) +\n",
    "   geom_abline() + geom_point(alpha=0.7, stroke=0) + \n",
    "   xlim(0.2, 0.95) + ylim(0.2, 0.95) + theme_classic() +\n",
    "  coord_fixed() + scale_color_brewer(palette=spallete,name=\"\")\n",
    "\n",
    "#ggsave(\"scatters.png\", width=7, units=\"in\", height=3.5)\n",
    "qcscatter"
   ]
  },
  {
   "cell_type": "code",
   "execution_count": null,
   "metadata": {},
   "outputs": [],
   "source": [
    "scatter.theme <- theme( plot.title = element_text(hjust = 0.5, size=12))\n",
    "#pipeline.levels <- c(\"Raw\", \"QSIPrep\", \"OtherPipeline\")\n",
    "study.levels <- c('PreviousPipeline','ASLPrepCBF','ASLPrepSCRUB','ASLPrepBASIL','ASLPrepPVGM')\n",
    "multishell.pallete <- \"Set1\"\n",
    "# Load the QC data\n",
    "sphere.corrected.qc <- read.csv(\"scripts//pncdata/fwhmdata.csv\", header=TRUE)\n",
    "#sphere.corrected.qc = na.omit(sphere.corrected.qc)\n",
    "#sphere.corrected.qc$scheme <- factor(sphere.corrected.qc$scheme, levels=study.levels)\n",
    "qc.ref.lines <- geom_abline(slope=1, intercept=seq(-10, 10, by=1), size=0.15, color=\"gray\", alpha=0.8)\n",
    "fwhm.ref.lines <- geom_abline(slope=1, intercept=seq(-2, 2, by=1), size=0.15, color=\"gray\", alpha=0.8)\n",
    "sphere.scatters.qcd <- ggplot(\n",
    "  sphere.corrected.qc, aes(x=PreviousPipeline,y=ASLPrepCBF,color='r')) +\n",
    "  qc.ref.lines + geom_abline() + \n",
    "  geom_point(alpha=0.7, stroke=0) +\n",
    "  xlim(2.5, 8) + ylim(3, 8) + theme_classic() +\n",
    "  labs(title=\"FWHM (mm)\") +\n",
    "  coord_fixed() +\n",
    "  scale_color_brewer(palette=multishell.pallete,\n",
    "                     name=\"\") +\n",
    "  scatter.theme\n",
    "\n",
    "ggsave(\"shell_scatters.png\", width=7, units=\"in\", height=3.5)"
   ]
  },
  {
   "cell_type": "code",
   "execution_count": null,
   "metadata": {},
   "outputs": [],
   "source": [
    "qc <- read.csv(\"scripts//pncdata/fwhmdata.csv\", header=TRUE)\n",
    "cor(qc$PreviousPipeline,qc$ASLPrepCBF)"
   ]
  },
  {
   "cell_type": "code",
   "execution_count": null,
   "metadata": {},
   "outputs": [],
   "source": [
    "hist(qc$PreviousPipeline)"
   ]
  },
  {
   "cell_type": "code",
   "execution_count": null,
   "metadata": {},
   "outputs": [],
   "source": [
    "hist(qc$ASLPrepCBF)"
   ]
  },
  {
   "cell_type": "code",
   "execution_count": null,
   "metadata": {},
   "outputs": [],
   "source": []
  }
 ],
 "metadata": {
  "kernelspec": {
   "display_name": "R",
   "language": "R",
   "name": "ir"
  },
  "language_info": {
   "codemirror_mode": "r",
   "file_extension": ".r",
   "mimetype": "text/x-r-source",
   "name": "R",
   "pygments_lexer": "r",
   "version": "4.1.1"
  }
 },
 "nbformat": 4,
 "nbformat_minor": 4
}
