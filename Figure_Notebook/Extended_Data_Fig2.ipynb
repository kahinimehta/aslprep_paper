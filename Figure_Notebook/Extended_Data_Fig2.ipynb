{
 "cells": [
  {
   "cell_type": "markdown",
   "id": "6dca7453",
   "metadata": {},
   "source": [
    "## Extended Data Figure 2 plot \n",
    "\n",
    "Mean CBF maps for each dataset\n"
   ]
  },
  {
   "cell_type": "code",
   "execution_count": 1,
   "id": "9a64520b",
   "metadata": {},
   "outputs": [],
   "source": [
    "# import necessary plots  \n",
    "from nilearn import plotting\n",
    "import matplotlib.pyplot as plt"
   ]
  },
  {
   "cell_type": "code",
   "execution_count": null,
   "id": "92be71a5",
   "metadata": {},
   "outputs": [],
   "source": [
    "\n",
    "fig, axs = plt.subplots(5,5, sharex=False, sharey=True,dpi=800,figsize=(15,20))\n",
    "plt.tick_params(top='off', bottom='off', left='off', right='off', labelleft='off', labelbottom='off')\n",
    "\n",
    "template=None\n",
    "cmap1='coolwarm'\n",
    "th=2 # mimimum value\n",
    "v_max = 90 # maximum \n",
    "\n",
    "\n",
    "\n",
    "# pnc on the first row  axes[0,k]\n",
    "pnccbf=['PNC_meanCBF.nii.gz','PNC_meanSCRUB.nii.gz','PNC_meanBASIL.nii.gz','PNC_meanPVGM.nii.gz','PNC_meanPVWM.nii.gz'] \n",
    "for k in range(len(pnccbf)):\n",
    "    plotting.plot_stat_map(pnccbf[k],\n",
    "                       cmap=cmap1,symmetric_cbar=True,black_bg=False,display_mode=\"z\", \n",
    "                       cut_coords=[0],annotate=False,threshold=th,vmax=90,colorbar=False,\n",
    "                       draw_cross=False,axes=axs[0,k])\n",
    "\n",
    "# nki on the second row  axes[1,k]\n",
    "nkicbf=['NKI_sCBF.nii.gz','NKI_meanSCRUB.nii.gz','NKI_meanBASIL.nii.gz','NKI_meanPVGM.nii.gz','NKI_meanPVWM.nii.gz'] \n",
    "for k in range(len(nkicbf)):\n",
    "    plotting.plot_stat_map(nkicbf[k],\n",
    "                       cmap=cmap1,symmetric_cbar=True,black_bg=False,display_mode=\"z\", \n",
    "                       cut_coords=[0],annotate=False,threshold=th,vmax=90,colorbar=False,\n",
    "                       draw_cross=False,axes=axs[1,k])\n",
    "    \n",
    "\n",
    "# nki on the third row  axes[2,k]\n",
    "irrcbf=['IRR_meanCBF.nii.gz','IRR_meanSCRUB.nii.gz','IRR_meanBASIL.nii.gz','IRR_meanPVGM.nii.gz','IRR_meanPVWM.nii.gz'] \n",
    "for k in range(len(irrcbf)):\n",
    "    plotting.plot_stat_map(irrcbf[k],\n",
    "                       cmap=cmap1,symmetric_cbar=True,black_bg=False,display_mode=\"z\", \n",
    "                       cut_coords=[0],annotate=False,threshold=th,vmax=90,colorbar=False,\n",
    "                       draw_cross=False,axes=axs[2,k])\n",
    "\n",
    "\n",
    "    \n",
    "# age on the fourth row  axes[3,k]\n",
    "agecbf=['AGE_meanCBF.nii.gz','AGE_meanSCRUB.nii.gz','AGE_meanBASIL.nii.gz','AGE_meanPVGM.nii.gz','AGE_meanPVWM.nii.gz'] \n",
    "for k in range(len(agecbf)):\n",
    "    plotting.plot_stat_map(agecbf[k],\n",
    "                       cmap=cmap1,symmetric_cbar=True,black_bg=False,display_mode=\"z\", \n",
    "                       cut_coords=[0],annotate=False,threshold=th,vmax=90,colorbar=False,\n",
    "                       draw_cross=False,axes=axs[3,k])\n",
    "    \n",
    "\n",
    "# ftd on the last row  axes[4,k]\n",
    "ftdcbf=['FTD_meanCBF.nii.gz','FTD_meanBASIL.nii.gz','FTD_meanPVGM.nii.gz','FTD_meanPVWM.nii.gz']\n",
    "indexy = [0,2,3,4]\n",
    "for k in range(len(ftdcbf)):\n",
    "    plotting.plot_stat_map(ftdcbf[k],\n",
    "                       cmap=cmap1,symmetric_cbar=True,black_bg=False,display_mode=\"z\", \n",
    "                       cut_coords=[0],annotate=False,threshold=th,vmax=90,colorbar=False,\n",
    "                       draw_cross=False,axes=axs[4,indexy[k]])\n",
    "    \n",
    "\n",
    "    \n",
    "plt.savefig('figurex.pdf', dpi=800)"
   ]
  }
 ],
 "metadata": {
  "kernelspec": {
   "display_name": "Python 3 (ipykernel)",
   "language": "python",
   "name": "python3"
  },
  "language_info": {
   "codemirror_mode": {
    "name": "ipython",
    "version": 3
   },
   "file_extension": ".py",
   "mimetype": "text/x-python",
   "name": "python",
   "nbconvert_exporter": "python",
   "pygments_lexer": "ipython3",
   "version": "3.8.12"
  }
 },
 "nbformat": 4,
 "nbformat_minor": 5
}
