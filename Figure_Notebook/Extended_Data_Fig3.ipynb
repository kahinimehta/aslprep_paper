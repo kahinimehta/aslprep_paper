{
 "cells": [
  {
   "cell_type": "markdown",
   "id": "07cb3fd9",
   "metadata": {},
   "source": [
    "# Extended Data Figure 3\n",
    "\n",
    "Plot of FWHM of ASLPrep and Previous Pipeline"
   ]
  },
  {
   "cell_type": "code",
   "execution_count": null,
   "id": "778f2365",
   "metadata": {},
   "outputs": [],
   "source": [
    "import pandas as pd\n",
    "import numpy as np\n",
    "import seaborn as sns\n",
    "from scipy.stats import pearsonr\n",
    "\n",
    "import matplotlib.pylab as plt\n",
    "import matplotlib\n",
    "matplotlib.rcParams['pdf.fonttype'] = 42\n",
    "matplotlib.rcParams['ps.fonttype'] = 42\n",
    "\n",
    "sns.set(style=\"whitegrid\",font=\"Palatino\")\n"
   ]
  },
  {
   "cell_type": "code",
   "execution_count": null,
   "id": "28acacff",
   "metadata": {},
   "outputs": [],
   "source": [
    "# the main figure \n",
    "df = pd.read_csv('Extended_Source_Data_Fig3.csv')\n",
    "plt.close()\n",
    "jp = sns.jointplot(y='ASLPrep',x='Previous Pipeline',data=df,xlim=[3,11],ylim=[3,11],**{\"s\":10,'alpha':0.75})\n",
    "\n",
    "df = df.dropna()\n",
    "print (pearsonr(df.ASLPrep,df['Previous Pipeline']))\n",
    "\n",
    "jp.ax_marg_x.grid(False)\n",
    "jp.ax_marg_y.grid(False)\n",
    "\n",
    "slope = 1\n",
    "intercept = 0\n",
    "axes = jp.ax_joint\n",
    "plt.sca(axes)\n",
    "x_vals = np.array(axes.get_xlim())\n",
    "y_vals = intercept + slope * x_vals\n",
    "plt.plot(x_vals, y_vals, '--')\n",
    "plt.suptitle(\"FWHM (mm)\") \n",
    "plt.savefig('Extended_Data_Fig3.pdf')"
   ]
  },
  {
   "cell_type": "code",
   "execution_count": null,
   "id": "f88472a5",
   "metadata": {},
   "outputs": [],
   "source": [
    "%load_ext rpy2.ipython\n",
    "# the ttest of ASLPrep and Previous Pipeline \n",
    "datax = read.csv('Extended_Source_Data_Fig3.csv')\n",
    "datax  = na.omit (dd)\n",
    "t.test(datax$ASLPrep,datax$Previous.Pipeline)"
   ]
  },
  {
   "cell_type": "code",
   "execution_count": null,
   "id": "5d4e5866",
   "metadata": {},
   "outputs": [],
   "source": []
  }
 ],
 "metadata": {
  "kernelspec": {
   "display_name": "Python 3 (ipykernel)",
   "language": "python",
   "name": "python3"
  },
  "language_info": {
   "codemirror_mode": {
    "name": "ipython",
    "version": 3
   },
   "file_extension": ".py",
   "mimetype": "text/x-python",
   "name": "python",
   "nbconvert_exporter": "python",
   "pygments_lexer": "ipython3",
   "version": "3.8.12"
  }
 },
 "nbformat": 4,
 "nbformat_minor": 5
}
