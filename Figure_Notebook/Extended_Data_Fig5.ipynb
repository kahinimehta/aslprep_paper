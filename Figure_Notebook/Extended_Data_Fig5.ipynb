{
 "cells": [
  {
   "cell_type": "markdown",
   "id": "c14ec8a1",
   "metadata": {},
   "source": [
    "# Extended Figure 5\n",
    "\n",
    "Quality Evaulation Index (QEI) vs Framewise displacement (QEI). \n",
    "\n",
    "Interaction between QEI and FD for all CBF Type"
   ]
  },
  {
   "cell_type": "code",
   "execution_count": null,
   "id": "72e78599",
   "metadata": {},
   "outputs": [],
   "source": [
    "# load packages \n",
    "\n",
    "library(ggplot2)\n",
    "library(mgcv)\n",
    "library(visreg)\n",
    "library(reshape2)\n",
    "library(ggpubr)\n",
    "library(ggpattern)\n",
    "library(plyr)\n",
    "library(ggsignif)\n",
    "library(lmerTest)\n",
    "library(dplyr)\n",
    "library(broom.mixed)\n",
    "library(sjPlot)\n",
    "library(sjmisc)\n",
    "library(sjlabelled)\n",
    "library(lme4)"
   ]
  },
  {
   "cell_type": "code",
   "execution_count": null,
   "id": "b8b21a29",
   "metadata": {},
   "outputs": [],
   "source": [
    "# statistical analysis\n",
    "datax = read.csv('Source_Data_Extended_Data_Fig5.csv')\n",
    "pnc = datax\n",
    "pnc.model <- lmerTest::lmer(QEI ~FD*CBFTYPE +AGE +FD + (1 | sub ), data=pnc)\n",
    "\n",
    "cat(\"\\nModel summary:\\n\")\n",
    "summary(pnc.model)\n",
    "\n",
    "cat(\"\\n\\nGet the overall interaction signficance using anova: \\n\")\n",
    "anova(pnc.model)\n",
    "\n",
    "sjPlot::plot_model(pnc.model, colors = \"Set1\",type = \"int\",show.data = TRUE) + theme(axis.title.x = element_text(size = rel(1.6))) +\n",
    "            theme(axis.title.y = element_text(size = rel(1.6))) + \n",
    "            theme(axis.text = element_text(size = rel(1.4))) + theme(axis.line = element_line(colour = 'black', size = 1.5), axis.ticks.length = unit(.25, \"cm\")) +\n",
    "           theme(panel.grid.major = element_blank(), panel.grid.minor = element_blank(), panel.background = element_blank())  + scale_x_continuous(expand = c(0, 0)) +\n",
    "           scale_y_continuous(expand = c(0, 0))\n",
    "\n",
    "\n",
    "#Plot"
   ]
  },
  {
   "cell_type": "code",
   "execution_count": null,
   "id": "6ddddfcc",
   "metadata": {},
   "outputs": [],
   "source": [
    "#statistics summary \n",
    "anova(pnc.model)"
   ]
  },
  {
   "cell_type": "code",
   "execution_count": null,
   "id": "434d09f4",
   "metadata": {},
   "outputs": [],
   "source": [
    "# plot the figure \n",
    "datax = datax[!duplicated(datax),]\n",
    "datax <- subset(datax, datax$QEI> 0.1)\n",
    "namex='all'\n",
    "datay = datax[datax$Datasets != 'FTD',]\n",
    "scbf = datay[datay$CBFTYPE=='SCBF',]\n",
    "scrub = datay[datay$CBFTYPE=='SCRUB',]\n",
    "basil = datay[datay$CBFTYPE=='BASIL',]\n",
    "pvc = datay[datay$CBFTYPE=='PVC',]\n",
    "\n",
    "cols = c(\"LINE1\"=\"#e34a33\",\"LINE2\"=\"#3182bd\",\"LINE3\"=\"#d95f02\",'LINE4'=\"#c51b8a\")\n",
    "\n",
    "CBF_Age_plot <- ggplot() + xlim(0, 1.1)+ ylim(0,1.1) +\n",
    "  #theme(legend.position = \"none\")  +\n",
    "  \n",
    "  theme(axis.title.x = element_text(size = rel(1.2))) +\n",
    "  theme(axis.title.y = element_text(size = rel(1.2),vjust=-0.9)) + \n",
    "  theme(axis.text = element_text(size = rel(1.2))) + theme(axis.line = element_line(colour = 'black', size = 0.5), axis.ticks.length = unit(.25, \"cm\")) +\n",
    "  theme(panel.grid.major = element_blank(), panel.grid.minor = element_blank(), panel.background = element_blank()) +\n",
    "  #geom_point(data = predicts, aes(x, y), colour = \"darksalmon\", alpha=0.7 ) +  \n",
    "  geom_point(data=scbf,aes(x=FD, y=QEI),size=1,color=\"red\",alpha = 2/10)+ \n",
    "  geom_point(data=scrub,aes(x=FD, y=QEI),size=1,color=\"blue\",alpha = 2/10)+ \n",
    "  geom_point(data=basil,aes(x=FD, y=QEI),size=1,color='darkgreen',alpha = 2/10)+ \n",
    "  #geom_point(data=pvc,aes(x=FD, y=QEI),size=1,color=\"#c51b8a\")+ \n",
    "\n",
    "  geom_smooth(method='lm',data=scbf, aes(x=FD, y=QEI), color=\"red\")+\n",
    "  geom_smooth(method='lm',data=scrub,aes(x=FD, y=QEI), color=\"blue\")+\n",
    "  geom_smooth(method='lm',data=basil,aes(x=FD, y=QEI), color='darkgreen')+\n",
    "  #geom_smooth(method='lm',data=pvc,aes(x=FD, y=QEI), color=\"#c51b8a\") +\n",
    "  labs(x = \"FD (mm)\", y = \"QEI\",color=cols)+ \n",
    "  scale_colour_manual(values=cols) + \n",
    "  scale_linetype_manual(values=cols) +\n",
    "  scale_x_continuous(expand = c(0, 0)) + scale_y_continuous(expand = c(0, 0))\n",
    "\n",
    "\n",
    "ggsave(\"Sup_Figure5.pdf\", width=5, units=\"in\", height=4,dpi=800)\n",
    "#CBF_Age_plot\n",
    "#dev.off()"
   ]
  },
  {
   "cell_type": "code",
   "execution_count": null,
   "id": "18eaf36e",
   "metadata": {},
   "outputs": [],
   "source": []
  }
 ],
 "metadata": {
  "kernelspec": {
   "display_name": "R",
   "language": "R",
   "name": "ir"
  },
  "language_info": {
   "codemirror_mode": "r",
   "file_extension": ".r",
   "mimetype": "text/x-r-source",
   "name": "R",
   "pygments_lexer": "r",
   "version": "4.1.1"
  }
 },
 "nbformat": 4,
 "nbformat_minor": 5
}
