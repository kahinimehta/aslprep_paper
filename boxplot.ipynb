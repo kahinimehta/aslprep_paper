{
 "cells": [
  {
   "cell_type": "code",
   "execution_count": 1,
   "metadata": {},
   "outputs": [
    {
     "name": "stderr",
     "output_type": "stream",
     "text": [
      "Warning message:\n",
      "“package ‘ggplot2’ was built under R version 3.6.2”\n",
      "Warning message:\n",
      "“package ‘mgcv’ was built under R version 3.6.2”\n",
      "Loading required package: nlme\n",
      "\n",
      "Warning message:\n",
      "“package ‘nlme’ was built under R version 3.6.2”\n",
      "This is mgcv 1.8-35. For overview type 'help(\"mgcv-package\")'.\n",
      "\n",
      "Warning message:\n",
      "“package ‘visreg’ was built under R version 3.6.2”\n"
     ]
    }
   ],
   "source": [
    "library(ggplot2)\n",
    "library(mgcv)\n",
    "library(visreg)"
   ]
  },
  {
   "cell_type": "code",
   "execution_count": 2,
   "metadata": {},
   "outputs": [],
   "source": [
    "datax=read.csv('gmdata.csv')\n",
    "## rearanmge the data\n",
    "\n",
    "datagm = datax \n",
    "datagm$CBF.WM =NULL\n",
    "datagm$TP ='GM'\n",
    "datagm$CBF=datagm$CBF.GM \n",
    "datagm$CBF.GM = NULL \n",
    "\n",
    "datawm = datax \n",
    "datawm$CBF.GM =NULL\n",
    "datawm$TP ='WM'\n",
    "datawm$CBF=datawm$CBF.WM  \n",
    "datawm$CBF.WM = NULL \n",
    "\n",
    "datasets = rbind(datagm,datawm)\n",
    "datasets = datasets[datasets$CBF < 140 ,]"
   ]
  },
  {
   "cell_type": "code",
   "execution_count": 3,
   "metadata": {},
   "outputs": [
    {
     "name": "stderr",
     "output_type": "stream",
     "text": [
      "Warning message:\n",
      "“Removed 3 rows containing non-finite values (stat_ydensity).”\n",
      "Warning message:\n",
      "“Removed 3 rows containing non-finite values (stat_boxplot).”\n",
      "Warning message:\n",
      "“position_dodge requires non-overlapping x intervals”\n"
     ]
    },
    {
     "data": {
      "text/html": [
       "<strong>pdf:</strong> 2"
      ],
      "text/latex": [
       "\\textbf{pdf:} 2"
      ],
      "text/markdown": [
       "**pdf:** 2"
      ],
      "text/plain": [
       "pdf \n",
       "  2 "
      ]
     },
     "metadata": {},
     "output_type": "display_data"
    }
   ],
   "source": [
    "datasetsy = datasets[datasets$CBF.TYPE =='CBF',]\n",
    "\n",
    "dodge <- position_dodge(width = 0.5)\n",
    "dp <- ggplot(datasetsy, aes(x=Datasets,y=CBF,fill=TP),plot = FALSE) + \n",
    "  geom_violin(position = dodge,width = 1.4)+\n",
    "  geom_boxplot(width=.1, outlier.colour=NA, position = dodge) \n",
    "dp=dp + theme_classic() + scale_x_discrete(limits = rev) + \n",
    "  labs(x = \"Datasets\", y = \"CBF(mL/100 g/min)\") +\n",
    "  theme(axis.title.x = element_text(size = rel(1.6))) +\n",
    "  theme(axis.title.y = element_text(size = rel(1.6))) + ylim(0,140) +\n",
    "  theme(axis.text = element_text(size = rel(1.4))) + theme(axis.line = element_line(colour = 'black', size = 1.5)) +\n",
    "  scale_fill_manual(values=c(\"#d95f0e\",\"#756bb1\"))\n",
    "\n",
    "png(filename=\"CBF_GM_WM.png\",res = 600, width = 6, height = 4, units = 'in')\n",
    "print(dp)\n",
    "dev.off()"
   ]
  },
  {
   "cell_type": "code",
   "execution_count": 4,
   "metadata": {},
   "outputs": [
    {
     "name": "stderr",
     "output_type": "stream",
     "text": [
      "Warning message:\n",
      "“position_dodge requires non-overlapping x intervals”\n"
     ]
    },
    {
     "data": {
      "text/html": [
       "<strong>pdf:</strong> 2"
      ],
      "text/latex": [
       "\\textbf{pdf:} 2"
      ],
      "text/markdown": [
       "**pdf:** 2"
      ],
      "text/plain": [
       "pdf \n",
       "  2 "
      ]
     },
     "metadata": {},
     "output_type": "display_data"
    }
   ],
   "source": [
    "datasetsy = datasets[datasets$CBF.TYPE =='BASIL',]\n",
    "\n",
    "dodge <- position_dodge(width = 0.5)\n",
    "dp <- ggplot(datasetsy, aes(x=Datasets,y=CBF,fill=TP),plot = FALSE) + \n",
    "  geom_violin(position = dodge,width = 1.4)+\n",
    "  geom_boxplot(width=.1, outlier.colour=NA, position = dodge) \n",
    "dp=dp + theme_classic() + scale_x_discrete(limits = rev) + \n",
    "  labs(x = \"Datasets\", y = \"CBF(mL/100 g/min)\") +\n",
    "  theme(axis.title.x = element_text(size = rel(1.6))) +\n",
    "  theme(axis.title.y = element_text(size = rel(1.6))) + ylim(0,140) +scale_fill_manual(values=c(\"#d95f0e\",\"#756bb1\"))+\n",
    "  theme(axis.text = element_text(size = rel(1.4))) + theme(axis.line = element_line(colour = 'black', size = 1.5))\n",
    "\n",
    "png(filename=\"BASIL_GM_WM.png\",res = 600, width = 6, height = 4, units = 'in')\n",
    "print(dp)\n",
    "dev.off()"
   ]
  },
  {
   "cell_type": "code",
   "execution_count": 5,
   "metadata": {},
   "outputs": [
    {
     "name": "stderr",
     "output_type": "stream",
     "text": [
      "Warning message:\n",
      "“position_dodge requires non-overlapping x intervals”\n"
     ]
    },
    {
     "data": {
      "text/html": [
       "<strong>pdf:</strong> 2"
      ],
      "text/latex": [
       "\\textbf{pdf:} 2"
      ],
      "text/markdown": [
       "**pdf:** 2"
      ],
      "text/plain": [
       "pdf \n",
       "  2 "
      ]
     },
     "metadata": {},
     "output_type": "display_data"
    }
   ],
   "source": [
    "datasetsy = datasets[datasets$CBF.TYPE =='PVC',]\n",
    "\n",
    "dodge <- position_dodge(width = 0.5)\n",
    "dp <- ggplot(datasetsy, aes(x=Datasets,y=CBF,fill=TP),plot = FALSE) + \n",
    "  geom_violin(position = dodge,width = 1.4)+\n",
    "  geom_boxplot(width=.1, outlier.colour=NA, position = dodge) \n",
    "dp=dp + theme_classic() + scale_x_discrete(limits = rev) + \n",
    "  labs(x = \"Datasets\", y = \"CBF(mL/100 g/min)\") +\n",
    "  theme(axis.title.x = element_text(size = rel(1.6))) +\n",
    "  theme(axis.title.y = element_text(size = rel(1.6))) + ylim(0,140) +scale_fill_manual(values=c(\"#d95f0e\",\"#756bb1\"))+\n",
    "  theme(axis.text = element_text(size = rel(1.4))) + theme(axis.line = element_line(colour = 'black', size = 1.5))\n",
    "\n",
    "png(filename=\"PVC_GM_WM.png\",res = 600, width = 6, height = 4, units = 'in')\n",
    "print(dp)\n",
    "dev.off()"
   ]
  },
  {
   "cell_type": "code",
   "execution_count": 6,
   "metadata": {},
   "outputs": [
    {
     "name": "stderr",
     "output_type": "stream",
     "text": [
      "Warning message:\n",
      "“position_dodge requires non-overlapping x intervals”\n"
     ]
    },
    {
     "data": {
      "text/html": [
       "<strong>pdf:</strong> 2"
      ],
      "text/latex": [
       "\\textbf{pdf:} 2"
      ],
      "text/markdown": [
       "**pdf:** 2"
      ],
      "text/plain": [
       "pdf \n",
       "  2 "
      ]
     },
     "metadata": {},
     "output_type": "display_data"
    }
   ],
   "source": [
    "datasetsy = datasets[datasets$CBF.TYPE =='SCRUB',]\n",
    "\n",
    "dodge <- position_dodge(width = 0.5)\n",
    "dp <- ggplot(datasetsy, aes(x=Datasets,y=CBF,fill=TP),plot = FALSE) + \n",
    "  geom_violin(position = dodge,width = 1.4)+\n",
    "  geom_boxplot(width=.1, outlier.colour=NA, position = dodge) \n",
    "dp=dp + theme_classic() + scale_x_discrete(limits = rev) + \n",
    "  labs(x = \"Datasets\", y = \"CBF(mL/100 g/min)\") +\n",
    "  theme(axis.title.x = element_text(size = rel(1.6))) + scale_fill_manual(values=c(\"#d95f0e\",\"#756bb1\"))+\n",
    "  theme(axis.title.y = element_text(size = rel(1.6))) + ylim(0,140) +\n",
    "  theme(axis.text = element_text(size = rel(1.4))) + theme(axis.line = element_line(colour = 'black', size = 1.5))\n",
    "\n",
    "png(filename=\"SCRUB_GM_WM.png\",res = 600, width = 6, height = 4, units = 'in')\n",
    "print(dp)\n",
    "dev.off()"
   ]
  }
 ],
 "metadata": {
  "kernelspec": {
   "display_name": "R",
   "language": "R",
   "name": "ir"
  },
  "language_info": {
   "codemirror_mode": "r",
   "file_extension": ".r",
   "mimetype": "text/x-r-source",
   "name": "R",
   "pygments_lexer": "r",
   "version": "3.6.1"
  }
 },
 "nbformat": 4,
 "nbformat_minor": 4
}
