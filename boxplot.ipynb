{
 "cells": [
  {
   "cell_type": "code",
   "execution_count": 2,
   "metadata": {},
   "outputs": [],
   "source": [
    "library(ggplot2)\n",
    "library(mgcv)\n",
    "library(visreg)\n",
    "library(reshape2)\n",
    "library(ggpubr)\n",
    "library(ggpattern)\n",
    "library(plyr)\n",
    "library(ggsignif)\n",
    "library(lmerTest)"
   ]
  },
  {
   "cell_type": "code",
   "execution_count": 3,
   "metadata": {},
   "outputs": [],
   "source": [
    "datax=read.csv('gmdata2.csv')\n",
    "## rearanmge the data\n",
    "#datax = na.omit(datax)\n",
    "datagm = datax \n",
    "datagm$CBF.WM =NULL\n",
    "datagm$TP ='GM'\n",
    "datagm$CBF=datagm$CBF.GM \n",
    "datagm$CBF.GM = NULL \n",
    "\n",
    "datawm = datax \n",
    "datawm$CBF.GM =NULL\n",
    "datawm$TP ='WM'\n",
    "datawm$CBF=datawm$CBF.WM  \n",
    "datawm$CBF.WM = NULL \n",
    "\n",
    "datasets = rbind(datagm,datawm)\n",
    "datasets = datasets[datasets$CBF < 120 ,]\n",
    "datasets = datasets[datasets$CBF > 5 ,]"
   ]
  },
  {
   "cell_type": "code",
   "execution_count": 6,
   "metadata": {},
   "outputs": [
    {
     "name": "stderr",
     "output_type": "stream",
     "text": [
      "Warning message:\n",
      "“position_dodge requires non-overlapping x intervals”\n"
     ]
    },
    {
     "data": {
      "text/html": [
       "<strong>pdf:</strong> 2"
      ],
      "text/latex": [
       "\\textbf{pdf:} 2"
      ],
      "text/markdown": [
       "**pdf:** 2"
      ],
      "text/plain": [
       "pdf \n",
       "  2 "
      ]
     },
     "metadata": {},
     "output_type": "display_data"
    }
   ],
   "source": [
    "datasetsy = datasets[datasets$CBFTYPE =='SCBF',]\n",
    "datasetsy = na.omit(datasetsy)\n",
    "dodge <- position_dodge(width = 0.5)\n",
    "dp <- ggplot(datasetsy, aes(x=Datasets,y=CBF,fill=TP),plot = FALSE) + \n",
    "  geom_violin(position = dodge,width = 1.4)+\n",
    "  geom_boxplot(width=.1, outlier.colour=NA, position = dodge) \n",
    "dp=dp + theme_classic() + scale_x_discrete(limits = rev) + \n",
    "  labs(x = \"Datasets\", y = \"CBF(mL/100 g/min)\") +\n",
    "  theme(axis.title.x = element_text(size = rel(1.6))) +\n",
    "  theme(axis.title.y = element_text(size = rel(1.6))) + ylim(0,140) +\n",
    "  theme(axis.text = element_text(size = rel(1.4))) + theme(axis.line = element_line(colour = 'black', size = 1.5)) +\n",
    "  scale_fill_manual(values=c(\"#d95f0e\",\"#756bb1\"))\n",
    "\n",
    "png(filename=\"CBF_GM_WM.png\",res = 600, width = 6, height = 4, units = 'in')\n",
    "print(dp)\n",
    "dev.off()"
   ]
  },
  {
   "cell_type": "code",
   "execution_count": 9,
   "metadata": {},
   "outputs": [
    {
     "name": "stderr",
     "output_type": "stream",
     "text": [
      "Warning message:\n",
      "“position_dodge requires non-overlapping x intervals”\n"
     ]
    },
    {
     "data": {
      "text/html": [
       "<strong>pdf:</strong> 2"
      ],
      "text/latex": [
       "\\textbf{pdf:} 2"
      ],
      "text/markdown": [
       "**pdf:** 2"
      ],
      "text/plain": [
       "pdf \n",
       "  2 "
      ]
     },
     "metadata": {},
     "output_type": "display_data"
    }
   ],
   "source": [
    "datasetsy = datasets[datasets$CBFTYPE =='BASIL',]\n",
    "datasetsy = na.omit(datasetsy)\n",
    "\n",
    "\n",
    "dodge <- position_dodge(width = 0.5)\n",
    "dp <- ggplot(datasetsy, aes(x=Datasets,y=CBF,fill=TP),plot = FALSE) + \n",
    "  geom_violin(position = dodge,width = 1.4)+\n",
    "  geom_boxplot(width=.1, outlier.colour=NA, position = dodge) \n",
    "dp=dp + theme_classic() + scale_x_discrete(limits = rev) + \n",
    "  labs(x = \"Datasets\", y = \"CBF(mL/100 g/min)\") +\n",
    "  theme(axis.title.x = element_text(size = rel(1.6))) +\n",
    "  theme(axis.title.y = element_text(size = rel(1.6))) + ylim(0,140) +\n",
    "  theme(axis.text = element_text(size = rel(1.4))) + theme(axis.line = element_line(colour = 'black', size = 1.5)) +\n",
    "  scale_fill_manual(values=c(\"#d95f0e\",\"#756bb1\"))\n",
    "\n",
    "png(filename=\"BASIL_GM_WM.png\",res = 600, width = 6, height = 4, units = 'in')\n",
    "print(dp)\n",
    "dev.off()"
   ]
  },
  {
   "cell_type": "code",
   "execution_count": 10,
   "metadata": {},
   "outputs": [
    {
     "name": "stderr",
     "output_type": "stream",
     "text": [
      "Warning message:\n",
      "“position_dodge requires non-overlapping x intervals”\n"
     ]
    },
    {
     "data": {
      "text/html": [
       "<strong>pdf:</strong> 2"
      ],
      "text/latex": [
       "\\textbf{pdf:} 2"
      ],
      "text/markdown": [
       "**pdf:** 2"
      ],
      "text/plain": [
       "pdf \n",
       "  2 "
      ]
     },
     "metadata": {},
     "output_type": "display_data"
    }
   ],
   "source": [
    "datasetsy = datasets[datasets$CBFTYPE =='PVC',]\n",
    "datasetsy = na.omit(datasetsy)\n",
    "\n",
    "dodge <- position_dodge(width = 0.5)\n",
    "dp <- ggplot(datasetsy, aes(x=Datasets,y=CBF,fill=TP),plot = FALSE) + \n",
    "  geom_violin(position = dodge,width = 1.4)+\n",
    "  geom_boxplot(width=.1, outlier.colour=NA, position = dodge) \n",
    "dp=dp + theme_classic() + scale_x_discrete(limits = rev) + \n",
    "  labs(x = \"Datasets\", y = \"CBF(mL/100 g/min)\") +\n",
    "  theme(axis.title.x = element_text(size = rel(1.6))) +\n",
    "  theme(axis.title.y = element_text(size = rel(1.6))) + ylim(0,140) +scale_fill_manual(values=c(\"#d95f0e\",\"#756bb1\"))+\n",
    "  theme(axis.text = element_text(size = rel(1.4))) + theme(axis.line = element_line(colour = 'black', size = 1.5))\n",
    "\n",
    "png(filename=\"PVC_GM_WM.png\",res = 600, width = 6, height = 4, units = 'in')\n",
    "print(dp)\n",
    "dev.off()"
   ]
  },
  {
   "cell_type": "code",
   "execution_count": 11,
   "metadata": {},
   "outputs": [
    {
     "name": "stderr",
     "output_type": "stream",
     "text": [
      "Warning message:\n",
      "“position_dodge requires non-overlapping x intervals”\n"
     ]
    },
    {
     "data": {
      "text/html": [
       "<strong>pdf:</strong> 2"
      ],
      "text/latex": [
       "\\textbf{pdf:} 2"
      ],
      "text/markdown": [
       "**pdf:** 2"
      ],
      "text/plain": [
       "pdf \n",
       "  2 "
      ]
     },
     "metadata": {},
     "output_type": "display_data"
    }
   ],
   "source": [
    "datasetsy = datasets[datasets$CBFTYPE =='SCRUB',]\n",
    "datasetsy = na.omit(datasetsy)\n",
    "\n",
    "dodge <- position_dodge(width = 0.5)\n",
    "dp <- ggplot(datasetsy, aes(x=Datasets,y=CBF,fill=TP),plot = FALSE) + \n",
    "  geom_violin(position = dodge,width = 1.4)+\n",
    "  geom_boxplot(width=.1, outlier.colour=NA, position = dodge) \n",
    "dp=dp + theme_classic() + scale_x_discrete(limits = rev) + \n",
    "  labs(x = \"Datasets\", y = \"CBF(mL/100 g/min)\") +\n",
    "  theme(axis.title.x = element_text(size = rel(1.6))) + scale_fill_manual(values=c(\"#d95f0e\",\"#756bb1\"))+\n",
    "  theme(axis.title.y = element_text(size = rel(1.6))) + ylim(0,140) +\n",
    "  theme(axis.text = element_text(size = rel(1.4))) + theme(axis.line = element_line(colour = 'black', size = 1.5))\n",
    "\n",
    "png(filename=\"SCRUB_GM_WM.png\",res = 600, width = 6, height = 4, units = 'in')\n",
    "print(dp)\n",
    "dev.off()"
   ]
  },
  {
   "cell_type": "code",
   "execution_count": 12,
   "metadata": {},
   "outputs": [
    {
     "data": {
      "text/html": [
       "36"
      ],
      "text/latex": [
       "36"
      ],
      "text/markdown": [
       "36"
      ],
      "text/plain": [
       "[1] 36"
      ]
     },
     "metadata": {},
     "output_type": "display_data"
    }
   ],
   "source": [
    "45*0.8"
   ]
  },
  {
   "cell_type": "code",
   "execution_count": null,
   "metadata": {},
   "outputs": [],
   "source": []
  }
 ],
 "metadata": {
  "kernelspec": {
   "display_name": "R",
   "language": "R",
   "name": "ir"
  },
  "language_info": {
   "codemirror_mode": "r",
   "file_extension": ".r",
   "mimetype": "text/x-r-source",
   "name": "R",
   "pygments_lexer": "r",
   "version": "4.1.1"
  }
 },
 "nbformat": 4,
 "nbformat_minor": 4
}
