{
 "cells": [
  {
   "cell_type": "code",
   "execution_count": 1,
   "metadata": {},
   "outputs": [
    {
     "name": "stderr",
     "output_type": "stream",
     "text": [
      "Loading required package: nlme\n",
      "\n",
      "This is mgcv 1.8-36. For overview type 'help(\"mgcv-package\")'.\n",
      "\n",
      "Loading required namespace: memoise\n",
      "\n",
      "\n",
      "Attaching package: ‘plyr’\n",
      "\n",
      "\n",
      "The following object is masked from ‘package:ggpubr’:\n",
      "\n",
      "    mutate\n",
      "\n",
      "\n",
      "Loading required package: lme4\n",
      "\n",
      "Loading required package: Matrix\n",
      "\n",
      "\n",
      "Attaching package: ‘lme4’\n",
      "\n",
      "\n",
      "The following object is masked from ‘package:nlme’:\n",
      "\n",
      "    lmList\n",
      "\n",
      "\n",
      "\n",
      "Attaching package: ‘lmerTest’\n",
      "\n",
      "\n",
      "The following object is masked from ‘package:lme4’:\n",
      "\n",
      "    lmer\n",
      "\n",
      "\n",
      "The following object is masked from ‘package:stats’:\n",
      "\n",
      "    step\n",
      "\n",
      "\n"
     ]
    }
   ],
   "source": [
    "library(ggplot2)\n",
    "library(mgcv)\n",
    "library(visreg)\n",
    "library(reshape2)\n",
    "library(ggpubr)\n",
    "library(ggpattern)\n",
    "library(plyr)\n",
    "library(ggsignif)\n",
    "library(lmerTest)"
   ]
  },
  {
   "cell_type": "code",
   "execution_count": 2,
   "metadata": {},
   "outputs": [],
   "source": [
    "datax=read.csv('gmdata2.csv')\n",
    "datax = na.omit(datax)\n",
    "datax = datax[datax$CBF.GM < 120 ,]\n",
    "datax = datax[datax$CBF.GM > 5 ,]\n"
   ]
  },
  {
   "cell_type": "code",
   "execution_count": 3,
   "metadata": {},
   "outputs": [],
   "source": [
    "datay = datax[datax$CBFTYPE =='PVC',]\n",
    "pnc = datay[datay$Datasets=='PNC',]\n",
    "nki = datay[datay$Datasets=='NKI',]\n",
    "age = datay[datay$Datasets=='AGE',]\n",
    "irr = datay[datay$Datasets=='IRR',]\n",
    "ftd = datay[datay$Datasets=='FTD',]\n"
   ]
  },
  {
   "cell_type": "code",
   "execution_count": 4,
   "metadata": {},
   "outputs": [
    {
     "data": {
      "text/plain": [
       "\n",
       "Family: gaussian \n",
       "Link function: identity \n",
       "\n",
       "Formula:\n",
       "CBF.GM ~ s(AGE, k = 4)\n",
       "\n",
       "Parametric coefficients:\n",
       "            Estimate Std. Error t value Pr(>|t|)    \n",
       "(Intercept)   61.937      0.227   272.9   <2e-16 ***\n",
       "---\n",
       "Signif. codes:  0 ‘***’ 0.001 ‘**’ 0.01 ‘*’ 0.05 ‘.’ 0.1 ‘ ’ 1\n",
       "\n",
       "Approximate significance of smooth terms:\n",
       "         edf Ref.df    F p-value    \n",
       "s(AGE) 2.993      3 1189  <2e-16 ***\n",
       "---\n",
       "Signif. codes:  0 ‘***’ 0.001 ‘**’ 0.01 ‘*’ 0.05 ‘.’ 0.1 ‘ ’ 1\n",
       "\n",
       "R-sq.(adj) =   0.51   Deviance explained = 51.1%\n",
       "-REML =  13711  Scale est. = 176.31    n = 3422"
      ]
     },
     "metadata": {},
     "output_type": "display_data"
    },
    {
     "data": {
      "text/html": [
       "0"
      ],
      "text/latex": [
       "0"
      ],
      "text/markdown": [
       "0"
      ],
      "text/plain": [
       "[1] 0"
      ]
     },
     "metadata": {},
     "output_type": "display_data"
    },
    {
     "data": {
      "text/html": [
       "<strong>null device:</strong> 1"
      ],
      "text/latex": [
       "\\textbf{null device:} 1"
      ],
      "text/markdown": [
       "**null device:** 1"
      ],
      "text/plain": [
       "null device \n",
       "          1 "
      ]
     },
     "metadata": {},
     "output_type": "display_data"
    },
    {
     "name": "stderr",
     "output_type": "stream",
     "text": [
      "Warning message:\n",
      "“Removed 8 rows containing missing values (geom_point).”\n",
      "Warning message:\n",
      "“Removed 8 rows containing missing values (geom_point).”\n",
      "Warning message:\n",
      "“Removed 3 row(s) containing missing values (geom_path).”\n",
      "Warning message:\n",
      "“Removed 3 row(s) containing missing values (geom_path).”\n",
      "Warning message:\n",
      "“Removed 3 row(s) containing missing values (geom_path).”\n"
     ]
    },
    {
     "data": {
      "text/html": [
       "<strong>null device:</strong> 1"
      ],
      "text/latex": [
       "\\textbf{null device:} 1"
      ],
      "text/markdown": [
       "**null device:** 1"
      ],
      "text/plain": [
       "null device \n",
       "          1 "
      ]
     },
     "metadata": {},
     "output_type": "display_data"
    }
   ],
   "source": [
    "datay = datax[datax$CBFTYPE =='SCBF',]\n",
    "pnc = datay[datay$Datasets=='PNC',]\n",
    "nki = datay[datay$Datasets=='NKI',]\n",
    "age = datay[datay$Datasets=='AGE',]\n",
    "irr = datay[datay$Datasets=='IRR',]\n",
    "ftd = datay[datay$Datasets=='FTD',]\n",
    "\n",
    "#############################################################\n",
    "cbf_Age_gam <- gam(CBF.GM ~ s(AGE, k=4), method=\"REML\", data = datay)\n",
    "\n",
    "#####################\n",
    "## Look at results ##\n",
    "#####################\n",
    "summary(cbf_Age_gam)\n",
    "\n",
    "## Nonlinear age effect\n",
    "Age_pval <- summary(cbf_Age_gam)$s.table[1,4]\n",
    "Age_pval\n",
    "\n",
    "####################################\n",
    "## Visualize Nonlinear Age Effect ##\n",
    "####################################\n",
    "plotdata <- visreg(cbf_Age_gam,'AGE',type = \"conditional\",scale = \"linear\", plot = FALSE)\n",
    "smooths <- data.frame(Variable = plotdata$meta$x, \n",
    "                      x=plotdata$fit[[plotdata$meta$x]], \n",
    "                      smooth=plotdata$fit$visregFit, \n",
    "                      lower=plotdata$fit$visregLwr, \n",
    "                      upper=plotdata$fit$visregUpr)\n",
    "predicts <- data.frame(Variable = \"dim1\", \n",
    "                       x=plotdata$res$AGE,\n",
    "                       y=plotdata$res$visregRes)\n",
    "\n",
    "CBF_Age_plot <- ggplot() + xlim(8, 85)+ ylim(0,140) +\n",
    "  #theme(legend.position = \"none\")  +\n",
    "  labs(x = \"Age (years)\", y = \"CBF(mL/100 g/min)\") +\n",
    "  theme(axis.title.x = element_text(size = rel(1.6))) +\n",
    "  theme(axis.title.y = element_text(size = rel(1.6))) + \n",
    "  theme(axis.text = element_text(size = rel(1.4))) + theme(axis.line = element_line(colour = 'black', size = 1.5), axis.ticks.length = unit(.25, \"cm\")) +\n",
    "  theme(panel.grid.major = element_blank(), panel.grid.minor = element_blank(), panel.background = element_blank()) +\n",
    "  geom_point(data = predicts, aes(x, y), colour = \"darksalmon\", alpha=0.7 ) +  \n",
    "  #geom_point(data=datay,aes(x=AGE, y=CBF.GM),size=1)+ \n",
    "  geom_point(data=pnc,aes(x=AGE, y=CBF.GM),shape=21,size=2,fill='#e34a33', color=\"white\")+ \n",
    "  geom_point(data=nki,aes(x=AGE, y=CBF.GM),shape=21,size=2,fill=\"#3182bd\", color=\"white\")+ \n",
    "  geom_point(data=irr,aes(x=AGE, y=CBF.GM),shape=21,size=2,fill=\"#31a354\", color=\"white\")+ \n",
    "  geom_point(data=ftd,aes(x=AGE, y=CBF.GM),shape=21,size=2,fill=\"#d95f02\", color=\"white\")+ \n",
    "  geom_point(data=age,aes(x=AGE, y=CBF.GM),shape=21,size=2,fill=\"#c51b8a\", color=\"white\")+ \n",
    "  geom_line(data = smooths, aes(x = x, y = smooth), colour = \"midnightblue\",size=1) +\n",
    "  geom_line(data = smooths, aes(x = x, y=lower), linetype=\"dashed\", colour = \"midnightblue\", alpha = 0.9, size = 0.9) + \n",
    "  geom_line(data = smooths, aes(x = x, y=upper), linetype=\"dashed\",colour = \"midnightblue\", alpha = 0.9, size = 0.9) +\n",
    "  coord_cartesian(xlim = c(10.5,85), ylim = c(0,140))\n",
    "  \n",
    "  \n",
    " \n",
    "\n",
    "dev.off()\n",
    "\n",
    "## Export image\n",
    "png(filename=\"CBF_AGE_fit.png\",res = 600, width = 4, height = 4, units = 'in',)\n",
    "CBF_Age_plot\n",
    "dev.off()\n"
   ]
  },
  {
   "cell_type": "code",
   "execution_count": 5,
   "metadata": {},
   "outputs": [
    {
     "data": {
      "text/plain": [
       "\n",
       "Family: gaussian \n",
       "Link function: identity \n",
       "\n",
       "Formula:\n",
       "CBF.GM ~ s(AGE, k = 4)\n",
       "\n",
       "Parametric coefficients:\n",
       "            Estimate Std. Error t value Pr(>|t|)    \n",
       "(Intercept)   61.937      0.227   272.9   <2e-16 ***\n",
       "---\n",
       "Signif. codes:  0 ‘***’ 0.001 ‘**’ 0.01 ‘*’ 0.05 ‘.’ 0.1 ‘ ’ 1\n",
       "\n",
       "Approximate significance of smooth terms:\n",
       "         edf Ref.df    F p-value    \n",
       "s(AGE) 2.993      3 1189  <2e-16 ***\n",
       "---\n",
       "Signif. codes:  0 ‘***’ 0.001 ‘**’ 0.01 ‘*’ 0.05 ‘.’ 0.1 ‘ ’ 1\n",
       "\n",
       "R-sq.(adj) =   0.51   Deviance explained = 51.1%\n",
       "-REML =  13711  Scale est. = 176.31    n = 3422"
      ]
     },
     "metadata": {},
     "output_type": "display_data"
    },
    {
     "data": {
      "text/html": [
       "0"
      ],
      "text/latex": [
       "0"
      ],
      "text/markdown": [
       "0"
      ],
      "text/plain": [
       "[1] 0"
      ]
     },
     "metadata": {},
     "output_type": "display_data"
    },
    {
     "data": {
      "text/html": [
       "<strong>null device:</strong> 1"
      ],
      "text/latex": [
       "\\textbf{null device:} 1"
      ],
      "text/markdown": [
       "**null device:** 1"
      ],
      "text/plain": [
       "null device \n",
       "          1 "
      ]
     },
     "metadata": {},
     "output_type": "display_data"
    },
    {
     "name": "stderr",
     "output_type": "stream",
     "text": [
      "Warning message:\n",
      "“Removed 8 rows containing missing values (geom_point).”\n",
      "Warning message:\n",
      "“Removed 8 rows containing missing values (geom_point).”\n",
      "Warning message:\n",
      "“Removed 3 row(s) containing missing values (geom_path).”\n",
      "Warning message:\n",
      "“Removed 3 row(s) containing missing values (geom_path).”\n",
      "Warning message:\n",
      "“Removed 3 row(s) containing missing values (geom_path).”\n"
     ]
    },
    {
     "data": {
      "text/html": [
       "<strong>null device:</strong> 1"
      ],
      "text/latex": [
       "\\textbf{null device:} 1"
      ],
      "text/markdown": [
       "**null device:** 1"
      ],
      "text/plain": [
       "null device \n",
       "          1 "
      ]
     },
     "metadata": {},
     "output_type": "display_data"
    }
   ],
   "source": [
    "datay = datax[datax$CBFTYPE =='SCBF',]\n",
    "pnc = datay[datay$Datasets=='PNC',]\n",
    "nki = datay[datay$Datasets=='NKI',]\n",
    "age = datay[datay$Datasets=='AGE',]\n",
    "irr = datay[datay$Datasets=='IRR',]\n",
    "ftd = datay[datay$Datasets=='FTD',]\n",
    "\n",
    "#############################################################\n",
    "cbf_Age_gam <- gam(CBF.GM ~ s(AGE, k=4), method=\"REML\", data = datay)\n",
    "\n",
    "#####################\n",
    "## Look at results ##\n",
    "#####################\n",
    "summary(cbf_Age_gam)\n",
    "\n",
    "## Nonlinear age effect\n",
    "Age_pval <- summary(cbf_Age_gam)$s.table[1,4]\n",
    "Age_pval\n",
    "\n",
    "####################################\n",
    "## Visualize Nonlinear Age Effect ##\n",
    "####################################\n",
    "plotdata <- visreg(cbf_Age_gam,'AGE',type = \"conditional\",scale = \"linear\", plot = FALSE)\n",
    "smooths <- data.frame(Variable = plotdata$meta$x, \n",
    "                      x=plotdata$fit[[plotdata$meta$x]], \n",
    "                      smooth=plotdata$fit$visregFit, \n",
    "                      lower=plotdata$fit$visregLwr, \n",
    "                      upper=plotdata$fit$visregUpr)\n",
    "predicts <- data.frame(Variable = \"dim1\", \n",
    "                       x=plotdata$res$AGE,\n",
    "                       y=plotdata$res$visregRes)\n",
    "\n",
    "CBF_Age_plot <- ggplot() + xlim(8, 85)+ ylim(0,140) +\n",
    "  #theme(legend.position = \"none\")  +\n",
    "  labs(x = \"Age (years)\", y = \"CBF(mL/100 g/min)\") +\n",
    "  theme(axis.title.x = element_text(size = rel(1.6))) +\n",
    "  theme(axis.title.y = element_text(size = rel(1.6))) + \n",
    "  theme(axis.text = element_text(size = rel(1.4))) + theme(axis.line = element_line(colour = 'black', size = 1.5), axis.ticks.length = unit(.25, \"cm\")) +\n",
    "  theme(panel.grid.major = element_blank(), panel.grid.minor = element_blank(), panel.background = element_blank()) +\n",
    "  geom_point(data = predicts, aes(x, y), colour = \"darksalmon\", alpha=0.7 ) +  \n",
    "  #geom_point(data=datay,aes(x=AGE, y=CBF.GM),size=1)+ \n",
    "  geom_point(data=pnc,aes(x=AGE, y=CBF.GM),shape=21,size=2,fill='#e34a33', color=\"white\")+ \n",
    "  geom_point(data=nki,aes(x=AGE, y=CBF.GM),shape=21,size=2,fill=\"#3182bd\", color=\"white\")+ \n",
    "  geom_point(data=irr,aes(x=AGE, y=CBF.GM),shape=21,size=2,fill=\"#31a354\", color=\"white\")+ \n",
    "  geom_point(data=ftd,aes(x=AGE, y=CBF.GM),shape=21,size=2,fill=\"#d95f02\", color=\"white\")+ \n",
    "  geom_point(data=age,aes(x=AGE, y=CBF.GM),shape=21,size=2,fill=\"#c51b8a\", color=\"white\")+ \n",
    "  geom_line(data = smooths, aes(x = x, y = smooth), colour = \"midnightblue\",size=1) +\n",
    "  geom_line(data = smooths, aes(x = x, y=lower), linetype=\"dashed\", colour = \"midnightblue\", alpha = 0.9, size = 0.9) + \n",
    "  geom_line(data = smooths, aes(x = x, y=upper), linetype=\"dashed\",colour = \"midnightblue\", alpha = 0.9, size = 0.9) +\n",
    "  coord_cartesian(xlim = c(10.5,85), ylim = c(0,140))\n",
    "  \n",
    "  \n",
    " \n",
    "\n",
    "dev.off()\n",
    "\n",
    "## Export image\n",
    "png(filename=\"BASIL_AGE_fit.png\",res = 600, width = 4, height = 4, units = 'in',)\n",
    "CBF_Age_plot\n",
    "dev.off()\n"
   ]
  },
  {
   "cell_type": "code",
   "execution_count": 6,
   "metadata": {},
   "outputs": [
    {
     "data": {
      "text/plain": [
       "\n",
       "Family: gaussian \n",
       "Link function: identity \n",
       "\n",
       "Formula:\n",
       "CBF.GM ~ s(AGE, k = 4)\n",
       "\n",
       "Parametric coefficients:\n",
       "            Estimate Std. Error t value Pr(>|t|)    \n",
       "(Intercept)  71.7766     0.2485   288.8   <2e-16 ***\n",
       "---\n",
       "Signif. codes:  0 ‘***’ 0.001 ‘**’ 0.01 ‘*’ 0.05 ‘.’ 0.1 ‘ ’ 1\n",
       "\n",
       "Approximate significance of smooth terms:\n",
       "         edf Ref.df     F p-value    \n",
       "s(AGE) 2.996      3 927.6  <2e-16 ***\n",
       "---\n",
       "Signif. codes:  0 ‘***’ 0.001 ‘**’ 0.01 ‘*’ 0.05 ‘.’ 0.1 ‘ ’ 1\n",
       "\n",
       "R-sq.(adj) =  0.453   Deviance explained = 45.4%\n",
       "-REML =  13724  Scale est. = 207.32    n = 3357"
      ]
     },
     "metadata": {},
     "output_type": "display_data"
    },
    {
     "data": {
      "text/html": [
       "0"
      ],
      "text/latex": [
       "0"
      ],
      "text/markdown": [
       "0"
      ],
      "text/plain": [
       "[1] 0"
      ]
     },
     "metadata": {},
     "output_type": "display_data"
    },
    {
     "data": {
      "text/html": [
       "<strong>null device:</strong> 1"
      ],
      "text/latex": [
       "\\textbf{null device:} 1"
      ],
      "text/markdown": [
       "**null device:** 1"
      ],
      "text/plain": [
       "null device \n",
       "          1 "
      ]
     },
     "metadata": {},
     "output_type": "display_data"
    },
    {
     "name": "stderr",
     "output_type": "stream",
     "text": [
      "Warning message:\n",
      "“Removed 6 rows containing missing values (geom_point).”\n",
      "Warning message:\n",
      "“Removed 6 rows containing missing values (geom_point).”\n",
      "Warning message:\n",
      "“Removed 3 row(s) containing missing values (geom_path).”\n",
      "Warning message:\n",
      "“Removed 3 row(s) containing missing values (geom_path).”\n",
      "Warning message:\n",
      "“Removed 3 row(s) containing missing values (geom_path).”\n"
     ]
    },
    {
     "data": {
      "text/html": [
       "<strong>null device:</strong> 1"
      ],
      "text/latex": [
       "\\textbf{null device:} 1"
      ],
      "text/markdown": [
       "**null device:** 1"
      ],
      "text/plain": [
       "null device \n",
       "          1 "
      ]
     },
     "metadata": {},
     "output_type": "display_data"
    },
    {
     "data": {
      "text/html": [
       "<table class=\"dataframe\">\n",
       "<caption>A data.frame: 110 × 10</caption>\n",
       "<thead>\n",
       "\t<tr><th></th><th scope=col>sub</th><th scope=col>Datasets</th><th scope=col>CBF.GM</th><th scope=col>CBF.WM</th><th scope=col>CBFTYPE</th><th scope=col>QEI</th><th scope=col>NEG_CBF</th><th scope=col>FD</th><th scope=col>AGE</th><th scope=col>CBF_R</th></tr>\n",
       "\t<tr><th></th><th scope=col>&lt;chr&gt;</th><th scope=col>&lt;chr&gt;</th><th scope=col>&lt;dbl&gt;</th><th scope=col>&lt;dbl&gt;</th><th scope=col>&lt;chr&gt;</th><th scope=col>&lt;dbl&gt;</th><th scope=col>&lt;dbl&gt;</th><th scope=col>&lt;dbl&gt;</th><th scope=col>&lt;dbl&gt;</th><th scope=col>&lt;dbl&gt;</th></tr>\n",
       "</thead>\n",
       "<tbody>\n",
       "\t<tr><th scope=row>13301</th><td>1014</td><td>FTD</td><td>35.45241</td><td>29.17062</td><td>PVC</td><td>0.8641500</td><td>0</td><td>0</td><td>51</td><td>1.215347</td></tr>\n",
       "\t<tr><th scope=row>13302</th><td>1285</td><td>FTD</td><td>44.97962</td><td>40.54916</td><td>PVC</td><td>0.8582947</td><td>0</td><td>0</td><td>73</td><td>1.109261</td></tr>\n",
       "\t<tr><th scope=row>13303</th><td>1658</td><td>FTD</td><td>33.36679</td><td>29.25494</td><td>PVC</td><td>0.8563746</td><td>0</td><td>0</td><td>70</td><td>1.140552</td></tr>\n",
       "\t<tr><th scope=row>13304</th><td>1015</td><td>FTD</td><td>33.39101</td><td>28.28251</td><td>PVC</td><td>0.8589042</td><td>0</td><td>0</td><td>62</td><td>1.180624</td></tr>\n",
       "\t<tr><th scope=row>13305</th><td>1286</td><td>FTD</td><td>59.02018</td><td>46.85825</td><td>PVC</td><td>0.8734335</td><td>0</td><td>0</td><td>48</td><td>1.259547</td></tr>\n",
       "\t<tr><th scope=row>13306</th><td>1663</td><td>FTD</td><td>30.16457</td><td>26.62931</td><td>PVC</td><td>0.8483731</td><td>0</td><td>0</td><td>58</td><td>1.132758</td></tr>\n",
       "\t<tr><th scope=row>13307</th><td>1016</td><td>FTD</td><td>32.42142</td><td>28.85487</td><td>PVC</td><td>0.8764465</td><td>0</td><td>0</td><td>48</td><td>1.123603</td></tr>\n",
       "\t<tr><th scope=row>13308</th><td>1287</td><td>FTD</td><td>65.34709</td><td>45.05624</td><td>PVC</td><td>0.8683281</td><td>0</td><td>0</td><td>19</td><td>1.450345</td></tr>\n",
       "\t<tr><th scope=row>13309</th><td>1686</td><td>FTD</td><td>41.06960</td><td>39.26436</td><td>PVC</td><td>0.8509552</td><td>0</td><td>0</td><td>56</td><td>1.045977</td></tr>\n",
       "\t<tr><th scope=row>13310</th><td>1017</td><td>FTD</td><td>58.03680</td><td>40.63768</td><td>PVC</td><td>0.8757985</td><td>0</td><td>0</td><td>45</td><td>1.428152</td></tr>\n",
       "\t<tr><th scope=row>13311</th><td>1288</td><td>FTD</td><td>41.37447</td><td>28.84704</td><td>PVC</td><td>0.8850646</td><td>0</td><td>0</td><td>23</td><td>1.434271</td></tr>\n",
       "\t<tr><th scope=row>13312</th><td>1693</td><td>FTD</td><td>38.60760</td><td>30.66716</td><td>PVC</td><td>0.8646495</td><td>0</td><td>0</td><td>60</td><td>1.258923</td></tr>\n",
       "\t<tr><th scope=row>13313</th><td>1020</td><td>FTD</td><td>52.61442</td><td>40.45934</td><td>PVC</td><td>0.8819547</td><td>0</td><td>0</td><td>49</td><td>1.300427</td></tr>\n",
       "\t<tr><th scope=row>13314</th><td>1317</td><td>FTD</td><td>55.65401</td><td>41.22532</td><td>PVC</td><td>0.8740472</td><td>0</td><td>0</td><td>29</td><td>1.349996</td></tr>\n",
       "\t<tr><th scope=row>13315</th><td>1705</td><td>FTD</td><td>30.78474</td><td>25.46327</td><td>PVC</td><td>0.8686780</td><td>0</td><td>0</td><td>58</td><td>1.208986</td></tr>\n",
       "\t<tr><th scope=row>13316</th><td>1021</td><td>FTD</td><td>42.59723</td><td>33.74662</td><td>PVC</td><td>0.8657140</td><td>0</td><td>0</td><td>56</td><td>1.262267</td></tr>\n",
       "\t<tr><th scope=row>13317</th><td>1322</td><td>FTD</td><td>56.58537</td><td>40.39806</td><td>PVC</td><td>0.8856058</td><td>0</td><td>0</td><td>39</td><td>1.400695</td></tr>\n",
       "\t<tr><th scope=row>13318</th><td>1706</td><td>FTD</td><td>49.10740</td><td>38.74912</td><td>PVC</td><td>0.8817892</td><td>0</td><td>0</td><td>58</td><td>1.267317</td></tr>\n",
       "\t<tr><th scope=row>13319</th><td>1023</td><td>FTD</td><td>51.10531</td><td>37.54386</td><td>PVC</td><td>0.8848676</td><td>0</td><td>0</td><td>59</td><td>1.361216</td></tr>\n",
       "\t<tr><th scope=row>13320</th><td>1323</td><td>FTD</td><td>64.12534</td><td>43.23679</td><td>PVC</td><td>0.8758028</td><td>0</td><td>0</td><td>32</td><td>1.483120</td></tr>\n",
       "\t<tr><th scope=row>13321</th><td>1717</td><td>FTD</td><td>31.74456</td><td>26.84821</td><td>PVC</td><td>0.8559509</td><td>0</td><td>0</td><td>67</td><td>1.182372</td></tr>\n",
       "\t<tr><th scope=row>13322</th><td>1025</td><td>FTD</td><td>47.48970</td><td>38.50217</td><td>PVC</td><td>0.8601065</td><td>0</td><td>0</td><td>58</td><td>1.233429</td></tr>\n",
       "\t<tr><th scope=row>13323</th><td>1324</td><td>FTD</td><td>42.66637</td><td>32.28927</td><td>PVC</td><td>0.8912438</td><td>0</td><td>0</td><td>58</td><td>1.321379</td></tr>\n",
       "\t<tr><th scope=row>13324</th><td>1719</td><td>FTD</td><td>37.18183</td><td>31.23101</td><td>PVC</td><td>0.8395271</td><td>0</td><td>0</td><td>67</td><td>1.190542</td></tr>\n",
       "\t<tr><th scope=row>13325</th><td>1031</td><td>FTD</td><td>29.89215</td><td>25.49337</td><td>PVC</td><td>0.8586220</td><td>0</td><td>0</td><td>64</td><td>1.172546</td></tr>\n",
       "\t<tr><th scope=row>13326</th><td>1325</td><td>FTD</td><td>62.85814</td><td>45.16215</td><td>PVC</td><td>0.8859518</td><td>0</td><td>0</td><td>40</td><td>1.391832</td></tr>\n",
       "\t<tr><th scope=row>13327</th><td>1729</td><td>FTD</td><td>62.26138</td><td>43.57423</td><td>PVC</td><td>0.8841345</td><td>0</td><td>0</td><td>34</td><td>1.428858</td></tr>\n",
       "\t<tr><th scope=row>13328</th><td>1032</td><td>FTD</td><td>30.80305</td><td>26.37667</td><td>PVC</td><td>0.8350283</td><td>0</td><td>0</td><td>74</td><td>1.167814</td></tr>\n",
       "\t<tr><th scope=row>13329</th><td>1326</td><td>FTD</td><td>43.71045</td><td>34.31032</td><td>PVC</td><td>0.8657636</td><td>0</td><td>0</td><td>47</td><td>1.273974</td></tr>\n",
       "\t<tr><th scope=row>13330</th><td>1730</td><td>FTD</td><td>54.63810</td><td>41.07841</td><td>PVC</td><td>0.8686467</td><td>0</td><td>0</td><td>27</td><td>1.330093</td></tr>\n",
       "\t<tr><th scope=row>⋮</th><td>⋮</td><td>⋮</td><td>⋮</td><td>⋮</td><td>⋮</td><td>⋮</td><td>⋮</td><td>⋮</td><td>⋮</td><td>⋮</td></tr>\n",
       "\t<tr><th scope=row>13381</th><td>1842</td><td>FTD</td><td>61.85953</td><td>51.04715</td><td>PVC</td><td>0.8561969</td><td>0</td><td>0</td><td>63</td><td>1.211812</td></tr>\n",
       "\t<tr><th scope=row>13382</th><td>1198</td><td>FTD</td><td>36.55602</td><td>29.81244</td><td>PVC</td><td>0.8574482</td><td>0</td><td>0</td><td>50</td><td>1.226200</td></tr>\n",
       "\t<tr><th scope=row>13383</th><td>1569</td><td>FTD</td><td>50.08257</td><td>44.58781</td><td>PVC</td><td>0.8423615</td><td>0</td><td>0</td><td>61</td><td>1.123235</td></tr>\n",
       "\t<tr><th scope=row>13384</th><td>1870</td><td>FTD</td><td>48.03992</td><td>37.72772</td><td>PVC</td><td>0.8736430</td><td>0</td><td>0</td><td>30</td><td>1.273332</td></tr>\n",
       "\t<tr><th scope=row>13385</th><td>1208</td><td>FTD</td><td>63.26443</td><td>51.27835</td><td>PVC</td><td>0.8542573</td><td>0</td><td>0</td><td>64</td><td>1.233746</td></tr>\n",
       "\t<tr><th scope=row>13386</th><td>1577</td><td>FTD</td><td>53.45342</td><td>39.58592</td><td>PVC</td><td>0.8868985</td><td>0</td><td>0</td><td>52</td><td>1.350314</td></tr>\n",
       "\t<tr><th scope=row>13387</th><td>1871</td><td>FTD</td><td>17.77409</td><td>16.45824</td><td>PVC</td><td>0.8197977</td><td>0</td><td>0</td><td>55</td><td>1.079951</td></tr>\n",
       "\t<tr><th scope=row>13388</th><td>1211</td><td>FTD</td><td>67.63298</td><td>51.62834</td><td>PVC</td><td>0.8916722</td><td>0</td><td>0</td><td>39</td><td>1.309997</td></tr>\n",
       "\t<tr><th scope=row>13389</th><td>1578</td><td>FTD</td><td>38.64947</td><td>33.40437</td><td>PVC</td><td>0.8473593</td><td>0</td><td>0</td><td>33</td><td>1.157018</td></tr>\n",
       "\t<tr><th scope=row>13390</th><td>1872</td><td>FTD</td><td>34.84445</td><td>29.96934</td><td>PVC</td><td>0.8635006</td><td>0</td><td>0</td><td>61</td><td>1.162670</td></tr>\n",
       "\t<tr><th scope=row>13391</th><td>1239</td><td>FTD</td><td>35.33326</td><td>30.71507</td><td>PVC</td><td>0.8794183</td><td>0</td><td>0</td><td>45</td><td>1.150356</td></tr>\n",
       "\t<tr><th scope=row>13392</th><td>1591</td><td>FTD</td><td>32.94165</td><td>31.76805</td><td>PVC</td><td>0.7998063</td><td>0</td><td>0</td><td>62</td><td>1.036943</td></tr>\n",
       "\t<tr><th scope=row>13393</th><td>1875</td><td>FTD</td><td>42.21555</td><td>31.81146</td><td>PVC</td><td>0.9009656</td><td>0</td><td>0</td><td>32</td><td>1.327055</td></tr>\n",
       "\t<tr><th scope=row>13394</th><td>1240</td><td>FTD</td><td>28.88963</td><td>27.77303</td><td>PVC</td><td>0.8279628</td><td>0</td><td>0</td><td>74</td><td>1.040205</td></tr>\n",
       "\t<tr><th scope=row>13395</th><td>1592</td><td>FTD</td><td>35.89017</td><td>33.27524</td><td>PVC</td><td>0.8214599</td><td>0</td><td>0</td><td>63</td><td>1.078585</td></tr>\n",
       "\t<tr><th scope=row>13396</th><td>1876</td><td>FTD</td><td>23.61658</td><td>22.54074</td><td>PVC</td><td>0.7963721</td><td>0</td><td>0</td><td>71</td><td>1.047728</td></tr>\n",
       "\t<tr><th scope=row>13397</th><td>1278</td><td>FTD</td><td>62.19923</td><td>47.23491</td><td>PVC</td><td>0.8692649</td><td>0</td><td>0</td><td>52</td><td>1.316806</td></tr>\n",
       "\t<tr><th scope=row>13398</th><td>1599</td><td>FTD</td><td>40.30673</td><td>35.11433</td><td>PVC</td><td>0.8272312</td><td>0</td><td>0</td><td>60</td><td>1.147871</td></tr>\n",
       "\t<tr><th scope=row>13399</th><td>1279</td><td>FTD</td><td>63.86405</td><td>47.02935</td><td>PVC</td><td>0.8697576</td><td>0</td><td>0</td><td>45</td><td>1.357962</td></tr>\n",
       "\t<tr><th scope=row>13400</th><td>1600</td><td>FTD</td><td>42.43062</td><td>36.44031</td><td>PVC</td><td>0.8458452</td><td>0</td><td>0</td><td>63</td><td>1.164387</td></tr>\n",
       "\t<tr><th scope=row>13401</th><td>1280</td><td>FTD</td><td>42.94832</td><td>31.85819</td><td>PVC</td><td>0.8943697</td><td>0</td><td>0</td><td>29</td><td>1.348109</td></tr>\n",
       "\t<tr><th scope=row>13402</th><td>1615</td><td>FTD</td><td>50.38826</td><td>47.38877</td><td>PVC</td><td>0.8102997</td><td>0</td><td>0</td><td>71</td><td>1.063295</td></tr>\n",
       "\t<tr><th scope=row>13403</th><td>1281</td><td>FTD</td><td>54.34987</td><td>39.58462</td><td>PVC</td><td>0.8874143</td><td>0</td><td>0</td><td>25</td><td>1.373005</td></tr>\n",
       "\t<tr><th scope=row>13404</th><td>1616</td><td>FTD</td><td>36.93161</td><td>29.69935</td><td>PVC</td><td>0.8787438</td><td>0</td><td>0</td><td>59</td><td>1.243516</td></tr>\n",
       "\t<tr><th scope=row>13405</th><td>1282</td><td>FTD</td><td>41.38370</td><td>29.90881</td><td>PVC</td><td>0.8874723</td><td>0</td><td>0</td><td>40</td><td>1.383663</td></tr>\n",
       "\t<tr><th scope=row>13406</th><td>1629</td><td>FTD</td><td>43.01111</td><td>40.06286</td><td>PVC</td><td>0.8403488</td><td>0</td><td>0</td><td>45</td><td>1.073591</td></tr>\n",
       "\t<tr><th scope=row>13407</th><td>1283</td><td>FTD</td><td>51.06617</td><td>41.80757</td><td>PVC</td><td>0.8795585</td><td>0</td><td>0</td><td>36</td><td>1.221458</td></tr>\n",
       "\t<tr><th scope=row>13408</th><td>1648</td><td>FTD</td><td>37.28445</td><td>31.92961</td><td>PVC</td><td>0.8643466</td><td>0</td><td>0</td><td>62</td><td>1.167708</td></tr>\n",
       "\t<tr><th scope=row>13409</th><td>1284</td><td>FTD</td><td>43.91159</td><td>32.86006</td><td>PVC</td><td>0.8976235</td><td>0</td><td>0</td><td>38</td><td>1.336321</td></tr>\n",
       "\t<tr><th scope=row>13410</th><td>1657</td><td>FTD</td><td>31.05043</td><td>30.11396</td><td>PVC</td><td>0.8407988</td><td>0</td><td>0</td><td>56</td><td>1.031098</td></tr>\n",
       "</tbody>\n",
       "</table>\n"
      ],
      "text/latex": [
       "A data.frame: 110 × 10\n",
       "\\begin{tabular}{r|llllllllll}\n",
       "  & sub & Datasets & CBF.GM & CBF.WM & CBFTYPE & QEI & NEG\\_CBF & FD & AGE & CBF\\_R\\\\\n",
       "  & <chr> & <chr> & <dbl> & <dbl> & <chr> & <dbl> & <dbl> & <dbl> & <dbl> & <dbl>\\\\\n",
       "\\hline\n",
       "\t13301 & 1014 & FTD & 35.45241 & 29.17062 & PVC & 0.8641500 & 0 & 0 & 51 & 1.215347\\\\\n",
       "\t13302 & 1285 & FTD & 44.97962 & 40.54916 & PVC & 0.8582947 & 0 & 0 & 73 & 1.109261\\\\\n",
       "\t13303 & 1658 & FTD & 33.36679 & 29.25494 & PVC & 0.8563746 & 0 & 0 & 70 & 1.140552\\\\\n",
       "\t13304 & 1015 & FTD & 33.39101 & 28.28251 & PVC & 0.8589042 & 0 & 0 & 62 & 1.180624\\\\\n",
       "\t13305 & 1286 & FTD & 59.02018 & 46.85825 & PVC & 0.8734335 & 0 & 0 & 48 & 1.259547\\\\\n",
       "\t13306 & 1663 & FTD & 30.16457 & 26.62931 & PVC & 0.8483731 & 0 & 0 & 58 & 1.132758\\\\\n",
       "\t13307 & 1016 & FTD & 32.42142 & 28.85487 & PVC & 0.8764465 & 0 & 0 & 48 & 1.123603\\\\\n",
       "\t13308 & 1287 & FTD & 65.34709 & 45.05624 & PVC & 0.8683281 & 0 & 0 & 19 & 1.450345\\\\\n",
       "\t13309 & 1686 & FTD & 41.06960 & 39.26436 & PVC & 0.8509552 & 0 & 0 & 56 & 1.045977\\\\\n",
       "\t13310 & 1017 & FTD & 58.03680 & 40.63768 & PVC & 0.8757985 & 0 & 0 & 45 & 1.428152\\\\\n",
       "\t13311 & 1288 & FTD & 41.37447 & 28.84704 & PVC & 0.8850646 & 0 & 0 & 23 & 1.434271\\\\\n",
       "\t13312 & 1693 & FTD & 38.60760 & 30.66716 & PVC & 0.8646495 & 0 & 0 & 60 & 1.258923\\\\\n",
       "\t13313 & 1020 & FTD & 52.61442 & 40.45934 & PVC & 0.8819547 & 0 & 0 & 49 & 1.300427\\\\\n",
       "\t13314 & 1317 & FTD & 55.65401 & 41.22532 & PVC & 0.8740472 & 0 & 0 & 29 & 1.349996\\\\\n",
       "\t13315 & 1705 & FTD & 30.78474 & 25.46327 & PVC & 0.8686780 & 0 & 0 & 58 & 1.208986\\\\\n",
       "\t13316 & 1021 & FTD & 42.59723 & 33.74662 & PVC & 0.8657140 & 0 & 0 & 56 & 1.262267\\\\\n",
       "\t13317 & 1322 & FTD & 56.58537 & 40.39806 & PVC & 0.8856058 & 0 & 0 & 39 & 1.400695\\\\\n",
       "\t13318 & 1706 & FTD & 49.10740 & 38.74912 & PVC & 0.8817892 & 0 & 0 & 58 & 1.267317\\\\\n",
       "\t13319 & 1023 & FTD & 51.10531 & 37.54386 & PVC & 0.8848676 & 0 & 0 & 59 & 1.361216\\\\\n",
       "\t13320 & 1323 & FTD & 64.12534 & 43.23679 & PVC & 0.8758028 & 0 & 0 & 32 & 1.483120\\\\\n",
       "\t13321 & 1717 & FTD & 31.74456 & 26.84821 & PVC & 0.8559509 & 0 & 0 & 67 & 1.182372\\\\\n",
       "\t13322 & 1025 & FTD & 47.48970 & 38.50217 & PVC & 0.8601065 & 0 & 0 & 58 & 1.233429\\\\\n",
       "\t13323 & 1324 & FTD & 42.66637 & 32.28927 & PVC & 0.8912438 & 0 & 0 & 58 & 1.321379\\\\\n",
       "\t13324 & 1719 & FTD & 37.18183 & 31.23101 & PVC & 0.8395271 & 0 & 0 & 67 & 1.190542\\\\\n",
       "\t13325 & 1031 & FTD & 29.89215 & 25.49337 & PVC & 0.8586220 & 0 & 0 & 64 & 1.172546\\\\\n",
       "\t13326 & 1325 & FTD & 62.85814 & 45.16215 & PVC & 0.8859518 & 0 & 0 & 40 & 1.391832\\\\\n",
       "\t13327 & 1729 & FTD & 62.26138 & 43.57423 & PVC & 0.8841345 & 0 & 0 & 34 & 1.428858\\\\\n",
       "\t13328 & 1032 & FTD & 30.80305 & 26.37667 & PVC & 0.8350283 & 0 & 0 & 74 & 1.167814\\\\\n",
       "\t13329 & 1326 & FTD & 43.71045 & 34.31032 & PVC & 0.8657636 & 0 & 0 & 47 & 1.273974\\\\\n",
       "\t13330 & 1730 & FTD & 54.63810 & 41.07841 & PVC & 0.8686467 & 0 & 0 & 27 & 1.330093\\\\\n",
       "\t⋮ & ⋮ & ⋮ & ⋮ & ⋮ & ⋮ & ⋮ & ⋮ & ⋮ & ⋮ & ⋮\\\\\n",
       "\t13381 & 1842 & FTD & 61.85953 & 51.04715 & PVC & 0.8561969 & 0 & 0 & 63 & 1.211812\\\\\n",
       "\t13382 & 1198 & FTD & 36.55602 & 29.81244 & PVC & 0.8574482 & 0 & 0 & 50 & 1.226200\\\\\n",
       "\t13383 & 1569 & FTD & 50.08257 & 44.58781 & PVC & 0.8423615 & 0 & 0 & 61 & 1.123235\\\\\n",
       "\t13384 & 1870 & FTD & 48.03992 & 37.72772 & PVC & 0.8736430 & 0 & 0 & 30 & 1.273332\\\\\n",
       "\t13385 & 1208 & FTD & 63.26443 & 51.27835 & PVC & 0.8542573 & 0 & 0 & 64 & 1.233746\\\\\n",
       "\t13386 & 1577 & FTD & 53.45342 & 39.58592 & PVC & 0.8868985 & 0 & 0 & 52 & 1.350314\\\\\n",
       "\t13387 & 1871 & FTD & 17.77409 & 16.45824 & PVC & 0.8197977 & 0 & 0 & 55 & 1.079951\\\\\n",
       "\t13388 & 1211 & FTD & 67.63298 & 51.62834 & PVC & 0.8916722 & 0 & 0 & 39 & 1.309997\\\\\n",
       "\t13389 & 1578 & FTD & 38.64947 & 33.40437 & PVC & 0.8473593 & 0 & 0 & 33 & 1.157018\\\\\n",
       "\t13390 & 1872 & FTD & 34.84445 & 29.96934 & PVC & 0.8635006 & 0 & 0 & 61 & 1.162670\\\\\n",
       "\t13391 & 1239 & FTD & 35.33326 & 30.71507 & PVC & 0.8794183 & 0 & 0 & 45 & 1.150356\\\\\n",
       "\t13392 & 1591 & FTD & 32.94165 & 31.76805 & PVC & 0.7998063 & 0 & 0 & 62 & 1.036943\\\\\n",
       "\t13393 & 1875 & FTD & 42.21555 & 31.81146 & PVC & 0.9009656 & 0 & 0 & 32 & 1.327055\\\\\n",
       "\t13394 & 1240 & FTD & 28.88963 & 27.77303 & PVC & 0.8279628 & 0 & 0 & 74 & 1.040205\\\\\n",
       "\t13395 & 1592 & FTD & 35.89017 & 33.27524 & PVC & 0.8214599 & 0 & 0 & 63 & 1.078585\\\\\n",
       "\t13396 & 1876 & FTD & 23.61658 & 22.54074 & PVC & 0.7963721 & 0 & 0 & 71 & 1.047728\\\\\n",
       "\t13397 & 1278 & FTD & 62.19923 & 47.23491 & PVC & 0.8692649 & 0 & 0 & 52 & 1.316806\\\\\n",
       "\t13398 & 1599 & FTD & 40.30673 & 35.11433 & PVC & 0.8272312 & 0 & 0 & 60 & 1.147871\\\\\n",
       "\t13399 & 1279 & FTD & 63.86405 & 47.02935 & PVC & 0.8697576 & 0 & 0 & 45 & 1.357962\\\\\n",
       "\t13400 & 1600 & FTD & 42.43062 & 36.44031 & PVC & 0.8458452 & 0 & 0 & 63 & 1.164387\\\\\n",
       "\t13401 & 1280 & FTD & 42.94832 & 31.85819 & PVC & 0.8943697 & 0 & 0 & 29 & 1.348109\\\\\n",
       "\t13402 & 1615 & FTD & 50.38826 & 47.38877 & PVC & 0.8102997 & 0 & 0 & 71 & 1.063295\\\\\n",
       "\t13403 & 1281 & FTD & 54.34987 & 39.58462 & PVC & 0.8874143 & 0 & 0 & 25 & 1.373005\\\\\n",
       "\t13404 & 1616 & FTD & 36.93161 & 29.69935 & PVC & 0.8787438 & 0 & 0 & 59 & 1.243516\\\\\n",
       "\t13405 & 1282 & FTD & 41.38370 & 29.90881 & PVC & 0.8874723 & 0 & 0 & 40 & 1.383663\\\\\n",
       "\t13406 & 1629 & FTD & 43.01111 & 40.06286 & PVC & 0.8403488 & 0 & 0 & 45 & 1.073591\\\\\n",
       "\t13407 & 1283 & FTD & 51.06617 & 41.80757 & PVC & 0.8795585 & 0 & 0 & 36 & 1.221458\\\\\n",
       "\t13408 & 1648 & FTD & 37.28445 & 31.92961 & PVC & 0.8643466 & 0 & 0 & 62 & 1.167708\\\\\n",
       "\t13409 & 1284 & FTD & 43.91159 & 32.86006 & PVC & 0.8976235 & 0 & 0 & 38 & 1.336321\\\\\n",
       "\t13410 & 1657 & FTD & 31.05043 & 30.11396 & PVC & 0.8407988 & 0 & 0 & 56 & 1.031098\\\\\n",
       "\\end{tabular}\n"
      ],
      "text/markdown": [
       "\n",
       "A data.frame: 110 × 10\n",
       "\n",
       "| <!--/--> | sub &lt;chr&gt; | Datasets &lt;chr&gt; | CBF.GM &lt;dbl&gt; | CBF.WM &lt;dbl&gt; | CBFTYPE &lt;chr&gt; | QEI &lt;dbl&gt; | NEG_CBF &lt;dbl&gt; | FD &lt;dbl&gt; | AGE &lt;dbl&gt; | CBF_R &lt;dbl&gt; |\n",
       "|---|---|---|---|---|---|---|---|---|---|---|\n",
       "| 13301 | 1014 | FTD | 35.45241 | 29.17062 | PVC | 0.8641500 | 0 | 0 | 51 | 1.215347 |\n",
       "| 13302 | 1285 | FTD | 44.97962 | 40.54916 | PVC | 0.8582947 | 0 | 0 | 73 | 1.109261 |\n",
       "| 13303 | 1658 | FTD | 33.36679 | 29.25494 | PVC | 0.8563746 | 0 | 0 | 70 | 1.140552 |\n",
       "| 13304 | 1015 | FTD | 33.39101 | 28.28251 | PVC | 0.8589042 | 0 | 0 | 62 | 1.180624 |\n",
       "| 13305 | 1286 | FTD | 59.02018 | 46.85825 | PVC | 0.8734335 | 0 | 0 | 48 | 1.259547 |\n",
       "| 13306 | 1663 | FTD | 30.16457 | 26.62931 | PVC | 0.8483731 | 0 | 0 | 58 | 1.132758 |\n",
       "| 13307 | 1016 | FTD | 32.42142 | 28.85487 | PVC | 0.8764465 | 0 | 0 | 48 | 1.123603 |\n",
       "| 13308 | 1287 | FTD | 65.34709 | 45.05624 | PVC | 0.8683281 | 0 | 0 | 19 | 1.450345 |\n",
       "| 13309 | 1686 | FTD | 41.06960 | 39.26436 | PVC | 0.8509552 | 0 | 0 | 56 | 1.045977 |\n",
       "| 13310 | 1017 | FTD | 58.03680 | 40.63768 | PVC | 0.8757985 | 0 | 0 | 45 | 1.428152 |\n",
       "| 13311 | 1288 | FTD | 41.37447 | 28.84704 | PVC | 0.8850646 | 0 | 0 | 23 | 1.434271 |\n",
       "| 13312 | 1693 | FTD | 38.60760 | 30.66716 | PVC | 0.8646495 | 0 | 0 | 60 | 1.258923 |\n",
       "| 13313 | 1020 | FTD | 52.61442 | 40.45934 | PVC | 0.8819547 | 0 | 0 | 49 | 1.300427 |\n",
       "| 13314 | 1317 | FTD | 55.65401 | 41.22532 | PVC | 0.8740472 | 0 | 0 | 29 | 1.349996 |\n",
       "| 13315 | 1705 | FTD | 30.78474 | 25.46327 | PVC | 0.8686780 | 0 | 0 | 58 | 1.208986 |\n",
       "| 13316 | 1021 | FTD | 42.59723 | 33.74662 | PVC | 0.8657140 | 0 | 0 | 56 | 1.262267 |\n",
       "| 13317 | 1322 | FTD | 56.58537 | 40.39806 | PVC | 0.8856058 | 0 | 0 | 39 | 1.400695 |\n",
       "| 13318 | 1706 | FTD | 49.10740 | 38.74912 | PVC | 0.8817892 | 0 | 0 | 58 | 1.267317 |\n",
       "| 13319 | 1023 | FTD | 51.10531 | 37.54386 | PVC | 0.8848676 | 0 | 0 | 59 | 1.361216 |\n",
       "| 13320 | 1323 | FTD | 64.12534 | 43.23679 | PVC | 0.8758028 | 0 | 0 | 32 | 1.483120 |\n",
       "| 13321 | 1717 | FTD | 31.74456 | 26.84821 | PVC | 0.8559509 | 0 | 0 | 67 | 1.182372 |\n",
       "| 13322 | 1025 | FTD | 47.48970 | 38.50217 | PVC | 0.8601065 | 0 | 0 | 58 | 1.233429 |\n",
       "| 13323 | 1324 | FTD | 42.66637 | 32.28927 | PVC | 0.8912438 | 0 | 0 | 58 | 1.321379 |\n",
       "| 13324 | 1719 | FTD | 37.18183 | 31.23101 | PVC | 0.8395271 | 0 | 0 | 67 | 1.190542 |\n",
       "| 13325 | 1031 | FTD | 29.89215 | 25.49337 | PVC | 0.8586220 | 0 | 0 | 64 | 1.172546 |\n",
       "| 13326 | 1325 | FTD | 62.85814 | 45.16215 | PVC | 0.8859518 | 0 | 0 | 40 | 1.391832 |\n",
       "| 13327 | 1729 | FTD | 62.26138 | 43.57423 | PVC | 0.8841345 | 0 | 0 | 34 | 1.428858 |\n",
       "| 13328 | 1032 | FTD | 30.80305 | 26.37667 | PVC | 0.8350283 | 0 | 0 | 74 | 1.167814 |\n",
       "| 13329 | 1326 | FTD | 43.71045 | 34.31032 | PVC | 0.8657636 | 0 | 0 | 47 | 1.273974 |\n",
       "| 13330 | 1730 | FTD | 54.63810 | 41.07841 | PVC | 0.8686467 | 0 | 0 | 27 | 1.330093 |\n",
       "| ⋮ | ⋮ | ⋮ | ⋮ | ⋮ | ⋮ | ⋮ | ⋮ | ⋮ | ⋮ | ⋮ |\n",
       "| 13381 | 1842 | FTD | 61.85953 | 51.04715 | PVC | 0.8561969 | 0 | 0 | 63 | 1.211812 |\n",
       "| 13382 | 1198 | FTD | 36.55602 | 29.81244 | PVC | 0.8574482 | 0 | 0 | 50 | 1.226200 |\n",
       "| 13383 | 1569 | FTD | 50.08257 | 44.58781 | PVC | 0.8423615 | 0 | 0 | 61 | 1.123235 |\n",
       "| 13384 | 1870 | FTD | 48.03992 | 37.72772 | PVC | 0.8736430 | 0 | 0 | 30 | 1.273332 |\n",
       "| 13385 | 1208 | FTD | 63.26443 | 51.27835 | PVC | 0.8542573 | 0 | 0 | 64 | 1.233746 |\n",
       "| 13386 | 1577 | FTD | 53.45342 | 39.58592 | PVC | 0.8868985 | 0 | 0 | 52 | 1.350314 |\n",
       "| 13387 | 1871 | FTD | 17.77409 | 16.45824 | PVC | 0.8197977 | 0 | 0 | 55 | 1.079951 |\n",
       "| 13388 | 1211 | FTD | 67.63298 | 51.62834 | PVC | 0.8916722 | 0 | 0 | 39 | 1.309997 |\n",
       "| 13389 | 1578 | FTD | 38.64947 | 33.40437 | PVC | 0.8473593 | 0 | 0 | 33 | 1.157018 |\n",
       "| 13390 | 1872 | FTD | 34.84445 | 29.96934 | PVC | 0.8635006 | 0 | 0 | 61 | 1.162670 |\n",
       "| 13391 | 1239 | FTD | 35.33326 | 30.71507 | PVC | 0.8794183 | 0 | 0 | 45 | 1.150356 |\n",
       "| 13392 | 1591 | FTD | 32.94165 | 31.76805 | PVC | 0.7998063 | 0 | 0 | 62 | 1.036943 |\n",
       "| 13393 | 1875 | FTD | 42.21555 | 31.81146 | PVC | 0.9009656 | 0 | 0 | 32 | 1.327055 |\n",
       "| 13394 | 1240 | FTD | 28.88963 | 27.77303 | PVC | 0.8279628 | 0 | 0 | 74 | 1.040205 |\n",
       "| 13395 | 1592 | FTD | 35.89017 | 33.27524 | PVC | 0.8214599 | 0 | 0 | 63 | 1.078585 |\n",
       "| 13396 | 1876 | FTD | 23.61658 | 22.54074 | PVC | 0.7963721 | 0 | 0 | 71 | 1.047728 |\n",
       "| 13397 | 1278 | FTD | 62.19923 | 47.23491 | PVC | 0.8692649 | 0 | 0 | 52 | 1.316806 |\n",
       "| 13398 | 1599 | FTD | 40.30673 | 35.11433 | PVC | 0.8272312 | 0 | 0 | 60 | 1.147871 |\n",
       "| 13399 | 1279 | FTD | 63.86405 | 47.02935 | PVC | 0.8697576 | 0 | 0 | 45 | 1.357962 |\n",
       "| 13400 | 1600 | FTD | 42.43062 | 36.44031 | PVC | 0.8458452 | 0 | 0 | 63 | 1.164387 |\n",
       "| 13401 | 1280 | FTD | 42.94832 | 31.85819 | PVC | 0.8943697 | 0 | 0 | 29 | 1.348109 |\n",
       "| 13402 | 1615 | FTD | 50.38826 | 47.38877 | PVC | 0.8102997 | 0 | 0 | 71 | 1.063295 |\n",
       "| 13403 | 1281 | FTD | 54.34987 | 39.58462 | PVC | 0.8874143 | 0 | 0 | 25 | 1.373005 |\n",
       "| 13404 | 1616 | FTD | 36.93161 | 29.69935 | PVC | 0.8787438 | 0 | 0 | 59 | 1.243516 |\n",
       "| 13405 | 1282 | FTD | 41.38370 | 29.90881 | PVC | 0.8874723 | 0 | 0 | 40 | 1.383663 |\n",
       "| 13406 | 1629 | FTD | 43.01111 | 40.06286 | PVC | 0.8403488 | 0 | 0 | 45 | 1.073591 |\n",
       "| 13407 | 1283 | FTD | 51.06617 | 41.80757 | PVC | 0.8795585 | 0 | 0 | 36 | 1.221458 |\n",
       "| 13408 | 1648 | FTD | 37.28445 | 31.92961 | PVC | 0.8643466 | 0 | 0 | 62 | 1.167708 |\n",
       "| 13409 | 1284 | FTD | 43.91159 | 32.86006 | PVC | 0.8976235 | 0 | 0 | 38 | 1.336321 |\n",
       "| 13410 | 1657 | FTD | 31.05043 | 30.11396 | PVC | 0.8407988 | 0 | 0 | 56 | 1.031098 |\n",
       "\n"
      ],
      "text/plain": [
       "      sub  Datasets CBF.GM   CBF.WM   CBFTYPE QEI       NEG_CBF FD AGE CBF_R   \n",
       "13301 1014 FTD      35.45241 29.17062 PVC     0.8641500 0       0  51  1.215347\n",
       "13302 1285 FTD      44.97962 40.54916 PVC     0.8582947 0       0  73  1.109261\n",
       "13303 1658 FTD      33.36679 29.25494 PVC     0.8563746 0       0  70  1.140552\n",
       "13304 1015 FTD      33.39101 28.28251 PVC     0.8589042 0       0  62  1.180624\n",
       "13305 1286 FTD      59.02018 46.85825 PVC     0.8734335 0       0  48  1.259547\n",
       "13306 1663 FTD      30.16457 26.62931 PVC     0.8483731 0       0  58  1.132758\n",
       "13307 1016 FTD      32.42142 28.85487 PVC     0.8764465 0       0  48  1.123603\n",
       "13308 1287 FTD      65.34709 45.05624 PVC     0.8683281 0       0  19  1.450345\n",
       "13309 1686 FTD      41.06960 39.26436 PVC     0.8509552 0       0  56  1.045977\n",
       "13310 1017 FTD      58.03680 40.63768 PVC     0.8757985 0       0  45  1.428152\n",
       "13311 1288 FTD      41.37447 28.84704 PVC     0.8850646 0       0  23  1.434271\n",
       "13312 1693 FTD      38.60760 30.66716 PVC     0.8646495 0       0  60  1.258923\n",
       "13313 1020 FTD      52.61442 40.45934 PVC     0.8819547 0       0  49  1.300427\n",
       "13314 1317 FTD      55.65401 41.22532 PVC     0.8740472 0       0  29  1.349996\n",
       "13315 1705 FTD      30.78474 25.46327 PVC     0.8686780 0       0  58  1.208986\n",
       "13316 1021 FTD      42.59723 33.74662 PVC     0.8657140 0       0  56  1.262267\n",
       "13317 1322 FTD      56.58537 40.39806 PVC     0.8856058 0       0  39  1.400695\n",
       "13318 1706 FTD      49.10740 38.74912 PVC     0.8817892 0       0  58  1.267317\n",
       "13319 1023 FTD      51.10531 37.54386 PVC     0.8848676 0       0  59  1.361216\n",
       "13320 1323 FTD      64.12534 43.23679 PVC     0.8758028 0       0  32  1.483120\n",
       "13321 1717 FTD      31.74456 26.84821 PVC     0.8559509 0       0  67  1.182372\n",
       "13322 1025 FTD      47.48970 38.50217 PVC     0.8601065 0       0  58  1.233429\n",
       "13323 1324 FTD      42.66637 32.28927 PVC     0.8912438 0       0  58  1.321379\n",
       "13324 1719 FTD      37.18183 31.23101 PVC     0.8395271 0       0  67  1.190542\n",
       "13325 1031 FTD      29.89215 25.49337 PVC     0.8586220 0       0  64  1.172546\n",
       "13326 1325 FTD      62.85814 45.16215 PVC     0.8859518 0       0  40  1.391832\n",
       "13327 1729 FTD      62.26138 43.57423 PVC     0.8841345 0       0  34  1.428858\n",
       "13328 1032 FTD      30.80305 26.37667 PVC     0.8350283 0       0  74  1.167814\n",
       "13329 1326 FTD      43.71045 34.31032 PVC     0.8657636 0       0  47  1.273974\n",
       "13330 1730 FTD      54.63810 41.07841 PVC     0.8686467 0       0  27  1.330093\n",
       "⋮     ⋮    ⋮        ⋮        ⋮        ⋮       ⋮         ⋮       ⋮  ⋮   ⋮       \n",
       "13381 1842 FTD      61.85953 51.04715 PVC     0.8561969 0       0  63  1.211812\n",
       "13382 1198 FTD      36.55602 29.81244 PVC     0.8574482 0       0  50  1.226200\n",
       "13383 1569 FTD      50.08257 44.58781 PVC     0.8423615 0       0  61  1.123235\n",
       "13384 1870 FTD      48.03992 37.72772 PVC     0.8736430 0       0  30  1.273332\n",
       "13385 1208 FTD      63.26443 51.27835 PVC     0.8542573 0       0  64  1.233746\n",
       "13386 1577 FTD      53.45342 39.58592 PVC     0.8868985 0       0  52  1.350314\n",
       "13387 1871 FTD      17.77409 16.45824 PVC     0.8197977 0       0  55  1.079951\n",
       "13388 1211 FTD      67.63298 51.62834 PVC     0.8916722 0       0  39  1.309997\n",
       "13389 1578 FTD      38.64947 33.40437 PVC     0.8473593 0       0  33  1.157018\n",
       "13390 1872 FTD      34.84445 29.96934 PVC     0.8635006 0       0  61  1.162670\n",
       "13391 1239 FTD      35.33326 30.71507 PVC     0.8794183 0       0  45  1.150356\n",
       "13392 1591 FTD      32.94165 31.76805 PVC     0.7998063 0       0  62  1.036943\n",
       "13393 1875 FTD      42.21555 31.81146 PVC     0.9009656 0       0  32  1.327055\n",
       "13394 1240 FTD      28.88963 27.77303 PVC     0.8279628 0       0  74  1.040205\n",
       "13395 1592 FTD      35.89017 33.27524 PVC     0.8214599 0       0  63  1.078585\n",
       "13396 1876 FTD      23.61658 22.54074 PVC     0.7963721 0       0  71  1.047728\n",
       "13397 1278 FTD      62.19923 47.23491 PVC     0.8692649 0       0  52  1.316806\n",
       "13398 1599 FTD      40.30673 35.11433 PVC     0.8272312 0       0  60  1.147871\n",
       "13399 1279 FTD      63.86405 47.02935 PVC     0.8697576 0       0  45  1.357962\n",
       "13400 1600 FTD      42.43062 36.44031 PVC     0.8458452 0       0  63  1.164387\n",
       "13401 1280 FTD      42.94832 31.85819 PVC     0.8943697 0       0  29  1.348109\n",
       "13402 1615 FTD      50.38826 47.38877 PVC     0.8102997 0       0  71  1.063295\n",
       "13403 1281 FTD      54.34987 39.58462 PVC     0.8874143 0       0  25  1.373005\n",
       "13404 1616 FTD      36.93161 29.69935 PVC     0.8787438 0       0  59  1.243516\n",
       "13405 1282 FTD      41.38370 29.90881 PVC     0.8874723 0       0  40  1.383663\n",
       "13406 1629 FTD      43.01111 40.06286 PVC     0.8403488 0       0  45  1.073591\n",
       "13407 1283 FTD      51.06617 41.80757 PVC     0.8795585 0       0  36  1.221458\n",
       "13408 1648 FTD      37.28445 31.92961 PVC     0.8643466 0       0  62  1.167708\n",
       "13409 1284 FTD      43.91159 32.86006 PVC     0.8976235 0       0  38  1.336321\n",
       "13410 1657 FTD      31.05043 30.11396 PVC     0.8407988 0       0  56  1.031098"
      ]
     },
     "metadata": {},
     "output_type": "display_data"
    }
   ],
   "source": [
    "datay = datax[datax$CBFTYPE =='PVC',]\n",
    "pnc = datay[datay$Datasets=='PNC',]\n",
    "nki = datay[datay$Datasets=='NKI',]\n",
    "age = datay[datay$Datasets=='AGE',]\n",
    "irr = datay[datay$Datasets=='IRR',]\n",
    "ftd = datay[datay$Datasets=='FTD',]\n",
    "\n",
    "#############################################################\n",
    "cbf_Age_gam <- gam(CBF.GM ~ s(AGE, k=4), method=\"REML\", data = datay)\n",
    "\n",
    "#####################\n",
    "## Look at results ##\n",
    "#####################\n",
    "summary(cbf_Age_gam)\n",
    "\n",
    "## Nonlinear age effect\n",
    "Age_pval <- summary(cbf_Age_gam)$s.table[1,4]\n",
    "Age_pval\n",
    "\n",
    "####################################\n",
    "## Visualize Nonlinear Age Effect ##\n",
    "####################################\n",
    "plotdata <- visreg(cbf_Age_gam,'AGE',type = \"conditional\",scale = \"linear\", plot = FALSE)\n",
    "smooths <- data.frame(Variable = plotdata$meta$x, \n",
    "                      x=plotdata$fit[[plotdata$meta$x]], \n",
    "                      smooth=plotdata$fit$visregFit, \n",
    "                      lower=plotdata$fit$visregLwr, \n",
    "                      upper=plotdata$fit$visregUpr)\n",
    "predicts <- data.frame(Variable = \"dim1\", \n",
    "                       x=plotdata$res$AGE,\n",
    "                       y=plotdata$res$visregRes)\n",
    "\n",
    "CBF_Age_plot <- ggplot() + xlim(8, 85)+ ylim(0,140) +\n",
    "  #theme(legend.position = \"none\")  +\n",
    "  labs(x = \"Age (years)\", y = \"CBF(mL/100 g/min)\") +\n",
    "  theme(axis.title.x = element_text(size = rel(1.6))) +\n",
    "  theme(axis.title.y = element_text(size = rel(1.6))) + \n",
    "  theme(axis.text = element_text(size = rel(1.4))) + theme(axis.line = element_line(colour = 'black', size = 1.5), axis.ticks.length = unit(.25, \"cm\")) +\n",
    "  theme(panel.grid.major = element_blank(), panel.grid.minor = element_blank(), panel.background = element_blank()) +\n",
    "  geom_point(data = predicts, aes(x, y), colour = \"darksalmon\", alpha=0.7 ) +  \n",
    "  #geom_point(data=datay,aes(x=AGE, y=CBF.GM),size=1)+ \n",
    "  geom_point(data=pnc,aes(x=AGE, y=CBF.GM),shape=21,size=2,fill='#e34a33', color=\"white\")+ \n",
    "  geom_point(data=nki,aes(x=AGE, y=CBF.GM),shape=21,size=2,fill=\"#3182bd\", color=\"white\")+ \n",
    "  geom_point(data=irr,aes(x=AGE, y=CBF.GM),shape=21,size=2,fill=\"#31a354\", color=\"white\")+ \n",
    "  geom_point(data=ftd,aes(x=AGE, y=CBF.GM),shape=21,size=2,fill=\"#d95f02\", color=\"white\")+ \n",
    "  geom_point(data=age,aes(x=AGE, y=CBF.GM),shape=21,size=2,fill=\"#c51b8a\", color=\"white\")+ \n",
    "  geom_line(data = smooths, aes(x = x, y = smooth), colour = \"midnightblue\",size=1) +\n",
    "  geom_line(data = smooths, aes(x = x, y=lower), linetype=\"dashed\", colour = \"midnightblue\", alpha = 0.9, size = 0.9) + \n",
    "  geom_line(data = smooths, aes(x = x, y=upper), linetype=\"dashed\",colour = \"midnightblue\", alpha = 0.9, size = 0.9) +\n",
    " coord_cartesian(xlim = c(10.5,85), ylim = c(0,140))\n",
    "  \n",
    "  \n",
    " \n",
    "\n",
    "dev.off()\n",
    "\n",
    "## Export image\n",
    "png(filename=\"PVC_AGE_fit.png\",res = 600, width = 6, height = 4, units = 'in',)\n",
    "CBF_Age_plot\n",
    "dev.off()\n",
    "ftd"
   ]
  },
  {
   "cell_type": "code",
   "execution_count": 7,
   "metadata": {},
   "outputs": [
    {
     "data": {
      "text/plain": [
       "\n",
       "Family: gaussian \n",
       "Link function: identity \n",
       "\n",
       "Formula:\n",
       "CBF.GM ~ s(AGE, k = 4)\n",
       "\n",
       "Parametric coefficients:\n",
       "            Estimate Std. Error t value Pr(>|t|)    \n",
       "(Intercept)  62.0745     0.2276   272.8   <2e-16 ***\n",
       "---\n",
       "Signif. codes:  0 ‘***’ 0.001 ‘**’ 0.01 ‘*’ 0.05 ‘.’ 0.1 ‘ ’ 1\n",
       "\n",
       "Approximate significance of smooth terms:\n",
       "         edf Ref.df    F p-value    \n",
       "s(AGE) 2.994      3 1155  <2e-16 ***\n",
       "---\n",
       "Signif. codes:  0 ‘***’ 0.001 ‘**’ 0.01 ‘*’ 0.05 ‘.’ 0.1 ‘ ’ 1\n",
       "\n",
       "R-sq.(adj) =  0.511   Deviance explained = 51.1%\n",
       "-REML =  13234  Scale est. = 171.63    n = 3314"
      ]
     },
     "metadata": {},
     "output_type": "display_data"
    },
    {
     "data": {
      "text/html": [
       "0"
      ],
      "text/latex": [
       "0"
      ],
      "text/markdown": [
       "0"
      ],
      "text/plain": [
       "[1] 0"
      ]
     },
     "metadata": {},
     "output_type": "display_data"
    },
    {
     "data": {
      "text/html": [
       "<strong>null device:</strong> 1"
      ],
      "text/latex": [
       "\\textbf{null device:} 1"
      ],
      "text/markdown": [
       "**null device:** 1"
      ],
      "text/plain": [
       "null device \n",
       "          1 "
      ]
     },
     "metadata": {},
     "output_type": "display_data"
    },
    {
     "name": "stderr",
     "output_type": "stream",
     "text": [
      "Warning message:\n",
      "“Removed 9 rows containing missing values (geom_point).”\n",
      "Warning message:\n",
      "“Removed 9 rows containing missing values (geom_point).”\n",
      "Warning message:\n",
      "“Removed 3 row(s) containing missing values (geom_path).”\n",
      "Warning message:\n",
      "“Removed 3 row(s) containing missing values (geom_path).”\n",
      "Warning message:\n",
      "“Removed 3 row(s) containing missing values (geom_path).”\n"
     ]
    },
    {
     "data": {
      "text/html": [
       "<strong>null device:</strong> 1"
      ],
      "text/latex": [
       "\\textbf{null device:} 1"
      ],
      "text/markdown": [
       "**null device:** 1"
      ],
      "text/plain": [
       "null device \n",
       "          1 "
      ]
     },
     "metadata": {},
     "output_type": "display_data"
    }
   ],
   "source": [
    "datay = datax[datax$CBFTYPE =='SCRUB',]\n",
    "pnc = datay[datay$Datasets=='PNC',]\n",
    "nki = datay[datay$Datasets=='NKI',]\n",
    "age = datay[datay$Datasets=='AGE',]\n",
    "irr = datay[datay$Datasets=='IRR',]\n",
    "#ftd = datay[datay$Datasets=='FTD',]\n",
    "\n",
    "#############################################################\n",
    "cbf_Age_gam <- gam(CBF.GM ~ s(AGE, k=4), method=\"REML\", data = datay)\n",
    "\n",
    "#####################\n",
    "## Look at results ##\n",
    "#####################\n",
    "summary(cbf_Age_gam)\n",
    "\n",
    "## Nonlinear age effect\n",
    "Age_pval <- summary(cbf_Age_gam)$s.table[1,4]\n",
    "Age_pval\n",
    "\n",
    "####################################\n",
    "## Visualize Nonlinear Age Effect ##\n",
    "####################################\n",
    "plotdata <- visreg(cbf_Age_gam,'AGE',type = \"conditional\",scale = \"linear\", plot = FALSE)\n",
    "smooths <- data.frame(Variable = plotdata$meta$x, \n",
    "                      x=plotdata$fit[[plotdata$meta$x]], \n",
    "                      smooth=plotdata$fit$visregFit, \n",
    "                      lower=plotdata$fit$visregLwr, \n",
    "                      upper=plotdata$fit$visregUpr)\n",
    "predicts <- data.frame(Variable = \"dim1\", \n",
    "                       x=plotdata$res$AGE,\n",
    "                       y=plotdata$res$visregRes)\n",
    "\n",
    "CBF_Age_plot <- ggplot() + xlim(8, 85)+ ylim(0,140) +\n",
    "  #theme(legend.position = \"none\")  +\n",
    "  labs(x = \"Age (years)\", y = \"CBF(mL/100 g/min)\") +\n",
    "  theme(axis.title.x = element_text(size = rel(1.6))) +\n",
    "  theme(axis.title.y = element_text(size = rel(1.6))) + \n",
    "  theme(axis.text = element_text(size = rel(1.4))) + theme(axis.line = element_line(colour = 'black', size = 1.5), axis.ticks.length = unit(.25, \"cm\")) +\n",
    "  theme(panel.grid.major = element_blank(), panel.grid.minor = element_blank(), panel.background = element_blank()) +\n",
    "  geom_point(data = predicts, aes(x, y), colour = \"darksalmon\", alpha=0.7 ) +  \n",
    "  #geom_point(data=datay,aes(x=AGE, y=CBF.GM),size=1)+ \n",
    "  geom_point(data=pnc,aes(x=AGE, y=CBF.GM),shape=21,size=2,fill='#e34a33', color=\"white\")+ \n",
    "  geom_point(data=nki,aes(x=AGE, y=CBF.GM),shape=21,size=2,fill=\"#3182bd\", color=\"white\")+ \n",
    "  geom_point(data=irr,aes(x=AGE, y=CBF.GM),shape=21,size=2,fill=\"#31a354\", color=\"white\")+ \n",
    "  #geom_point(data=ftd,aes(x=AGE, y=CBF.GM),shape=21,size=2,fill=\"#d95f02\", color=\"white\")+ \n",
    "  geom_point(data=age,aes(x=AGE, y=CBF.GM),shape=21,size=2,fill=\"#c51b8a\", color=\"white\")+ \n",
    "  geom_line(data = smooths, aes(x = x, y = smooth), colour = \"midnightblue\",size=1) +\n",
    "  geom_line(data = smooths, aes(x = x, y=lower), linetype=\"dashed\", colour = \"midnightblue\", alpha = 0.9, size = 0.9) + \n",
    "  geom_line(data = smooths, aes(x = x, y=upper), linetype=\"dashed\",colour = \"midnightblue\", alpha = 0.9, size = 0.9) +\n",
    "  coord_cartesian(xlim = c(10.5,85), ylim = c(0,140))\n",
    "  \n",
    "  \n",
    " \n",
    "\n",
    "dev.off()\n",
    "\n",
    "## Export image\n",
    "png(filename=\"SCRUB_AGE_fit.png\",res = 600, width = 6, height = 4, units = 'in',)\n",
    "CBF_Age_plot\n",
    "dev.off()"
   ]
  },
  {
   "cell_type": "code",
   "execution_count": null,
   "metadata": {},
   "outputs": [],
   "source": []
  }
 ],
 "metadata": {
  "kernelspec": {
   "display_name": "R",
   "language": "R",
   "name": "ir"
  },
  "language_info": {
   "codemirror_mode": "r",
   "file_extension": ".r",
   "mimetype": "text/x-r-source",
   "name": "R",
   "pygments_lexer": "r",
   "version": "4.1.1"
  }
 },
 "nbformat": 4,
 "nbformat_minor": 4
}
