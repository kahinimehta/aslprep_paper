{
 "cells": [
  {
   "cell_type": "code",
   "execution_count": 1,
   "metadata": {},
   "outputs": [
    {
     "name": "stderr",
     "output_type": "stream",
     "text": [
      "Warning message:\n",
      "“package ‘ggplot2’ was built under R version 3.6.2”\n",
      "Warning message:\n",
      "“package ‘mgcv’ was built under R version 3.6.2”\n",
      "Loading required package: nlme\n",
      "\n",
      "Warning message:\n",
      "“package ‘nlme’ was built under R version 3.6.2”\n",
      "This is mgcv 1.8-35. For overview type 'help(\"mgcv-package\")'.\n",
      "\n",
      "Warning message:\n",
      "“package ‘visreg’ was built under R version 3.6.2”\n"
     ]
    }
   ],
   "source": [
    "library(ggplot2)\n",
    "library(mgcv)\n",
    "library(visreg)"
   ]
  },
  {
   "cell_type": "code",
   "execution_count": 2,
   "metadata": {},
   "outputs": [],
   "source": [
    "datax=read.csv('gmdata.csv')"
   ]
  },
  {
   "cell_type": "code",
   "execution_count": 4,
   "metadata": {},
   "outputs": [
    {
     "data": {
      "text/plain": [
       "\n",
       "Family: gaussian \n",
       "Link function: identity \n",
       "\n",
       "Formula:\n",
       "CBF.GM ~ s(AGE, k = 4)\n",
       "\n",
       "Parametric coefficients:\n",
       "            Estimate Std. Error t value Pr(>|t|)    \n",
       "(Intercept)  65.3339     0.2525   258.8   <2e-16 ***\n",
       "---\n",
       "Signif. codes:  0 ‘***’ 0.001 ‘**’ 0.01 ‘*’ 0.05 ‘.’ 0.1 ‘ ’ 1\n",
       "\n",
       "Approximate significance of smooth terms:\n",
       "        edf Ref.df    F p-value    \n",
       "s(AGE) 2.99      3 1018  <2e-16 ***\n",
       "---\n",
       "Signif. codes:  0 ‘***’ 0.001 ‘**’ 0.01 ‘*’ 0.05 ‘.’ 0.1 ‘ ’ 1\n",
       "\n",
       "R-sq.(adj) =  0.499   Deviance explained =   50%\n",
       "-REML =  12420  Scale est. = 195.11    n = 3061"
      ]
     },
     "metadata": {},
     "output_type": "display_data"
    },
    {
     "data": {
      "text/html": [
       "0"
      ],
      "text/latex": [
       "0"
      ],
      "text/markdown": [
       "0"
      ],
      "text/plain": [
       "[1] 0"
      ]
     },
     "metadata": {},
     "output_type": "display_data"
    },
    {
     "data": {
      "text/html": [
       "<strong>null device:</strong> 1"
      ],
      "text/latex": [
       "\\textbf{null device:} 1"
      ],
      "text/markdown": [
       "**null device:** 1"
      ],
      "text/plain": [
       "null device \n",
       "          1 "
      ]
     },
     "metadata": {},
     "output_type": "display_data"
    },
    {
     "name": "stderr",
     "output_type": "stream",
     "text": [
      "Warning message:\n",
      "“Removed 13 rows containing missing values (geom_point).”\n",
      "Warning message:\n",
      "“Removed 2 rows containing missing values (geom_point).”\n",
      "Warning message:\n",
      "“Removed 19 rows containing missing values (geom_point).”\n",
      "Warning message:\n",
      "“Removed 1 rows containing missing values (geom_point).”\n",
      "Warning message:\n",
      "“Removed 1 rows containing missing values (geom_point).”\n",
      "Warning message:\n",
      "“Removed 10 row(s) containing missing values (geom_path).”\n",
      "Warning message:\n",
      "“Removed 10 row(s) containing missing values (geom_path).”\n",
      "Warning message:\n",
      "“Removed 10 row(s) containing missing values (geom_path).”\n"
     ]
    },
    {
     "data": {
      "text/html": [
       "<strong>null device:</strong> 1"
      ],
      "text/latex": [
       "\\textbf{null device:} 1"
      ],
      "text/markdown": [
       "**null device:** 1"
      ],
      "text/plain": [
       "null device \n",
       "          1 "
      ]
     },
     "metadata": {},
     "output_type": "display_data"
    }
   ],
   "source": [
    "datay = datax[datax$CBF.TYPE =='CBF',]\n",
    "pnc = datay[datay$Datasets=='PNC',]\n",
    "nki = datay[datay$Datasets=='NKI',]\n",
    "age = datay[datay$Datasets=='AGE',]\n",
    "irr = datay[datay$Datasets=='IRR',]\n",
    "ftd = datay[datay$Datasets=='FTD',]\n",
    "\n",
    "#############################################################\n",
    "cbf_Age_gam <- gam(CBF.GM ~ s(AGE, k=4), method=\"REML\", data = datay)\n",
    "\n",
    "#####################\n",
    "## Look at results ##\n",
    "#####################\n",
    "summary(cbf_Age_gam)\n",
    "\n",
    "## Nonlinear age effect\n",
    "Age_pval <- summary(cbf_Age_gam)$s.table[1,4]\n",
    "Age_pval\n",
    "\n",
    "####################################\n",
    "## Visualize Nonlinear Age Effect ##\n",
    "####################################\n",
    "plotdata <- visreg(cbf_Age_gam,'AGE',type = \"conditional\",scale = \"linear\", plot = FALSE)\n",
    "smooths <- data.frame(Variable = plotdata$meta$x, \n",
    "                      x=plotdata$fit[[plotdata$meta$x]], \n",
    "                      smooth=plotdata$fit$visregFit, \n",
    "                      lower=plotdata$fit$visregLwr, \n",
    "                      upper=plotdata$fit$visregUpr)\n",
    "predicts <- data.frame(Variable = \"dim1\", \n",
    "                       x=plotdata$res$AGE,\n",
    "                       y=plotdata$res$visregRes)\n",
    "\n",
    "CBF_Age_plot <- ggplot() + xlim(8, 85)+ ylim(0,140) +\n",
    "  #theme(legend.position = \"none\")  +\n",
    "  labs(x = \"Age (years)\", y = \"CBF(mL/100 g/min)\") +\n",
    "  theme(axis.title.x = element_text(size = rel(1.6))) +\n",
    "  theme(axis.title.y = element_text(size = rel(1.6))) + \n",
    "  theme(axis.text = element_text(size = rel(1.4))) + theme(axis.line = element_line(colour = 'black', size = 1.5), axis.ticks.length = unit(.25, \"cm\")) +\n",
    "  theme(panel.grid.major = element_blank(), panel.grid.minor = element_blank(), panel.background = element_blank()) +\n",
    "  geom_point(data = predicts, aes(x, y), colour = \"darksalmon\", alpha=0.7 ) +  \n",
    "  #geom_point(data=datay,aes(x=AGE, y=CBF.GM),size=1)+ \n",
    "  geom_point(data=pnc,aes(x=AGE, y=CBF.GM),shape=21,size=2,fill='#e34a33', color=\"white\")+ \n",
    "  geom_point(data=nki,aes(x=AGE, y=CBF.GM),shape=21,size=2,fill=\"#3182bd\", color=\"white\")+ \n",
    "  geom_point(data=irr,aes(x=AGE, y=CBF.GM),shape=21,size=2,fill=\"#31a354\", color=\"white\")+ \n",
    "  geom_point(data=ftd,aes(x=AGE, y=CBF.GM),shape=21,size=2,fill=\"#d95f02\", color=\"white\")+ \n",
    "  geom_point(data=age,aes(x=AGE, y=CBF.GM),shape=21,size=2,fill=\"#c51b8a\", color=\"white\")+ \n",
    "  geom_line(data = smooths, aes(x = x, y = smooth), colour = \"midnightblue\",size=1) +\n",
    "  geom_line(data = smooths, aes(x = x, y=lower), linetype=\"dashed\", colour = \"midnightblue\", alpha = 0.9, size = 0.9) + \n",
    "  geom_line(data = smooths, aes(x = x, y=upper), linetype=\"dashed\",colour = \"midnightblue\", alpha = 0.9, size = 0.9) +\n",
    "  coord_cartesian(xlim = c(10.5,85), ylim = c(0,140))\n",
    "  \n",
    "  \n",
    " \n",
    "\n",
    "dev.off()\n",
    "\n",
    "## Export image\n",
    "png(filename=\"CBF_AGE_fit.png\",res = 600, width = 4, height = 4, units = 'in',)\n",
    "CBF_Age_plot\n",
    "dev.off()\n"
   ]
  },
  {
   "cell_type": "code",
   "execution_count": 4,
   "metadata": {},
   "outputs": [
    {
     "data": {
      "text/plain": [
       "\n",
       "Family: gaussian \n",
       "Link function: identity \n",
       "\n",
       "Formula:\n",
       "CBF.GM ~ s(AGE, k = 4)\n",
       "\n",
       "Parametric coefficients:\n",
       "            Estimate Std. Error t value Pr(>|t|)    \n",
       "(Intercept)  63.2795     0.2274   278.2   <2e-16 ***\n",
       "---\n",
       "Signif. codes:  0 ‘***’ 0.001 ‘**’ 0.01 ‘*’ 0.05 ‘.’ 0.1 ‘ ’ 1\n",
       "\n",
       "Approximate significance of smooth terms:\n",
       "         edf Ref.df     F p-value    \n",
       "s(AGE) 2.995      3 800.5  <2e-16 ***\n",
       "---\n",
       "Signif. codes:  0 ‘***’ 0.001 ‘**’ 0.01 ‘*’ 0.05 ‘.’ 0.1 ‘ ’ 1\n",
       "\n",
       "R-sq.(adj) =  0.439   Deviance explained =   44%\n",
       "-REML =  12101  Scale est. = 158.32    n = 3061"
      ]
     },
     "metadata": {},
     "output_type": "display_data"
    },
    {
     "data": {
      "text/html": [
       "0"
      ],
      "text/latex": [
       "0"
      ],
      "text/markdown": [
       "0"
      ],
      "text/plain": [
       "[1] 0"
      ]
     },
     "metadata": {},
     "output_type": "display_data"
    },
    {
     "data": {
      "text/html": [
       "<strong>null device:</strong> 1"
      ],
      "text/latex": [
       "\\textbf{null device:} 1"
      ],
      "text/markdown": [
       "**null device:** 1"
      ],
      "text/plain": [
       "null device \n",
       "          1 "
      ]
     },
     "metadata": {},
     "output_type": "display_data"
    },
    {
     "name": "stderr",
     "output_type": "stream",
     "text": [
      "Warning message:\n",
      "“Removed 229 rows containing missing values (geom_point).”\n",
      "Warning message:\n",
      "“Removed 149 rows containing missing values (geom_point).”\n",
      "Warning message:\n",
      "“Removed 88 rows containing missing values (geom_point).”\n",
      "Warning message:\n",
      "“Removed 1 rows containing missing values (geom_point).”\n",
      "Warning message:\n",
      "“Removed 1 rows containing missing values (geom_point).”\n",
      "Warning message:\n",
      "“Removed 12 row(s) containing missing values (geom_path).”\n",
      "Warning message:\n",
      "“Removed 12 row(s) containing missing values (geom_path).”\n",
      "Warning message:\n",
      "“Removed 12 row(s) containing missing values (geom_path).”\n"
     ]
    },
    {
     "data": {
      "text/html": [
       "<strong>null device:</strong> 1"
      ],
      "text/latex": [
       "\\textbf{null device:} 1"
      ],
      "text/markdown": [
       "**null device:** 1"
      ],
      "text/plain": [
       "null device \n",
       "          1 "
      ]
     },
     "metadata": {},
     "output_type": "display_data"
    }
   ],
   "source": [
    "datay = datax[datax$CBF.TYPE =='BASIL',]\n",
    "pnc = datay[datay$Datasets=='PNC',]\n",
    "nki = datay[datay$Datasets=='NKI',]\n",
    "age = datay[datay$Datasets=='AGE',]\n",
    "irr = datay[datay$Datasets=='IRR',]\n",
    "ftd = datay[datay$Datasets=='FTD',]\n",
    "\n",
    "#############################################################\n",
    "cbf_Age_gam <- gam(CBF.GM ~ s(AGE, k=4), method=\"REML\", data = datay)\n",
    "\n",
    "#####################\n",
    "## Look at results ##\n",
    "#####################\n",
    "summary(cbf_Age_gam)\n",
    "\n",
    "## Nonlinear age effect\n",
    "Age_pval <- summary(cbf_Age_gam)$s.table[1,4]\n",
    "Age_pval\n",
    "\n",
    "####################################\n",
    "## Visualize Nonlinear Age Effect ##\n",
    "####################################\n",
    "plotdata <- visreg(cbf_Age_gam,'AGE',type = \"conditional\",scale = \"linear\", plot = FALSE)\n",
    "smooths <- data.frame(Variable = plotdata$meta$x, \n",
    "                      x=plotdata$fit[[plotdata$meta$x]], \n",
    "                      smooth=plotdata$fit$visregFit, \n",
    "                      lower=plotdata$fit$visregLwr, \n",
    "                      upper=plotdata$fit$visregUpr)\n",
    "predicts <- data.frame(Variable = \"dim1\", \n",
    "                       x=plotdata$res$AGE,\n",
    "                       y=plotdata$res$visregRes)\n",
    "\n",
    "CBF_Age_plot <- ggplot() + xlim(10, 85)+ ylim(0,140) +\n",
    "  #theme(legend.position = \"none\")  +\n",
    "  labs(x = \"Age (years)\", y = \"CBF(mL/100 g/min)\") +\n",
    "  theme(axis.title.x = element_text(size = rel(1.6))) +\n",
    "  theme(axis.title.y = element_text(size = rel(1.6))) + \n",
    "  theme(axis.text = element_text(size = rel(1.4))) + theme(axis.line = element_line(colour = 'black', size = 1.5), axis.ticks.length = unit(.25, \"cm\")) +\n",
    "  theme(panel.grid.major = element_blank(), panel.grid.minor = element_blank(), panel.background = element_blank()) +\n",
    "  geom_point(data = predicts, aes(x, y), colour = \"darksalmon\", alpha=0.7 ) +  \n",
    "  #geom_point(data=datay,aes(x=AGE, y=CBF.GM),size=1)+ \n",
    "  geom_point(data=pnc,aes(x=AGE, y=CBF.GM),shape=21,size=2,fill='#e34a33', color=\"white\")+ \n",
    "  geom_point(data=nki,aes(x=AGE, y=CBF.GM),shape=21,size=2,fill=\"#3182bd\", color=\"white\")+ \n",
    "  geom_point(data=irr,aes(x=AGE, y=CBF.GM),shape=21,size=2,fill=\"#31a354\", color=\"white\")+ \n",
    "  geom_point(data=ftd,aes(x=AGE, y=CBF.GM),shape=21,size=2,fill=\"#d95f02\", color=\"white\")+ \n",
    "  geom_point(data=age,aes(x=AGE, y=CBF.GM),shape=21,size=2,fill=\"#c51b8a\", color=\"white\")+ \n",
    "  geom_line(data = smooths, aes(x = x, y = smooth), colour = \"midnightblue\",size=1) +\n",
    "  geom_line(data = smooths, aes(x = x, y=lower), linetype=\"dashed\", colour = \"midnightblue\", alpha = 0.9, size = 0.9) + \n",
    "  geom_line(data = smooths, aes(x = x, y=upper), linetype=\"dashed\",colour = \"midnightblue\", alpha = 0.9, size = 0.9) +\n",
    "  coord_cartesian(xlim = c(10.5,85), ylim = c(0,140))\n",
    "  \n",
    "  \n",
    " \n",
    "\n",
    "dev.off()\n",
    "\n",
    "## Export image\n",
    "png(filename=\"BASIL_AGE_fit.png\",res = 600, width = 4, height = 4, units = 'in',)\n",
    "CBF_Age_plot\n",
    "dev.off()"
   ]
  },
  {
   "cell_type": "code",
   "execution_count": 5,
   "metadata": {},
   "outputs": [
    {
     "data": {
      "text/plain": [
       "\n",
       "Family: gaussian \n",
       "Link function: identity \n",
       "\n",
       "Formula:\n",
       "CBF.GM ~ s(AGE, k = 4)\n",
       "\n",
       "Parametric coefficients:\n",
       "            Estimate Std. Error t value Pr(>|t|)    \n",
       "(Intercept)  69.1600     0.2688   257.3   <2e-16 ***\n",
       "---\n",
       "Signif. codes:  0 ‘***’ 0.001 ‘**’ 0.01 ‘*’ 0.05 ‘.’ 0.1 ‘ ’ 1\n",
       "\n",
       "Approximate significance of smooth terms:\n",
       "        edf Ref.df     F p-value    \n",
       "s(AGE) 2.99      3 995.5  <2e-16 ***\n",
       "---\n",
       "Signif. codes:  0 ‘***’ 0.001 ‘**’ 0.01 ‘*’ 0.05 ‘.’ 0.1 ‘ ’ 1\n",
       "\n",
       "R-sq.(adj) =  0.494   Deviance explained = 49.4%\n",
       "-REML =  12611  Scale est. = 221.09    n = 3061"
      ]
     },
     "metadata": {},
     "output_type": "display_data"
    },
    {
     "data": {
      "text/html": [
       "0"
      ],
      "text/latex": [
       "0"
      ],
      "text/markdown": [
       "0"
      ],
      "text/plain": [
       "[1] 0"
      ]
     },
     "metadata": {},
     "output_type": "display_data"
    },
    {
     "data": {
      "text/html": [
       "<strong>null device:</strong> 1"
      ],
      "text/latex": [
       "\\textbf{null device:} 1"
      ],
      "text/markdown": [
       "**null device:** 1"
      ],
      "text/plain": [
       "null device \n",
       "          1 "
      ]
     },
     "metadata": {},
     "output_type": "display_data"
    },
    {
     "name": "stderr",
     "output_type": "stream",
     "text": [
      "Warning message:\n",
      "“Removed 16 rows containing missing values (geom_point).”\n",
      "Warning message:\n",
      "“Removed 2 rows containing missing values (geom_point).”\n",
      "Warning message:\n",
      "“Removed 22 rows containing missing values (geom_point).”\n",
      "Warning message:\n",
      "“Removed 1 rows containing missing values (geom_point).”\n",
      "Warning message:\n",
      "“Removed 1 rows containing missing values (geom_point).”\n",
      "Warning message:\n",
      "“Removed 10 row(s) containing missing values (geom_path).”\n",
      "Warning message:\n",
      "“Removed 10 row(s) containing missing values (geom_path).”\n",
      "Warning message:\n",
      "“Removed 10 row(s) containing missing values (geom_path).”\n"
     ]
    },
    {
     "data": {
      "text/html": [
       "<strong>null device:</strong> 1"
      ],
      "text/latex": [
       "\\textbf{null device:} 1"
      ],
      "text/markdown": [
       "**null device:** 1"
      ],
      "text/plain": [
       "null device \n",
       "          1 "
      ]
     },
     "metadata": {},
     "output_type": "display_data"
    }
   ],
   "source": [
    "datay = datax[datax$CBF.TYPE =='PVC',]\n",
    "pnc = datay[datay$Datasets=='PNC',]\n",
    "nki = datay[datay$Datasets=='NKI',]\n",
    "age = datay[datay$Datasets=='AGE',]\n",
    "irr = datay[datay$Datasets=='IRR',]\n",
    "ftd = datay[datay$Datasets=='FTD',]\n",
    "\n",
    "#############################################################\n",
    "cbf_Age_gam <- gam(CBF.GM ~ s(AGE, k=4), method=\"REML\", data = datay)\n",
    "\n",
    "#####################\n",
    "## Look at results ##\n",
    "#####################\n",
    "summary(cbf_Age_gam)\n",
    "\n",
    "## Nonlinear age effect\n",
    "Age_pval <- summary(cbf_Age_gam)$s.table[1,4]\n",
    "Age_pval\n",
    "\n",
    "####################################\n",
    "## Visualize Nonlinear Age Effect ##\n",
    "####################################\n",
    "plotdata <- visreg(cbf_Age_gam,'AGE',type = \"conditional\",scale = \"linear\", plot = FALSE)\n",
    "smooths <- data.frame(Variable = plotdata$meta$x, \n",
    "                      x=plotdata$fit[[plotdata$meta$x]], \n",
    "                      smooth=plotdata$fit$visregFit, \n",
    "                      lower=plotdata$fit$visregLwr, \n",
    "                      upper=plotdata$fit$visregUpr)\n",
    "predicts <- data.frame(Variable = \"dim1\", \n",
    "                       x=plotdata$res$AGE,\n",
    "                       y=plotdata$res$visregRes)\n",
    "\n",
    "CBF_Age_plot <- ggplot() + xlim(8, 85)+ ylim(0,140) +\n",
    "  #theme(legend.position = \"none\")  +\n",
    "  labs(x = \"Age (years)\", y = \"CBF(mL/100 g/min)\") +\n",
    "  theme(axis.title.x = element_text(size = rel(1.6))) +\n",
    "  theme(axis.title.y = element_text(size = rel(1.6))) + \n",
    "  theme(axis.text = element_text(size = rel(1.4))) + theme(axis.line = element_line(colour = 'black', size = 1.5), axis.ticks.length = unit(.25, \"cm\")) +\n",
    "  theme(panel.grid.major = element_blank(), panel.grid.minor = element_blank(), panel.background = element_blank()) +\n",
    "  geom_point(data = predicts, aes(x, y), colour = \"darksalmon\", alpha=0.7 ) +  \n",
    "  #geom_point(data=datay,aes(x=AGE, y=CBF.GM),size=1)+ \n",
    "  geom_point(data=pnc,aes(x=AGE, y=CBF.GM),shape=21,size=2,fill='#e34a33', color=\"white\")+ \n",
    "  geom_point(data=nki,aes(x=AGE, y=CBF.GM),shape=21,size=2,fill=\"#3182bd\", color=\"white\")+ \n",
    "  geom_point(data=irr,aes(x=AGE, y=CBF.GM),shape=21,size=2,fill=\"#31a354\", color=\"white\")+ \n",
    "  geom_point(data=ftd,aes(x=AGE, y=CBF.GM),shape=21,size=2,fill=\"#d95f02\", color=\"white\")+ \n",
    "  geom_point(data=age,aes(x=AGE, y=CBF.GM),shape=21,size=2,fill=\"#c51b8a\", color=\"white\")+ \n",
    "  geom_line(data = smooths, aes(x = x, y = smooth), colour = \"midnightblue\",size=1) +\n",
    "  geom_line(data = smooths, aes(x = x, y=lower), linetype=\"dashed\", colour = \"midnightblue\", alpha = 0.9, size = 0.9) + \n",
    "  geom_line(data = smooths, aes(x = x, y=upper), linetype=\"dashed\",colour = \"midnightblue\", alpha = 0.9, size = 0.9) +\n",
    " coord_cartesian(xlim = c(10.5,85), ylim = c(0,140))\n",
    "  \n",
    "  \n",
    " \n",
    "\n",
    "dev.off()\n",
    "\n",
    "## Export image\n",
    "png(filename=\"PVC_AGE_fit.png\",res = 600, width = 6, height = 4, units = 'in',)\n",
    "CBF_Age_plot\n",
    "dev.off()"
   ]
  },
  {
   "cell_type": "code",
   "execution_count": 6,
   "metadata": {},
   "outputs": [
    {
     "data": {
      "text/plain": [
       "\n",
       "Family: gaussian \n",
       "Link function: identity \n",
       "\n",
       "Formula:\n",
       "CBF.GM ~ s(AGE, k = 4)\n",
       "\n",
       "Parametric coefficients:\n",
       "            Estimate Std. Error t value Pr(>|t|)    \n",
       "(Intercept)  64.2066     0.2449   262.2   <2e-16 ***\n",
       "---\n",
       "Signif. codes:  0 ‘***’ 0.001 ‘**’ 0.01 ‘*’ 0.05 ‘.’ 0.1 ‘ ’ 1\n",
       "\n",
       "Approximate significance of smooth terms:\n",
       "         edf Ref.df     F p-value    \n",
       "s(AGE) 2.992      3 996.7  <2e-16 ***\n",
       "---\n",
       "Signif. codes:  0 ‘***’ 0.001 ‘**’ 0.01 ‘*’ 0.05 ‘.’ 0.1 ‘ ’ 1\n",
       "\n",
       "R-sq.(adj) =  0.503   Deviance explained = 50.4%\n",
       "-REML =  11825  Scale est. = 176.86    n = 2950"
      ]
     },
     "metadata": {},
     "output_type": "display_data"
    },
    {
     "data": {
      "text/html": [
       "0"
      ],
      "text/latex": [
       "0"
      ],
      "text/markdown": [
       "0"
      ],
      "text/plain": [
       "[1] 0"
      ]
     },
     "metadata": {},
     "output_type": "display_data"
    },
    {
     "data": {
      "text/html": [
       "<strong>null device:</strong> 1"
      ],
      "text/latex": [
       "\\textbf{null device:} 1"
      ],
      "text/markdown": [
       "**null device:** 1"
      ],
      "text/plain": [
       "null device \n",
       "          1 "
      ]
     },
     "metadata": {},
     "output_type": "display_data"
    },
    {
     "name": "stderr",
     "output_type": "stream",
     "text": [
      "Warning message:\n",
      "“Removed 10 rows containing missing values (geom_point).”\n",
      "Warning message:\n",
      "“Removed 19 rows containing missing values (geom_point).”\n",
      "Warning message:\n",
      "“Removed 1 rows containing missing values (geom_point).”\n",
      "Warning message:\n",
      "“Removed 3 row(s) containing missing values (geom_path).”\n",
      "Warning message:\n",
      "“Removed 3 row(s) containing missing values (geom_path).”\n",
      "Warning message:\n",
      "“Removed 3 row(s) containing missing values (geom_path).”\n"
     ]
    },
    {
     "data": {
      "text/html": [
       "<strong>null device:</strong> 1"
      ],
      "text/latex": [
       "\\textbf{null device:} 1"
      ],
      "text/markdown": [
       "**null device:** 1"
      ],
      "text/plain": [
       "null device \n",
       "          1 "
      ]
     },
     "metadata": {},
     "output_type": "display_data"
    }
   ],
   "source": [
    "datay = datax[datax$CBF.TYPE =='SCRUB',]\n",
    "pnc = datay[datay$Datasets=='PNC',]\n",
    "nki = datay[datay$Datasets=='NKI',]\n",
    "age = datay[datay$Datasets=='AGE',]\n",
    "irr = datay[datay$Datasets=='IRR',]\n",
    "#ftd = datay[datay$Datasets=='FTD',]\n",
    "\n",
    "#############################################################\n",
    "cbf_Age_gam <- gam(CBF.GM ~ s(AGE, k=4), method=\"REML\", data = datay)\n",
    "\n",
    "#####################\n",
    "## Look at results ##\n",
    "#####################\n",
    "summary(cbf_Age_gam)\n",
    "\n",
    "## Nonlinear age effect\n",
    "Age_pval <- summary(cbf_Age_gam)$s.table[1,4]\n",
    "Age_pval\n",
    "\n",
    "####################################\n",
    "## Visualize Nonlinear Age Effect ##\n",
    "####################################\n",
    "plotdata <- visreg(cbf_Age_gam,'AGE',type = \"conditional\",scale = \"linear\", plot = FALSE)\n",
    "smooths <- data.frame(Variable = plotdata$meta$x, \n",
    "                      x=plotdata$fit[[plotdata$meta$x]], \n",
    "                      smooth=plotdata$fit$visregFit, \n",
    "                      lower=plotdata$fit$visregLwr, \n",
    "                      upper=plotdata$fit$visregUpr)\n",
    "predicts <- data.frame(Variable = \"dim1\", \n",
    "                       x=plotdata$res$AGE,\n",
    "                       y=plotdata$res$visregRes)\n",
    "\n",
    "CBF_Age_plot <- ggplot() + xlim(8, 85)+ ylim(0,140) +\n",
    "  #theme(legend.position = \"none\")  +\n",
    "  labs(x = \"Age (years)\", y = \"CBF(mL/100 g/min)\") +\n",
    "  theme(axis.title.x = element_text(size = rel(1.6))) +\n",
    "  theme(axis.title.y = element_text(size = rel(1.6))) + \n",
    "  theme(axis.text = element_text(size = rel(1.4))) + theme(axis.line = element_line(colour = 'black', size = 1.5), axis.ticks.length = unit(.25, \"cm\")) +\n",
    "  theme(panel.grid.major = element_blank(), panel.grid.minor = element_blank(), panel.background = element_blank()) +\n",
    "  geom_point(data = predicts, aes(x, y), colour = \"darksalmon\", alpha=0.7 ) +  \n",
    "  #geom_point(data=datay,aes(x=AGE, y=CBF.GM),size=1)+ \n",
    "  geom_point(data=pnc,aes(x=AGE, y=CBF.GM),shape=21,size=2,fill='#e34a33', color=\"white\")+ \n",
    "  geom_point(data=nki,aes(x=AGE, y=CBF.GM),shape=21,size=2,fill=\"#3182bd\", color=\"white\")+ \n",
    "  geom_point(data=irr,aes(x=AGE, y=CBF.GM),shape=21,size=2,fill=\"#31a354\", color=\"white\")+ \n",
    "  #geom_point(data=ftd,aes(x=AGE, y=CBF.GM),shape=21,size=2,fill=\"#d95f02\", color=\"white\")+ \n",
    "  geom_point(data=age,aes(x=AGE, y=CBF.GM),shape=21,size=2,fill=\"#c51b8a\", color=\"white\")+ \n",
    "  geom_line(data = smooths, aes(x = x, y = smooth), colour = \"midnightblue\",size=1) +\n",
    "  geom_line(data = smooths, aes(x = x, y=lower), linetype=\"dashed\", colour = \"midnightblue\", alpha = 0.9, size = 0.9) + \n",
    "  geom_line(data = smooths, aes(x = x, y=upper), linetype=\"dashed\",colour = \"midnightblue\", alpha = 0.9, size = 0.9) +\n",
    "  coord_cartesian(xlim = c(10.5,85), ylim = c(0,140))\n",
    "  \n",
    "  \n",
    " \n",
    "\n",
    "dev.off()\n",
    "\n",
    "## Export image\n",
    "png(filename=\"SCRUB_AGE_fit.png\",res = 600, width = 6, height = 4, units = 'in',)\n",
    "CBF_Age_plot\n",
    "dev.off()"
   ]
  },
  {
   "cell_type": "code",
   "execution_count": null,
   "metadata": {},
   "outputs": [],
   "source": []
  }
 ],
 "metadata": {
  "kernelspec": {
   "display_name": "R",
   "language": "R",
   "name": "ir"
  },
  "language_info": {
   "codemirror_mode": "r",
   "file_extension": ".r",
   "mimetype": "text/x-r-source",
   "name": "R",
   "pygments_lexer": "r",
   "version": "3.6.1"
  }
 },
 "nbformat": 4,
 "nbformat_minor": 4
}
